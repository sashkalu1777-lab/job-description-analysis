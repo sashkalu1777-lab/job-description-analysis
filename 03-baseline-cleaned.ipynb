{
 "cells": [
  {
   "cell_type": "markdown",
   "id": "a81a4267",
   "metadata": {},
   "source": [
    "# Baseline without RAG."
   ]
  },
  {
   "cell_type": "markdown",
   "id": "639c1bf4",
   "metadata": {},
   "source": [
    "Import packages."
   ]
  },
  {
   "cell_type": "code",
   "execution_count": 1,
   "id": "3438b483",
   "metadata": {},
   "outputs": [],
   "source": [
    "import ast\n",
    "import os\n",
    "import pandas as pd\n",
    "\n",
    "from datetime import datetime\n",
    "from dotenv import load_dotenv\n",
    "from json import loads, dumps\n",
    "from langchain.tools import tool\n",
    "\n",
    "\n",
    "from pydantic import BaseModel, Field\n",
    "from typing import Annotated, Sequence, TypedDict, Literal\n",
    "\n",
    "from IPython.display import Image, display\n",
    "\n",
    "\n",
    "from langchain_core.messages import BaseMessage, HumanMessage\n",
    "from langchain_core.output_parsers import StrOutputParser\n",
    "from langchain_core.prompts import PromptTemplate\n",
    "\n",
    "from langchain_openai import OpenAIEmbeddings, ChatOpenAI\n",
    "\n",
    "from langfuse import Langfuse, get_client\n",
    "from langfuse.langchain import CallbackHandler\n",
    "from langfuse.openai import openai  # Don't delete this line.\n",
    "\n",
    "from langgraph.checkpoint.memory import MemorySaver\n",
    "from langgraph.graph import START, END, StateGraph\n",
    "from langgraph.graph.message import add_messages\n",
    "from langgraph.prebuilt import tools_condition, ToolNode"
   ]
  },
  {
   "cell_type": "markdown",
   "id": "222df19d",
   "metadata": {},
   "source": [
    "Set up environment variables."
   ]
  },
  {
   "cell_type": "code",
   "execution_count": 2,
   "id": "696f7d7b",
   "metadata": {},
   "outputs": [
    {
     "name": "stdout",
     "output_type": "stream",
     "text": [
      "OpenAI API Key exists and begins sk-proj-\n"
     ]
    }
   ],
   "source": [
    "# Set up environment variables.\n",
    "load_dotenv(override=True)\n",
    "openai_api_key = os.getenv('OPENAI_API_KEY')\n",
    "\n",
    "# Monitor if the environment variables are ready.\n",
    "if openai_api_key:\n",
    "    print(f\"OpenAI API Key exists and begins {openai_api_key[:8]}\")\n",
    "else:\n",
    "    print(\"OpenAI API Key not set - please head to the troubleshooting guide in the setup folder\")"
   ]
  },
  {
   "cell_type": "code",
   "execution_count": 3,
   "id": "f5736d0f",
   "metadata": {},
   "outputs": [
    {
     "name": "stdout",
     "output_type": "stream",
     "text": [
      "Langfuse client is authenticated and ready!\n"
     ]
    }
   ],
   "source": [
    "langfuse_secret_key = os.getenv('LANGFUSE_SECRET_KEY')\n",
    "langfuse_public_key = os.getenv('LANGFUSE_PUBLIC_KEY')\n",
    "langfuse = Langfuse(\n",
    "    secret_key = langfuse_secret_key,\n",
    "    public_key = langfuse_public_key,\n",
    "    host=\"https://cloud.langfuse.com\"\n",
    "    # host = \"https://us.cloud.langfuse.com\"\n",
    ")\n",
    "\n",
    "langfuse = get_client()\n",
    " \n",
    "# Verify connection\n",
    "if langfuse.auth_check():\n",
    "    print(\"Langfuse client is authenticated and ready!\")\n",
    "else:\n",
    "    print(\"Authentication failed. Please check your credentials and host.\")"
   ]
  },
  {
   "cell_type": "code",
   "execution_count": 4,
   "id": "33fbeafe",
   "metadata": {},
   "outputs": [],
   "source": [
    "completion = openai.chat.completions.create(\n",
    "  name=\"test-chat\",\n",
    "  model=\"gpt-4o\",\n",
    "  messages=[\n",
    "      {\"role\": \"system\", \"content\": \"You are a very accurate calculator. You output only the result of the calculation.\"},\n",
    "      {\"role\": \"user\", \"content\": \"1 + 1 = \"}],\n",
    "  metadata={\"someMetadataKey\": \"someValue\"},\n",
    ")"
   ]
  },
  {
   "cell_type": "markdown",
   "id": "d45a89de",
   "metadata": {},
   "source": [
    "Define supporting variables and functions."
   ]
  },
  {
   "cell_type": "code",
   "execution_count": 5,
   "id": "d26637a2",
   "metadata": {},
   "outputs": [],
   "source": [
    "def format_job_descriptions(jd_dataframe):\n",
    "    if isinstance(jd_dataframe, pd.Series):\n",
    "        jd_dataframe = jd_dataframe.to_frame().T\n",
    "    result = jd_dataframe.to_json(orient='records')\n",
    "    return result"
   ]
  },
  {
   "cell_type": "markdown",
   "id": "f6542a8e",
   "metadata": {},
   "source": [
    "Function test."
   ]
  },
  {
   "cell_type": "code",
   "execution_count": 6,
   "id": "21b4bb70",
   "metadata": {},
   "outputs": [
    {
     "name": "stdout",
     "output_type": "stream",
     "text": [
      "[\n",
      "    {\n",
      "        \"title\": \"Driver / Tour Guide for Coach & 4WD Coach Tours\",\n",
      "        \"abstract\": \"This role includes conducting 1-20 Day Tours to a range of locations all over Australia with mature passengers for a well established family company.\",\n",
      "        \"job_description_clean\": \"Casey Australia Tours require a experienced Coach Drivers / Tour Guide for the rest of the 2019 season of extended motel and/or camping tours starting mid/late June The role requires driving, minor coach maintenance, cleaning, guiding and commentating plus some cooking. The ideal person should have; 1. A sense of humour and engaging personality 2. Initiative and problem solving skills 3. Confidence and be a good public speaker 4. A current manual HR drivers licence with F endorsement. (or ability to get one quickly) 5. A safe driving record 6. Clear Criminal History 7. Experience in some field that can be related 8. First Aid Training 9. Good Navigation in remote and city areas Handy assets to have; 1. Mechanical Knowledge 2. Camping experience 3. Group Cooking Experience Our passengers are mainly Australian adults from 50 - 80+ years old. Each tour is run by 1 - 2 Staff caring for up to 48 passengers. It is essential that staff cooperate well and work closely together. This is an interesting, exciting, varied and extremely rewarding role. It's an enjoyable lifestyle with its share of hard days but also has a lot of fun easy days in some stunning locations. To view our range of tours visit www.caseytours.com.au/calendar/ To get a better idea of the places, people and coaches go to our Facebook page, www.facebook.com/CaseyAustraliaTours Rate of Pay $300 - $350 Per day (depending on experience and knowledge) + Super Work is on a tour by tour basis from mid /late June, scheduling is roughly two weeks on and one off but varies. The season goes through to November with ongoing employment for available. For the right applicant the role could be based in nearly any capital city flying in and out to different towns to start and finish tours. If you feel you are up to the challenge, please: 1. Reply to this ad on Seek 2. Send a CV and Cover Letter by email to tcasey@caseytours.com.au\",\n",
      "        \"classification\": \"Hospitality & Tourism\",\n",
      "        \"subClassification\": \"Tour Guides\",\n",
      "        \"area\": null,\n",
      "        \"location\": \"Perth\",\n",
      "        \"suburb\": null,\n",
      "        \"workType\": \"Casual/Vacation\"\n",
      "    }\n",
      "]\n"
     ]
    }
   ],
   "source": [
    "df = pd.read_csv(\"data/X_test.csv\")\n",
    "test = df.iloc[0, :]\n",
    "if isinstance(test, pd.Series):\n",
    "        test = test.to_frame().T\n",
    "json_records = test.to_json(orient='records')\n",
    "parsed = loads(json_records)\n",
    "print(dumps(parsed, indent=4) )"
   ]
  },
  {
   "cell_type": "markdown",
   "id": "d3f70729",
   "metadata": {},
   "source": [
    "Define Graph Sate."
   ]
  },
  {
   "cell_type": "code",
   "execution_count": 7,
   "id": "0089e207",
   "metadata": {},
   "outputs": [],
   "source": [
    "class AgentState(TypedDict):\n",
    "    \"\"\"\n",
    "    Represents the state of graph.\n",
    "\n",
    "    Attributes:\n",
    "        messages: A list of messages in the conversation, including user input and agent outputs.\n",
    "\n",
    "    Notes:\n",
    "        The add_messages function defines how an update should be processed.\n",
    "        Default is to replace. add_messages says \"append\".\n",
    "    \"\"\"\n",
    "    messages: Annotated[Sequence[BaseMessage], add_messages]"
   ]
  },
  {
   "cell_type": "markdown",
   "id": "afbf385b",
   "metadata": {},
   "source": [
    "Deinfe Basic Nodes."
   ]
  },
  {
   "cell_type": "markdown",
   "id": "7de3a90f",
   "metadata": {},
   "source": [
    "Input: job description strings.\n",
    "\n",
    "Host node\n",
    "\n",
    "Conditional Edge: whether the question is about to check job descriptions.\n",
    "\n",
    "If not, return generate.\n",
    "\n",
    "If yes, go to next node.\n",
    "\n",
    "Get industry information and professional skills.\n",
    "\n",
    "Get general requirements.\n",
    "\n",
    "Evaluate the job advertisement.\n",
    "\n",
    "Refine the job advertisement.\n",
    "\n"
   ]
  },
  {
   "cell_type": "code",
   "execution_count": 8,
   "id": "751d1d5a",
   "metadata": {},
   "outputs": [],
   "source": [
    "def host_agent(state):\n",
    "    \"\"\"\n",
    "    Invokes the whole workflow and monitor the state.\n",
    "\n",
    "    Args:\n",
    "        state (messages): The current state\n",
    "\n",
    "    Returns:\n",
    "        dict: The updated state with the agent response appended to messages\n",
    "    \"\"\"\n",
    "    \n",
    "    print(\"---CALL HOST AGENT---\")\n",
    "    messages = state[\"messages\"][-1].content\n",
    "    \n",
    "    model = ChatOpenAI(temperature=0, streaming=True, model=\"gpt-4-turbo\")\n",
    "    response = model.invoke(messages)\n",
    "    \n",
    "    return {\"messages\": [response]}"
   ]
  },
  {
   "cell_type": "code",
   "execution_count": 9,
   "id": "f7a8e474",
   "metadata": {},
   "outputs": [],
   "source": [
    "def industry_agent(state, config):\n",
    "    \"\"\"\n",
    "    Generate answer. The core of RAG.\n",
    "\n",
    "    Args:\n",
    "        state (messages): The current state\n",
    "\n",
    "    Returns:\n",
    "         dict: The updated state with re-phrased question\n",
    "    \"\"\"\n",
    "    print(\"---CALL INDUSTRY AGENT---\")\n",
    "\n",
    "    # Prompt\n",
    "    prompt = PromptTemplate(\n",
    "        template=\"\"\"\n",
    "            You are a helpful assistant that extracts structured information from a batch of job advertisements.\n",
    "\n",
    "            Input job ad:\n",
    "            {job_text}\n",
    "\n",
    "            Instruction:\n",
    "            Extract the following fields from the given batch of different job ads. If a field is not present, return an empty list for that field.\n",
    "\n",
    "            - skills: short list of skills, tools, technologies (e.g., \"Python\", \"SQL\", \"scikit-learn\", \"communication\")\n",
    "            - responsibilities: short concise list of responsibilities / duties described in the ad\n",
    "            - requirements: candidate requirements such as experience, qualifications, degrees, certifications, years of experience\n",
    "\n",
    "            Return a list of JSON objects ONLY with keys: \"job_title\", \"skills\", \"responsibilities\", \"requirements\", \"classification\", \"salary\". \n",
    "\n",
    "            Example:\n",
    "            {{\"job_title\": [\"Data Scientist\"], \"skills\": [\"Python\", \"SQL\"], \"responsibilities\": [\"build predictive models\"], \"requirements\": [\"3+ years experience\", \"Bachelor's degree\"], \"classification\":[\"Information & Communication Technology\"], \"salary\":[\"150,000 AUD\"]}}\n",
    "        \"\"\",\n",
    "        input_variables=[\"job_text\"],\n",
    "    )\n",
    "\n",
    "    # LLM\n",
    "    llm = ChatOpenAI(model_name=\"gpt-4-turbo\", temperature=0, streaming=True)\n",
    "\n",
    "    # Chain\n",
    "    chain = prompt | llm | StrOutputParser()\n",
    "\n",
    "    # Run\n",
    "    response = chain.invoke({\"job_text\": config[\"configurable\"][\"job_ads\"][-1]})\n",
    "    return {\"messages\": [response]}"
   ]
  },
  {
   "cell_type": "code",
   "execution_count": 52,
   "id": "3d844df5",
   "metadata": {},
   "outputs": [],
   "source": [
    "def check_task_agent(state, config) -> Literal[\"industry_agent\", \"END\"]:\n",
    "    \"\"\"\n",
    "    Determines whether the question is about to check job descriptions.\n",
    "\n",
    "    Args:\n",
    "        state (messages): The current state\n",
    "\n",
    "    Returns:\n",
    "        str: A decision for whether the question is about to check job descriptions.\n",
    "    \"\"\"\n",
    "\n",
    "    print(\"---CHECK TASK RELEVANCE---\")\n",
    "\n",
    "    \n",
    "    if config[\"configurable\"][\"job_ads\"][-1] is not None and len(config[\"configurable\"][\"job_ads\"][-1]) >= 1:\n",
    "        print(\"---DECISION: This is a job advertisement analysis task. ---\")\n",
    "        return \"industry_agent\"\n",
    "\n",
    "    else:\n",
    "        print(\"---DECISION: This is not a job advertisement analysis task.---\")\n",
    "        print(\"PLEASE INPUT JOB DESCRIPTIONS.\")\n",
    "        return \"END\""
   ]
  },
  {
   "cell_type": "code",
   "execution_count": 53,
   "id": "86f21de4",
   "metadata": {},
   "outputs": [],
   "source": [
    "def industry_agent(state, config):\n",
    "    \"\"\"\n",
    "    Generate answer. The core of RAG.\n",
    "\n",
    "    Args:\n",
    "        state (messages): The current state\n",
    "\n",
    "    Returns:\n",
    "         dict: The updated state with re-phrased question\n",
    "    \"\"\"\n",
    "    print(\"---CALL INDUSTRY AGENT---\")\n",
    "\n",
    "    # Prompt\n",
    "    prompt = PromptTemplate(\n",
    "        template=\"\"\"\n",
    "            You are a helpful assistant that extracts structured information from a batch of job advertisements.\n",
    "\n",
    "            Input job ad:\n",
    "            {job_text}\n",
    "\n",
    "            Instruction:\n",
    "            Extract the following fields from the given batch of different job ads. If a field is not present, return an empty list for that field.\n",
    "\n",
    "            - skills: short list of skills, tools, technologies (e.g., \"Python\", \"SQL\", \"scikit-learn\", \"communication\")\n",
    "            - responsibilities: short concise list of responsibilities / duties described in the ad\n",
    "            - requirements: candidate requirements such as experience, qualifications, degrees, certifications, years of experience\n",
    "\n",
    "            Return a JSON object ONLY with keys: \"job_title\", \"skills\", \"responsibilities\", \"requirements\", \"classification\", \"salary\", \"location\", \"workType\". \n",
    "\n",
    "            No other strings outside JSON objects.\n",
    "\n",
    "            Example:\n",
    "            {{\"job_title\": [\"Data Scientist\"], \"skills\": [\"Python\", \"SQL\"], \"responsibilities\": [\"build predictive models\"], \"requirements\": [\"3+ years experience\", \"Bachelor's degree\"], \"classification\":[\"Information & Communication Technology\"], \"salary\":[\"150,000 AUD\"], \"location\":[\"Sydney\"], \"workType\":[\"Fulltime\"]}}\n",
    "        \"\"\",\n",
    "        input_variables=[\"job_text\"],\n",
    "    )\n",
    "\n",
    "    # LLM\n",
    "    llm = ChatOpenAI(model_name=\"gpt-4-turbo\", temperature=0, streaming=True)\n",
    "\n",
    "    # Chain\n",
    "    chain = prompt | llm | StrOutputParser()\n",
    "\n",
    "    # Run\n",
    "    response = chain.invoke({\"job_text\": config[\"configurable\"][\"job_ads\"][-1]})\n",
    "    return {\"messages\": [response]}"
   ]
  },
  {
   "cell_type": "code",
   "execution_count": 54,
   "id": "b3ae9d7e",
   "metadata": {},
   "outputs": [],
   "source": [
    "def evaluate_agent(state, config):\n",
    "    \"\"\"\n",
    "    Generate answer. The core of RAG.\n",
    "\n",
    "    Args:\n",
    "        state (messages): The current state\n",
    "\n",
    "    Returns:\n",
    "         dict: The updated state with re-phrased question\n",
    "    \"\"\"\n",
    "    print(\"---CALL EVALUATE AGENT---\")\n",
    "    messages = state[\"messages\"]\n",
    "    job_message = messages[-1]\n",
    "    job_message_docs = job_message.content\n",
    "\n",
    "    # Prompt\n",
    "    prompt = PromptTemplate(\n",
    "        template=\"\"\"\n",
    "            You are a helpful assistant that can evaluate the job advertisement information and give improve suggestions.\n",
    "\n",
    "            Input job advertisement information:\n",
    "            {job_message_docs}\n",
    "\n",
    "            Instruction:\n",
    "            Based on the current information, list the lacked part of job advertisement and the improved suggestion.\n",
    "            \n",
    "            Return a JSON object ONLY with keys: \"job_title\", \"skills\", \"responsibilities\", \"requirements\", \"classification\", \"salary\", \"location\", \"workType\". \n",
    "\n",
    "            No other strings outside JSON objects.\n",
    "\n",
    "            Example:\n",
    "\n",
    "            {{\"skills\":[\"Can be more clear\", \"Python, SQL, GCP\"], \"salary\":[\"Missed\", \"Competitive Salary\"], \"location\":[\"Missed\"], \"workType\":[\"Missed\"]}}\n",
    "        \"\"\",\n",
    "        input_variables=[\"job_message_docs\"],\n",
    "    )\n",
    "\n",
    "    # LLM\n",
    "    llm = ChatOpenAI(model_name=\"gpt-4-turbo\", temperature=0, streaming=True)\n",
    "\n",
    "    # Chain\n",
    "    chain = prompt | llm | StrOutputParser()\n",
    "\n",
    "    # Run\n",
    "    response = chain.invoke({\"job_message_docs\": job_message_docs})\n",
    "    return {\"messages\": [response]}"
   ]
  },
  {
   "cell_type": "markdown",
   "id": "2cfbc4e0",
   "metadata": {},
   "source": [
    "Complie the graph."
   ]
  },
  {
   "cell_type": "code",
   "execution_count": 55,
   "id": "2cde32e9",
   "metadata": {},
   "outputs": [],
   "source": [
    "# Define a new graph\n",
    "workflow = StateGraph(AgentState)\n",
    "\n",
    "# Define the nodes.\n",
    "workflow.add_node(\"host_agent\", host_agent)  \n",
    "workflow.add_node(\"industry_agent\", industry_agent)  \n",
    "workflow.add_node(\"evaluate_agent\", evaluate_agent)  \n",
    "\n",
    "# Call agent node to decide to retrieve or not\n",
    "workflow.add_edge(START, \"host_agent\")\n",
    "workflow.add_conditional_edges(\n",
    "    \"host_agent\", \n",
    "    check_task_agent, \n",
    "    {\n",
    "        \"END\": END,             # map this label to the END\n",
    "        \"industry_agent\": \"industry_agent\", # map this one to a node\n",
    "    })\n",
    "workflow.add_edge(\"industry_agent\", \"evaluate_agent\")\n",
    "workflow.add_edge(\"evaluate_agent\", END)\n",
    "\n",
    "# Compile\n",
    "graph = workflow.compile(checkpointer=MemorySaver())\n"
   ]
  },
  {
   "cell_type": "code",
   "execution_count": 56,
   "id": "35b548aa",
   "metadata": {},
   "outputs": [
    {
     "data": {
      "image/png": "[encoded data removed]",
      "text/plain": [
       "<IPython.core.display.Image object>"
      ]
     },
     "metadata": {},
     "output_type": "display_data"
    }
   ],
   "source": [
    "try:\n",
    "    display(Image(graph.get_graph(xray=True).draw_mermaid_png()))\n",
    "except Exception:\n",
    "    pass"
   ]
  },
  {
   "cell_type": "code",
   "execution_count": 57,
   "id": "1780a88f",
   "metadata": {},
   "outputs": [],
   "source": [
    "def agent_invoke(graph, question, job_ads, config):\n",
    "    \"\"\"\n",
    "    Invoke the workflow with user question, generate human-friendly metrics and answers.\n",
    "\n",
    "    Args:\n",
    "        graph: The current workflow\n",
    "        question: The user input to invoke the workflow\n",
    "        config: The holder of thread, memory, and LangFuse\n",
    "\n",
    "    Returns:\n",
    "        retriever_counter: how many times the retriever tool is called for this question\n",
    "        rewrite_counter: how many times the question is rewritten, which indicates a failed retrieval\n",
    "        final_message: the answer that can be shown to all audience\n",
    "    \"\"\"\n",
    "    # config[\"configurable\"][\"questions\"].append(question)\n",
    "    config[\"configurable\"][\"job_ads\"].append(job_ads)\n",
    "\n",
    "    analysis_message = []\n",
    "    evaluate_message = []\n",
    "\n",
    "    inputs = {\n",
    "        \"messages\":[\n",
    "            (\"user\", question)\n",
    "        ]\n",
    "    }\n",
    "\n",
    "    for output in graph.stream(inputs, config=config):\n",
    "        for key, value in output.items():\n",
    "            # For Agent node, output tool call information.\n",
    "            if key == 'host_agent':\n",
    "                print(\"host_agent\")\n",
    "                # final_message = final_message + value['messages'][0].content\n",
    "                print(value['messages'][0].content)\n",
    "            # For retrieve tool node, counter plus.\n",
    "            elif key == 'industry_agent':\n",
    "                print(\"industry_agent\")\n",
    "                # final_messsage = final_message + value['messages'][0]\n",
    "                print(value['messages'][0])\n",
    "                analysis_message.append(value['messages'][0])\n",
    "\n",
    "            elif key == 'evaluate_agent':\n",
    "                print(\"evaluate_agent\")\n",
    "                # final_messsage = final_message + value['messages'][0]\n",
    "                print(value['messages'][0])\n",
    "                evaluate_message.append(value['messages'][0])\n",
    "                print(\"\\n---END QUESTION---\")\n",
    "            else:\n",
    "                pass\n",
    "    return analysis_message, evaluate_message"
   ]
  },
  {
   "cell_type": "code",
   "execution_count": 58,
   "id": "abc3f3de",
   "metadata": {},
   "outputs": [],
   "source": [
    "def deal_with_single_question(logs, graph, question, job_ads, config):\n",
    "    \"\"\"\n",
    "    Deal with the workflow inputs and outputs, push them into local logging system.\n",
    "\n",
    "    Args:\n",
    "        logs: the list to store key information and metrics for the whole thread\n",
    "        graph: The current workflow\n",
    "        question: The user input to invoke the workflow\n",
    "        config: The holder of thread, memory, and LangFuse\n",
    "    \"\"\"\n",
    "    # Get the current date and time for time stamp.\n",
    "    invoke_datetime = datetime.now().strftime(\"%Y%m%d_%H%M%S\")\n",
    "    analysis_message, evaluate_message = agent_invoke(graph, question, job_ads, config)\n",
    "    thread_id = config['configurable']['thread_id']\n",
    "    row =  [thread_id, invoke_datetime, analysis_message, evaluate_message]\n",
    "    logs.append(row)"
   ]
  },
  {
   "cell_type": "code",
   "execution_count": 73,
   "id": "c397ed59",
   "metadata": {},
   "outputs": [],
   "source": [
    "# Put LangFuse Handler when the workflow is invoked.\n",
    "\n",
    "langfuse_handler = CallbackHandler()"
   ]
  },
  {
   "cell_type": "code",
   "execution_count": 74,
   "id": "83509f6a",
   "metadata": {},
   "outputs": [],
   "source": [
    "config = {\"configurable\": {\"thread_id\": \"langfuse-test\", \"questions\": [], \"job_ads\":[], \"callbacks\": [langfuse_handler]}}\n",
    "logs = []"
   ]
  },
  {
   "cell_type": "code",
   "execution_count": 75,
   "id": "31d40b14",
   "metadata": {},
   "outputs": [
    {
     "data": {
      "text/plain": [
       "{'configurable': {'thread_id': 'langfuse-test',\n",
       "  'questions': [],\n",
       "  'job_ads': [],\n",
       "  'callbacks': [<langfuse.langchain.CallbackHandler.LangchainCallbackHandler at 0x2d7629f3790>]}}"
      ]
     },
     "execution_count": 75,
     "metadata": {},
     "output_type": "execute_result"
    }
   ],
   "source": [
    "config"
   ]
  },
  {
   "cell_type": "code",
   "execution_count": 76,
   "id": "06cac35b",
   "metadata": {},
   "outputs": [
    {
     "name": "stdout",
     "output_type": "stream",
     "text": [
      "[\n",
      "    {\n",
      "        \"title\": \"Driver / Tour Guide for Coach & 4WD Coach Tours\",\n",
      "        \"abstract\": \"This role includes conducting 1-20 Day Tours to a range of locations all over Australia with mature passengers for a well established family company.\",\n",
      "        \"job_description_clean\": \"Casey Australia Tours require a experienced Coach Drivers / Tour Guide for the rest of the 2019 season of extended motel and/or camping tours starting mid/late June The role requires driving, minor coach maintenance, cleaning, guiding and commentating plus some cooking. The ideal person should have; 1. A sense of humour and engaging personality 2. Initiative and problem solving skills 3. Confidence and be a good public speaker 4. A current manual HR drivers licence with F endorsement. (or ability to get one quickly) 5. A safe driving record 6. Clear Criminal History 7. Experience in some field that can be related 8. First Aid Training 9. Good Navigation in remote and city areas Handy assets to have; 1. Mechanical Knowledge 2. Camping experience 3. Group Cooking Experience Our passengers are mainly Australian adults from 50 - 80+ years old. Each tour is run by 1 - 2 Staff caring for up to 48 passengers. It is essential that staff cooperate well and work closely together. This is an interesting, exciting, varied and extremely rewarding role. It's an enjoyable lifestyle with its share of hard days but also has a lot of fun easy days in some stunning locations. To view our range of tours visit www.caseytours.com.au/calendar/ To get a better idea of the places, people and coaches go to our Facebook page, www.facebook.com/CaseyAustraliaTours Rate of Pay $300 - $350 Per day (depending on experience and knowledge) + Super Work is on a tour by tour basis from mid /late June, scheduling is roughly two weeks on and one off but varies. The season goes through to November with ongoing employment for available. For the right applicant the role could be based in nearly any capital city flying in and out to different towns to start and finish tours. If you feel you are up to the challenge, please: 1. Reply to this ad on Seek 2. Send a CV and Cover Letter by email to tcasey@caseytours.com.au\",\n",
      "        \"classification\": \"Hospitality & Tourism\",\n",
      "        \"subClassification\": \"Tour Guides\",\n",
      "        \"area\": null,\n",
      "        \"location\": \"Perth\",\n",
      "        \"suburb\": null,\n",
      "        \"workType\": \"Casual/Vacation\"\n",
      "    }\n",
      "]\n"
     ]
    }
   ],
   "source": [
    "df = pd.read_csv(\"data/X_test.csv\")\n",
    "test = df.iloc[0, :]\n",
    "if isinstance(test, pd.Series):\n",
    "        test = test.to_frame().T\n",
    "json_records = test.to_json(orient='records')\n",
    "parsed = loads(json_records)\n",
    "print(dumps(parsed, indent=4) )"
   ]
  },
  {
   "cell_type": "code",
   "execution_count": 77,
   "id": "7df94328",
   "metadata": {},
   "outputs": [
    {
     "name": "stdout",
     "output_type": "stream",
     "text": [
      "---CALL HOST AGENT---\n",
      "---CHECK TASK RELEVANCE---\n",
      "---DECISION: This is a job advertisement analysis task. ---\n",
      "host_agent\n",
      "Hello Alexandra! I'd be happy to help you analyze the job advertisements you have. Please provide the details of the job advertisements you'd like to discuss, and let me know what specific aspects you want to focus on (e.g., job requirements, qualifications, company culture, etc.).\n",
      "---CALL INDUSTRY AGENT---\n",
      "industry_agent\n",
      "{\n",
      "    \"job_title\": [\"Driver / Tour Guide for Coach & 4WD Coach Tours\"],\n",
      "    \"skills\": [\"driving\", \"minor coach maintenance\", \"cleaning\", \"guiding\", \"commentating\", \"cooking\", \"public speaking\", \"navigation\", \"mechanical knowledge\", \"camping\", \"group cooking\"],\n",
      "    \"responsibilities\": [\"conducting 1-20 Day Tours\", \"driving\", \"coach maintenance\", \"cleaning\", \"guiding and commentating\", \"cooking\"],\n",
      "    \"requirements\": [\"sense of humour and engaging personality\", \"initiative and problem solving skills\", \"confidence in public speaking\", \"current manual HR drivers licence with F endorsement\", \"safe driving record\", \"clear criminal history\", \"related experience\", \"first aid training\", \"good navigation skills\"],\n",
      "    \"classification\": [\"Hospitality & Tourism\"],\n",
      "    \"salary\": [\"$300 - $350 Per day + Super\"],\n",
      "    \"location\": [\"Perth\"],\n",
      "    \"workType\": [\"Casual/Vacation\"]\n",
      "}\n",
      "---CALL EVALUATE AGENT---\n",
      "evaluate_agent\n",
      "{\n",
      "    \"job_title\": [\"Can be more specific\", \"Specify type of tours, e.g., 'Adventure Driver / Tour Guide for Outback Coach & 4WD Tours'\"],\n",
      "    \"skills\": [\"Can be more detailed\", \"Specify level of mechanical knowledge required, e.g., 'basic mechanical troubleshooting'\"],\n",
      "    \"responsibilities\": [\"Can be more detailed\", \"Include customer service responsibilities, e.g., 'ensuring customer satisfaction and safety'\"],\n",
      "    \"requirements\": [\"Can be more specific\", \"Specify years of related experience required, e.g., 'at least 2 years of related experience'\"],\n",
      "    \"classification\": [\"Can be more specific\", \"Include more relevant categories, e.g., 'Travel & Tourism'\"],\n",
      "    \"salary\": [\"Can be more competitive\", \"Research and possibly increase the salary range to attract more qualified candidates\"],\n",
      "    \"location\": [\"Can be more specific\", \"Include whether travel is within or outside Perth\"],\n",
      "    \"workType\": [\"Can be more specific\", \"Clarify expected work hours or days, e.g., 'Must be available weekends and holidays'\"]\n",
      "}\n",
      "\n",
      "---END QUESTION---\n"
     ]
    }
   ],
   "source": [
    "deal_with_single_question(logs, graph, \"Hi, I'm Alexandra. Please help me analyse following job advertisements\", json_records, config)"
   ]
  },
  {
   "cell_type": "code",
   "execution_count": 78,
   "id": "1698b153",
   "metadata": {},
   "outputs": [
    {
     "name": "stdout",
     "output_type": "stream",
     "text": [
      "[\n",
      "    {\n",
      "        \"title\": \"Casual Educators in Community Centre needed\",\n",
      "        \"abstract\": \"Casual Certificate III and Diploma educators required for casual work who are confident, show initiative and work well within a team environment\",\n",
      "        \"job_description_clean\": \"Barry Beckett Children's Centre is looking for experienced educators to join our dedicated team. We are an inclusive service that supports our local community, families and the wellbeing of our children. We seek enthusiastic and motivated educators, who have a passion for early learning to join our team on a casual basis. If you think this position is right for you please contact Colleen Koch on 03 9354 6712 or email your resume and cover letter to office@barrybeckett.org.au\",\n",
      "        \"classification\": \"Education & Training\",\n",
      "        \"subClassification\": \"Childcare & Outside School Hours Care\",\n",
      "        \"area\": \"Northern Suburbs\",\n",
      "        \"location\": \"Melbourne\",\n",
      "        \"suburb\": \"Coburg\",\n",
      "        \"workType\": \"Casual/Vacation\"\n",
      "    }\n",
      "]\n"
     ]
    }
   ],
   "source": [
    "test = df.iloc[3, :]\n",
    "if isinstance(test, pd.Series):\n",
    "        test = test.to_frame().T\n",
    "json_records = test.to_json(orient='records')\n",
    "parsed = loads(json_records)\n",
    "print(dumps(parsed, indent=4) )"
   ]
  },
  {
   "cell_type": "code",
   "execution_count": 79,
   "id": "67bf6c31",
   "metadata": {},
   "outputs": [
    {
     "name": "stdout",
     "output_type": "stream",
     "text": [
      "---CALL HOST AGENT---\n",
      "---CHECK TASK RELEVANCE---\n",
      "---DECISION: This is a job advertisement analysis task. ---\n",
      "host_agent\n",
      "Hello Alexandra! I'd be happy to help you analyze the job advertisements. Please provide the details of the job ads you're interested in, and let me know what specific aspects you'd like to focus on (e.g., job requirements, qualifications, company culture, salary, etc.).\n",
      "---CALL INDUSTRY AGENT---\n",
      "industry_agent\n",
      "{\n",
      "    \"job_title\": [\"Casual Educators in Community Centre needed\"],\n",
      "    \"skills\": [\"initiative\", \"teamwork\"],\n",
      "    \"responsibilities\": [\"support local community\", \"support families\", \"support wellbeing of children\", \"early learning\"],\n",
      "    \"requirements\": [\"Casual Certificate III\", \"Diploma\"],\n",
      "    \"classification\": [\"Education & Training\"],\n",
      "    \"salary\": [],\n",
      "    \"location\": [\"Melbourne\"],\n",
      "    \"workType\": [\"Casual/Vacation\"]\n",
      "}\n",
      "---CALL EVALUATE AGENT---\n",
      "evaluate_agent\n",
      "{\n",
      "    \"job_title\": [\"Can be more specific\", \"Casual Educators for Early Learning at Community Centre\"],\n",
      "    \"skills\": [\"Can be expanded\", \"Communication, Conflict Resolution, Childcare Expertise\"],\n",
      "    \"responsibilities\": [\"Can be more detailed\", \"Plan and implement educational activities, Maintain safe and positive learning environment, Engage with parents and community members\"],\n",
      "    \"requirements\": [\"Can be more detailed\", \"Valid Working With Children Check, First Aid Certified\"],\n",
      "    \"classification\": [\"Can be more specific\", \"Education & Training, Childcare\"],\n",
      "    \"salary\": [\"Missed\", \"Specify range or state 'According to experience'\"],\n",
      "    \"location\": [\"Can be more specific\", \"Specify area in Melbourne or remote option\"],\n",
      "    \"workType\": [\"Can be more specific\", \"Part-time options available\"]\n",
      "}\n",
      "\n",
      "---END QUESTION---\n"
     ]
    }
   ],
   "source": [
    "deal_with_single_question(logs, graph, \"Hi, I'm Alexandra. Please help me analyse following job advertisements\", json_records, config)"
   ]
  },
  {
   "cell_type": "code",
   "execution_count": 80,
   "id": "fe7fa294",
   "metadata": {},
   "outputs": [
    {
     "name": "stdout",
     "output_type": "stream",
     "text": [
      "---CALL HOST AGENT---\n",
      "---CHECK TASK RELEVANCE---\n",
      "---DECISION: This is not a job advertisement analysis task.---\n",
      "PLEASE INPUT JOB DESCRIPTIONS.\n",
      "host_agent\n",
      "Hello Alexandra! It looks like this is our first interaction in this session. How can I assist you today?\n"
     ]
    }
   ],
   "source": [
    "deal_with_single_question(logs, graph, \"Hi, I'm Alexandra. What's the last message exchange between us\", None, config)"
   ]
  },
  {
   "cell_type": "code",
   "execution_count": 81,
   "id": "5e17dbf9",
   "metadata": {},
   "outputs": [
    {
     "name": "stdout",
     "output_type": "stream",
     "text": [
      "---CALL HOST AGENT---\n",
      "---CHECK TASK RELEVANCE---\n",
      "---DECISION: This is not a job advertisement analysis task.---\n",
      "PLEASE INPUT JOB DESCRIPTIONS.\n",
      "host_agent\n",
      "Hello Alexandra! It looks like this is our first interaction in this session. How can I assist you today?\n"
     ]
    }
   ],
   "source": [
    "deal_with_single_question(logs, graph, \"Hi, I'm Alexandra. What's the last message exchange between us\", None, config)"
   ]
  },
  {
   "cell_type": "code",
   "execution_count": 82,
   "id": "6f338e4a",
   "metadata": {},
   "outputs": [
    {
     "data": {
      "text/plain": [
       "918"
      ]
     },
     "execution_count": 82,
     "metadata": {},
     "output_type": "execute_result"
    }
   ],
   "source": [
    "len(config[\"configurable\"][\"job_ads\"][1])"
   ]
  },
  {
   "cell_type": "code",
   "execution_count": 83,
   "id": "55a5137e",
   "metadata": {},
   "outputs": [],
   "source": [
    "log_df = pd.DataFrame(logs)"
   ]
  },
  {
   "cell_type": "code",
   "execution_count": 84,
   "id": "4b74b7b2",
   "metadata": {},
   "outputs": [
    {
     "data": {
      "text/html": [
       "<div>\n",
       "<style scoped>\n",
       "    .dataframe tbody tr th:only-of-type {\n",
       "        vertical-align: middle;\n",
       "    }\n",
       "\n",
       "    .dataframe tbody tr th {\n",
       "        vertical-align: top;\n",
       "    }\n",
       "\n",
       "    .dataframe thead th {\n",
       "        text-align: right;\n",
       "    }\n",
       "</style>\n",
       "<table border=\"1\" class=\"dataframe\">\n",
       "  <thead>\n",
       "    <tr style=\"text-align: right;\">\n",
       "      <th></th>\n",
       "      <th>0</th>\n",
       "      <th>1</th>\n",
       "      <th>2</th>\n",
       "      <th>3</th>\n",
       "    </tr>\n",
       "  </thead>\n",
       "  <tbody>\n",
       "    <tr>\n",
       "      <th>0</th>\n",
       "      <td>langfuse-test</td>\n",
       "      <td>20251024_221031</td>\n",
       "      <td>[{\\n    \"job_title\": [\"Driver / Tour Guide for...</td>\n",
       "      <td>[{\\n    \"job_title\": [\"Can be more specific\", ...</td>\n",
       "    </tr>\n",
       "    <tr>\n",
       "      <th>1</th>\n",
       "      <td>langfuse-test</td>\n",
       "      <td>20251024_221058</td>\n",
       "      <td>[{\\n    \"job_title\": [\"Casual Educators in Com...</td>\n",
       "      <td>[{\\n    \"job_title\": [\"Can be more specific\", ...</td>\n",
       "    </tr>\n",
       "    <tr>\n",
       "      <th>2</th>\n",
       "      <td>langfuse-test</td>\n",
       "      <td>20251024_221111</td>\n",
       "      <td>[]</td>\n",
       "      <td>[]</td>\n",
       "    </tr>\n",
       "    <tr>\n",
       "      <th>3</th>\n",
       "      <td>langfuse-test</td>\n",
       "      <td>20251024_221113</td>\n",
       "      <td>[]</td>\n",
       "      <td>[]</td>\n",
       "    </tr>\n",
       "  </tbody>\n",
       "</table>\n",
       "</div>"
      ],
      "text/plain": [
       "               0                1  \\\n",
       "0  langfuse-test  20251024_221031   \n",
       "1  langfuse-test  20251024_221058   \n",
       "2  langfuse-test  20251024_221111   \n",
       "3  langfuse-test  20251024_221113   \n",
       "\n",
       "                                                   2  \\\n",
       "0  [{\\n    \"job_title\": [\"Driver / Tour Guide for...   \n",
       "1  [{\\n    \"job_title\": [\"Casual Educators in Com...   \n",
       "2                                                 []   \n",
       "3                                                 []   \n",
       "\n",
       "                                                   3  \n",
       "0  [{\\n    \"job_title\": [\"Can be more specific\", ...  \n",
       "1  [{\\n    \"job_title\": [\"Can be more specific\", ...  \n",
       "2                                                 []  \n",
       "3                                                 []  "
      ]
     },
     "execution_count": 84,
     "metadata": {},
     "output_type": "execute_result"
    }
   ],
   "source": [
    "log_df"
   ]
  },
  {
   "cell_type": "code",
   "execution_count": 85,
   "id": "e62f8385",
   "metadata": {},
   "outputs": [],
   "source": [
    "log_df = log_df .rename(columns={0: \"thread_id\", 1:\"timestamp\", 2:\"analysis\", 3:\"evaluation\"})"
   ]
  },
  {
   "cell_type": "code",
   "execution_count": 86,
   "id": "79d158e5",
   "metadata": {},
   "outputs": [
    {
     "data": {
      "text/plain": [
       "['{\\n    \"job_title\": [\"Driver / Tour Guide for Coach & 4WD Coach Tours\"],\\n    \"skills\": [\"driving\", \"minor coach maintenance\", \"cleaning\", \"guiding\", \"commentating\", \"cooking\", \"public speaking\", \"navigation\", \"mechanical knowledge\", \"camping\", \"group cooking\"],\\n    \"responsibilities\": [\"conducting 1-20 Day Tours\", \"driving\", \"coach maintenance\", \"cleaning\", \"guiding and commentating\", \"cooking\"],\\n    \"requirements\": [\"sense of humour and engaging personality\", \"initiative and problem solving skills\", \"confidence in public speaking\", \"current manual HR drivers licence with F endorsement\", \"safe driving record\", \"clear criminal history\", \"related experience\", \"first aid training\", \"good navigation skills\"],\\n    \"classification\": [\"Hospitality & Tourism\"],\\n    \"salary\": [\"$300 - $350 Per day + Super\"],\\n    \"location\": [\"Perth\"],\\n    \"workType\": [\"Casual/Vacation\"]\\n}']"
      ]
     },
     "execution_count": 86,
     "metadata": {},
     "output_type": "execute_result"
    }
   ],
   "source": [
    "log_df.iloc[0, 2]"
   ]
  }
 ],
 "metadata": {
  "kernelspec": {
   "display_name": "Python 3",
   "language": "python",
   "name": "python3"
  },
  "language_info": {
   "codemirror_mode": {
    "name": "ipython",
    "version": 3
   },
   "file_extension": ".py",
   "mimetype": "text/x-python",
   "name": "python",
   "nbconvert_exporter": "python",
   "pygments_lexer": "ipython3",
   "version": "3.13.9"
  }
 },
 "nbformat": 4,
 "nbformat_minor": 5
}
