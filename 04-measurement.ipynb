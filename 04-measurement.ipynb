{
 "cells": [
  {
   "cell_type": "markdown",
   "id": "b981ee1e",
   "metadata": {},
   "source": [
    "# Use BERTScore and ROUGE for Measurement."
   ]
  },
  {
   "cell_type": "markdown",
   "id": "417057da",
   "metadata": {},
   "source": [
    "Import packages."
   ]
  },
  {
   "cell_type": "code",
   "execution_count": 10,
   "id": "a3e9d2ee",
   "metadata": {},
   "outputs": [],
   "source": [
    "import pandas as pd\n",
    "import numpy as np\n",
    "\n",
    "from bert_score import BERTScorer\n",
    "from json import dumps\n",
    "from rouge_score import rouge_scorer\n",
    "from sklearn.feature_extraction.text import TfidfVectorizer\n",
    "from sklearn.metrics.pairwise import cosine_similarity"
   ]
  },
  {
   "cell_type": "markdown",
   "id": "c71dbd28",
   "metadata": {},
   "source": [
    "Import LangGraph outputs and Original advertisements."
   ]
  },
  {
   "cell_type": "code",
   "execution_count": 11,
   "id": "3c594b85",
   "metadata": {},
   "outputs": [],
   "source": [
    "llm_outputs_df = pd.read_csv(\"job-description-logs/loop_test_full_20251025_201551.csv\")\n",
    "original_df = pd.read_csv(\"job-description-data/sample_df.csv\")"
   ]
  },
  {
   "cell_type": "code",
   "execution_count": 12,
   "id": "10d4c7d8",
   "metadata": {},
   "outputs": [
    {
     "data": {
      "text/plain": [
       "['{\"job_title\": \"[\\'Business Services Senior Accountant\\']\", \"skills\": \"[\\'Preparation of financial statements\\', \\'tax returns\\', \\'BAS\\', \\'FBT\\', \\'Payroll tax\\', \\'Journal entries\\', \\'reconciling accounts\\', \\'liaising with ATO and ASIC\\', \\'ad hoc advisory\\', \\'research work\\']\", \"responsibilities\": \"[\\'Preparation of financial statements, tax returns, BAS, FBT, and Payroll tax\\', \\'Journal entries and reconciling accounts\\', \\'Liaising with the ATO, ASIC, and other bodies\\', \\'Ad hoc advisory and research work\\', \\'Mentor juniors and grads\\']\", \"requirements\": \"[\\'CA Qualified (or near completion)\\', \\'4 - 5 years experience\\', \\'Ability to monitor WIP and billings\\', \\'Solid understanding of Tax fundamentals\\', \\'Excellent written and verbal communication\\', \\'Enthusiastic and self-starter attitude\\']\", \"classification\": \"[\\'Accounting\\', \\'Business Services & Corporate Advisory\\']\", \"salary\": \"[]\", \"location\": \"[\\'CBD, Inner West & Eastern Suburbs\\', \\'Sydney\\']\", \"workType\": \"[\\'Full Time\\']\"}',\n",
       " '{\"job_title\": \"[\\'Area Manager - Victoria\\']\", \"skills\": \"[\\'leadership\\', \\'time management\\', \\'P&L management\\', \\'recruitment\\', \\'training\\', \\'problem solving\\']\", \"responsibilities\": \"[\\'Running and overseeing 3 - 5 ALDI stores\\', \\'Managing all aspects of your area including recruitment, training, profit and loss management\\', \\'Ensure all ALDI controls, policies, procedures and guidelines are adhered to\\', \\'Contributing to the wider business by undertaking project work on cross location challenges\\', \\'Planning out the efficient day to day running of your business\\']\", \"requirements\": \"[\\'Bachelor Degree or Master Degree in any discipline\\', \\'minimum of 3 years business experience\\', \\'proven success in leadership roles\\']\", \"classification\": \"[\\'CEO & General Management\\', \\'General/Business Unit Manager\\']\", \"salary\": \"[\\'$112,000 - $162,800 + Car\\']\", \"location\": \"[\\'Bairnsdale & Gippsland\\']\", \"workType\": \"[\\'Full Time\\']\"}',\n",
       " '{\"job_title\": \"[\\'Maths & Physics Teacher\\']\", \"skills\": \"[\\'teaching Maths and Physics\\', \\'Middle Years Science\\', \\'Maths B\\']\", \"responsibilities\": \"[\\'teach Maths and Physics from Years 7 - 12\\', \\'contribute to the wider life of the school\\']\", \"requirements\": \"[\\'teacher registration in QLD or eligibility to gain\\', \\'experience teaching both Maths and Physics\\', \\'experience teaching Middle Years Science and Maths B\\']\", \"classification\": \"[\\'Education & Training\\', \\'Teaching - Secondary\\']\", \"salary\": \"[]\", \"location\": \"[\\'Toowoomba, QLD\\']\", \"workType\": \"[\\'Full Time\\']\"}',\n",
       " '{\"job_title\": \"[\\'Drug Intervention and Rehabilitation Worker\\']\", \"skills\": \"[\\'crisis intervention\\', \\'case management\\', \\'communication\\']\", \"responsibilities\": \"[\\'engage, support and educate homeless and at-risk young people\\', \\'provide crisis intervention, individual and group support\\', \\'work collaboratively with the community to respond to issues associated with illicit drug use\\']\", \"requirements\": \"[\\'tertiary qualification in Social Work, Psychology, Social Services or similar\\', \\'extensive relevant experience in the field\\', \\\\\"understanding of young people\\'s alcohol and other drug use and trends\\\\\", \\'ability to implement crisis interventions and therapeutic approaches\\', \\'experience in case management\\', \\'ability to engage with vulnerable young people, professionals, and health practitioners\\']\", \"classification\": \"[\\'Community Services & Development\\', \\'Community Development\\']\", \"salary\": \"[]\", \"location\": \"[\\'CBD & Inner Suburbs\\', \\'Brisbane\\', \\'Fortitude Valley\\']\", \"workType\": \"[\\'Full Time\\']\"}',\n",
       " '{\"job_title\": \"[\\'Customer Service Officer, Level 1\\']\", \"skills\": \"[\\'problem-solving\\', \\'customer service\\', \\'time management\\', \\'digital environment\\']\", \"responsibilities\": \"[\\'provide end-to-end services to improve customer experience\\', \\'engage with customers around their Child Support entitlements and obligations\\']\", \"requirements\": \"[\\'strong emotional resilience\\', \\'ability to adjust well to change\\', \\'experience in customer service\\', \\'high levels of integrity and confidentiality\\']\", \"classification\": \"[\\'Call Centre & Customer Service\\']\", \"salary\": \"[]\", \"location\": \"[\\'Wellington Central\\', \\'Wellington\\', \\'Wellington CBD\\']\", \"workType\": \"[\\'Contract/Temp\\']\"}',\n",
       " '{\"job_title\": \"[\\'Legal Executive Assistant\\']\", \"skills\": \"[\\'email management\\', \\'diary management\\', \\'scheduling appointments\\', \\'call handling\\', \\'meeting arrangements\\', \\'travel and accommodation booking\\', \\'file management\\', \\'client information updating\\', \\'drafting correspondence\\', \\'billing and expense management\\', \\'dictation\\', \\'copy typing\\', \\'Word\\', \\'Excel\\', \\'PowerPoint\\']\", \"responsibilities\": \"[\\'High level email management\\', \\\\\"Proactively managing Partner\\'s diary\\\\\", \\'Scheduling appointments and attending to conflicting priorities\\', \\'Attending to high volume calls from clients and internal staff members\\', \\'Booking meeting rooms, arranging catering and video conferencing facilities\\', \\'Booking and managing travel and accommodation requirements\\', \\'Managing files \\\\u2013 electronic and manual\\', \\'Updating client information\\', \\'Arranging client functions\\', \\'Drafting correspondence and documents\\', \\'Billing and expense management\\']\", \"requirements\": \"[\\'4+ years experience as a Legal Secretary supporting Partner level\\', \\'Top Tier or large law firm experience\\', \\'Pro-active manner\\', \\'Ability to work under pressure and respond to conflicting priorities\\', \\'Strong written and communication skills\\', \\'Confident manner\\', \\'Can do approach to tasks\\', \\'Solid technical skills (minimum 70 wpm with high accuracy)\\', \\'Intermediate level + Word skills\\']\", \"classification\": \"[\\'Legal\\']\", \"salary\": \"[]\", \"location\": \"[\\'CBD, Inner & Western Suburbs\\', \\'Perth\\']\", \"workType\": \"[\\'Full Time\\']\"}',\n",
       " '{\"job_title\": \"[\\'Accounts Assistant\\']\", \"skills\": \"[\\'data entry\\', \\'bank reconciliations\\', \\'debt collection\\', \\'payroll administration\\']\", \"responsibilities\": \"[\\'Checking and entering invoices\\', \\'Reviewing timesheet and record keeping\\', \\'Running monthly work in progress reports for invoicing\\', \\'Assisting with month end creditor payments\\', \\'Bank reconciliations\\', \\'Assisting with debt collection\\', \\'Assisting with monthly payroll administration\\']\", \"requirements\": \"[\\'good understanding of basic accounting procedures\\', \\'fast and accurate data entry speed\\', \\'excellent attention to detail\\']\", \"classification\": \"[\\'Accounting\\']\", \"salary\": \"[]\", \"location\": \"[\\'Auckland Central\\', \\'Auckland\\', \\'Newmarket\\']\", \"workType\": \"[\\'Full Time\\']\"}',\n",
       " '{\"job_title\": \"[\\'Customer Service Representative - National Call Centre\\']\", \"skills\": \"[\\'data entry\\', \\'MS Office\\', \\'customer service\\', \\'telephone etiquette\\']\", \"responsibilities\": \"[\\'Take inbound calls from both internal and external customers\\', \\'Make outbound calls to existing customers regarding their appointment\\', \\'Coordinate and support a team of field technicians\\', \\'Liaise with customers about delays, cancellations, rescheduling of jobs\\', \\'Provide proactive communication to customers\\', \\'Advise technicians of customer requirements or other information relevant to the management of their workloads\\']\", \"requirements\": \"[\\'Recent Call Centre and/or Customer Service experience of 12 months+\\', \\'Ability to work in a changing environment\\', \\'Excellent data entry skills\\', \\'Computer literate with intermediate MS Office skills\\', \\'Excellent customer service skills and telephone etiquette\\', \\'Ability to complete multiple tasks simultaneously\\', \\'Clean valid police check (done within the last 6 months)\\']\", \"classification\": \"[\\'Call Centre & Customer Service\\', \\'Customer Service - Call Centre\\']\", \"salary\": \"[]\", \"location\": \"[\\'CBD, Inner West & Eastern Suburbs\\', \\'Sydney\\', \\'Ultimo\\']\", \"workType\": \"[\\'Full Time\\']\"}',\n",
       " '{\"job_title\": \"[\\'Purchasing Support Officer\\']\", \"skills\": \"[\\'MS Excel\\', \\'purchasing software\\', \\'market research\\']\", \"responsibilities\": \"[\\'Research potential vendors\\', \\'Track orders and ensure timely delivery\\', \\'Update internal databases with order details (dates, vendors, quantities, discounts)\\', \\'Conduct market research to identify pricing trends\\', \\'Evaluate offers from vendors and negotiate better prices\\', \\'Prepare cost analyses\\', \\'Maintain updated records of invoices and contracts\\', \\'Follow up with suppliers, and expedite as needed, to confirm or change orders\\']\", \"requirements\": \"[\\'work experience as a Purchasing Assistant or similar\\', \\'Hands-on experience with purchasing software\\', \\'Good knowledge of MS Excel\\', \\'Knowledge of market research\\', \\'Solid organizational skills\\', \\'Great attention to detail\\', \\'Excellent communication skills over the phone, face to face and written\\']\", \"classification\": \"[\\'Manufacturing, Transport & Logistics\\', \\'Purchasing, Procurement & Inventory\\']\", \"salary\": \"[\\'up to $40ph + super\\']\", \"location\": \"[\\'Perth Airport\\']\", \"workType\": \"[\\'Contract/Temp\\']\"}',\n",
       " '{\"job_title\": \"[\\'Business Manager - Hamilton\\']\", \"skills\": \"[\\'leadership\\', \\'strategic planning\\', \\'budget management\\', \\'operational cost control\\', \\'KPI management\\', \\'continuous improvement\\', \\'analytical skills\\', \\'problem solving\\', \\'decision making\\', \\'OHS knowledge\\', \\'stock management\\', \\'procurement\\']\", \"responsibilities\": \"[\\'Manage budget and operational costs\\', \\'Set KPIs around production\\', \\'Lead and develop the site operational team\\', \\'Ensure the company meets operational and financial targets\\', \\\\\"Manage and develop company\\'s operations to meet customer orders with optimal productivity and quality\\\\\", \\'Analyse existing operations and lead continuous improvement culture\\', \\'Control labour, equipment, and maintenance costs\\', \\'Contribute to Senior Management Team and communicate with stakeholders\\', \\'Oversee stock management and procurement of stock\\', \\'Develop and drive business plan initiatives\\']\", \"requirements\": \"[\\'Experience in an industrial or manufacturing business environment\\', \\'Related tertiary qualification or extensive relevant industry experience\\', \\'Experience in aligning operations to deliver business and cost efficiencies\\', \\'Strong interpersonal skills\\', \\'Proven track record of developing and mentoring staff\\']\", \"classification\": \"[\\'CEO & General Management\\', \\'General/Business Unit Manager\\']\", \"salary\": \"[\\'Competitive salary package + Kiwisaver\\']\", \"location\": \"[\\'Manukau & East Auckland\\', \\'Auckland\\', \\'Mangere\\']\", \"workType\": \"[\\'Full Time\\']\"}',\n",
       " '{\"job_title\": \"[\\'FIFO Chefs\\']\", \"skills\": \"[\\'bulk cooking\\', \\'buffet style meals preparation\\']\", \"responsibilities\": \"[\\'Cooking for 20 - 2000 people\\', \\'Work in all sections of the kitchen\\', \\'Day and night shift work\\']\", \"requirements\": \"[\\'Previous experience as FIFO Chef\\', \\'Minimum Certificate III in Commercial Cookery\\', \\'Ability to pass a full comprehensive medical\\', \\'Drug and alcohol testing every 28 days\\']\", \"classification\": \"[\\'Mining, Resources & Energy\\']\", \"salary\": \"[\\'Great rates of pay\\']\", \"location\": \"[\\'Perth\\']\", \"workType\": \"[\\'Contract/Temp\\']\"}',\n",
       " '{\"job_title\": \"[\\'Business Development Manager - Economic Advisory\\']\", \"skills\": \"[\\'face to face selling\\', \\'closing deals\\', \\'prospecting\\', \\'consulting\\']\", \"responsibilities\": \"[\\'Sell macroeconomic consulting and subscriptions\\', \\'Engage with C-suite and hunt for new enterprise clients\\', \\'Drive new revenue growth through prospecting into various enterprise level industries\\', \\'Take deals through to close\\', \\'Proactively hunt for new business\\', \\'Keep up to date with macroeconomic trends and global outlooks\\']\", \"requirements\": \"[\\'Minimum 3 years new business experience\\', \\'Experience in enterprise dealing with C-suite\\', \\'Experience selling a subscription\\', \\'Demonstrated history of meeting and exceeding targets\\', \\'Face to face selling and closing experience\\', \\'Professional services background\\']\", \"classification\": \"[\\'Sales\\', \\'Sales Representatives/Consultants\\']\", \"salary\": \"[\\'$95K base + S with an OTE of $160K\\']\", \"location\": \"[\\'CBD, Inner West & Eastern Suburbs\\', \\'Sydney\\']\", \"workType\": \"[\\'Full Time\\']\"}',\n",
       " '{\"job_title\": \"[\\'Class 5 Driver - Night shift\\']\", \"skills\": \"[\\'Manual handling\\', \\'Customer service\\']\", \"responsibilities\": \"[\\'Delivering mostly Auckland metro area\\', \\'May be required to deliver to Waikato region\\', \\'Manual handling to keep fit while you work\\']\", \"requirements\": \"[\\'Valid Class 5 license\\', \\'Minimum of 2 years driving experience\\', \\'Physical fitness\\', \\'Reliability\\', \\'Experience in concrete or aggregate\\', \\'Complete a Drug and Alcohol screen\\', \\'Ministry of Justice check\\', \\'Verifiable work rights and eligibility to work in New Zealand\\']\", \"classification\": \"[\\'Manufacturing, Transport & Logistics\\', \\'Road Transport\\']\", \"salary\": \"[\\'Up to $27/hr based on experience plus daily overtime rates\\']\", \"location\": \"[\\'Auckland Central\\', \\'Auckland\\', \\'Auckland CBD\\']\", \"workType\": \"[\\'Contract/Temp\\']\"}',\n",
       " '{\"job_title\": \"[\\'Spare Parts Sales Trainee\\']\", \"skills\": \"[\\'Mechanically minded\\', \\'Ability to work efficiently\\', \\'Show initiative\\', \\'Quality focused\\', \\'Develop customer relationships\\', \\'Source stock\\']\", \"responsibilities\": \"[\\'Process customer\\\\u2019s enquiries & orders via phone, emails, and over the counter\\', \\'Be part of the team responsible for the whole of Point of Sale and showroom operations\\', \\'Develop customer relationships to ensure the branch is the supplier of choice\\', \\'Source stock, to meet customers need, using appropriate techniques and process\\', \\'Assist to develop and implement showroom promotional activity to drive counter sales\\', \\'Pick, pack & dispatch customer orders when required\\', \\'Ensure at all times that the Shop shelves immaculate and re-stocked for sale\\']\", \"requirements\": \"[\\'Mechanically minded\\', \\'Current Drivers Licence is desirable\\', \\'Willingness to work in a team\\', \\'Certificate III \\\\u2013 Automotive - Sales (opportunity to gain)\\']\", \"classification\": \"[\\'Sales\\', \\'Sales Representatives/Consultants\\']\", \"salary\": \"[]\", \"location\": \"[\\'Wagga Wagga & Riverina\\', \\'Wagga Wagga\\']\", \"workType\": \"[\\'Full Time\\']\"}',\n",
       " '{\"job_title\": \"[\\'WAREHOUSE INVENTORY CONTROLLER DAY SHIFT\\']\", \"skills\": \"[\\'High reach forklift operation\\', \\'Licenced operation of a scissor lift\\', \\'RF scanning\\', \\'Heavy Lifting\\']\", \"responsibilities\": \"[\\'High reach forklift operation\\', \\'Licenced operation of a scissor lift\\', \\'Receiving stock\\', \\'Cycle counting\\', \\'Investigate missing pallets, orphaned stock and batch issues\\', \\'General labouring\\']\", \"requirements\": \"[\\'Experience as High Reach forklift driver\\', \\'Ability to safely lift 20kg ongoing\\', \\'Previous experience in similar role\\']\", \"classification\": \"[\\'Manufacturing, Transport & Logistics\\', \\'Purchasing, Procurement & Inventory\\']\", \"salary\": \"[]\", \"location\": \"[\\'Lytton QLD\\', \\'Bayside & Eastern Suburbs\\', \\'Brisbane\\']\", \"workType\": \"[\\'Part Time\\']\"}',\n",
       " '{\"job_title\": \"[\\'Teacher - Primary Physical Education - Yungaburra State School\\']\", \"skills\": \"[\\'energetic\\', \\'flexible\\', \\'passion for leading\\', \\'encouraging active learners\\']\", \"responsibilities\": \"[\\'teaching Primary PE part-time\\', \\'encouraging active learners\\']\", \"requirements\": \"[\\'relevant teaching qualification\\', \\'ability to meet minimum entry requirements as a teacher\\', \\'Early Childhood education qualifications highly regarded\\']\", \"classification\": \"[\\'Education & Training\\', \\'Teaching - Primary\\']\", \"salary\": \"[\\'highly attractive remuneration package\\', \\'generous superannuation\\', \\'salary sacrificing options\\', \\'leave loading\\']\", \"location\": \"[\\'Cairns & Far North\\', \\'Cairns\\']\", \"workType\": \"[\\'Part Time\\']\"}',\n",
       " '{\"job_title\": \"[\\'Content Adviser-Producer\\']\", \"skills\": \"[\\'multimedia production\\', \\'video production\\', \\'photography production\\', \\'project management\\', \\'communications\\']\", \"responsibilities\": \"[\\'manage print and digital projects\\', \\'produce tailored content for specific purposes and audiences\\', \\'work with the Content team to deliver the annual work plan\\', \\'ensure content is clinically accurate, consistent, and appropriately targeted\\', \\'maintain and update brand and template guidelines\\']\", \"requirements\": \"[\\'graduate qualification in communications, project management, or production discipline\\', \\'three years in a similar level role\\', \\'experience in multimedia materials production\\', \\'ability to build and maintain strong relationships\\', \\'exceptional attention to detail\\', \\'ability to meet and manage conflicting deadlines\\']\", \"classification\": \"[\\'Marketing & Communications\\']\", \"salary\": \"[]\", \"location\": \"[\\'Melbourne\\', \\'Hawthorn\\']\", \"workType\": \"[\\'Full Time\\']\"}',\n",
       " '{\"job_title\": \"[\\'Mechanical Engineering Teacher\\']\", \"skills\": \"[\\'teaching\\', \\'Mandarin (not mandatory)\\']\", \"responsibilities\": \"[\\'teach Mechanical Engineering for Wintec in Jinhua, China\\', \\'teaching in the classroom up to approximately 24 hours per week\\', \\'nurture and engage students\\', \\'foster a student-centered learning environment\\']\", \"requirements\": \"[\\'minimum two years mechanical engineering teaching experience at a tertiary level\\', \\'preferably have some recent industry experience in mechanical engineering field\\', \\'preferably have previously worked with young Chinese adult learners with low-level English skills\\', \\'have a genuine interest in Chinese culture and history\\', \\'be collaborative and able to build up good relationship with peer colleagues as well as Chinese Management and administration staff at Jinhua Polytechnic\\']\", \"classification\": \"[\\'Education & Training\\', \\'Teaching - Vocational\\']\", \"salary\": \"[]\", \"location\": \"[\\'Auckland Central\\', \\'Auckland\\', \\'Auckland CBD\\']\", \"workType\": \"[\\'Full Time\\']\"}',\n",
       " '{\"job_title\": \"[\\'Corporate Reception & Administration role\\']\", \"skills\": \"[\\'organisational skills\\', \\'communication skills\\']\", \"responsibilities\": \"[\\'Management of the Reception desk\\', \\'meeting and greeting all guests and visitors\\', \\'Assisting with overflow project based work\\', \\'Managing a high volume of incoming calls\\', \\'Meeting room management\\', \\'Ad hoc Administration support\\', \\'Assist with booking travel\\', \\'Assist with invoicing\\']\", \"requirements\": \"[\\'Previous Reception/Administration experience (1 year +)\\', \\'Exceptional communication skills\\', \\'bubbly, outgoing personality\\']\", \"classification\": \"[\\'Administration & Office Support\\']\", \"salary\": \"[]\", \"location\": \"[\\'North Sydney\\']\", \"workType\": \"[\\'Contract/Temp\\']\"}',\n",
       " '{\"job_title\": \"[\\'Casual Youth Work - Inner West\\']\", \"skills\": \"[\\'communication\\', \\'behavioral management\\', \\'crisis management\\']\", \"responsibilities\": \"[\\'providing a safe and secure homelike environment for young people impacted by trauma\\', \\'support young people with complex needs\\', \\'promote and model positive behaviors\\', \\'manage exposure to young people with complex and challenging behaviors\\']\", \"requirements\": \"[\\\\\"NSW Driver\\'s License\\\\\", \\'First Aid & CPR Certificate\\', \\'Certificate 4 in Youth work/Community services or related field\\', \\'Working With Children Check\\', \\'3 months full time or 400+ hours paid experience\\']\", \"classification\": \"[\\'Community Services & Development\\', \\'Child Welfare, Youth & Family Services\\']\", \"salary\": \"[]\", \"location\": \"[\\'CBD, Inner West & Eastern Suburbs\\', \\'Sydney\\']\", \"workType\": \"[\\'Contract/Temp\\']\"}']"
      ]
     },
     "execution_count": 12,
     "metadata": {},
     "output_type": "execute_result"
    }
   ],
   "source": [
    "llm_json = llm_outputs_df[['job_title', 'skills', 'responsibilities', 'requirements',\n",
    "       'classification', 'salary', 'location', 'workType']].apply(lambda row: dumps(row.to_dict()), axis=1).tolist()\n",
    "llm_json"
   ]
  },
  {
   "cell_type": "code",
   "execution_count": 13,
   "id": "b879dab7",
   "metadata": {},
   "outputs": [
    {
     "data": {
      "text/plain": [
       "['{\"title\": \"Business Services Senior Accountant\", \"job_description_clean\": \"This Senior Accountant role is with a national firm who have been a mainstay of the AFR Top 50 list over the past decade and they are looking for a recently qualified accountant to join their ever - growing firm. Working directly with partners and directors, you will get hands on experience with some of the highest profile clients that they have on their books while also getting the opportunity to mentor juniors and grads as they some up through the ranks.\\\\nThere\\\\u2019s a high priority on a work life balance as well as ongoing professional development to make sure that you can be the best version of you that you can possibly be. This is a perfect opportunity for someone who is looking for a high class, corporate firm who promote on performance not tenure. The Role Preparation of financial statements, tax returns, BAS, FBT and Payroll tax Journal entries and reconciling accounts Liaising with the ATO, ASIC and other bodies Ad hoc advisory and research work About You CA Qualified (or near completion) 4 - 5 years experience Ability to monitor WIP and billings Solid understanding of Tax fundamentals Excellent written and verbal communication Enthusiastic and a self - starter attitude If you are looking for progression, development and a balance in your life and career, this could be the exact role you have been looking for. If you are interested in this position and feel you meet the criteria, then please send your CV to adam@charterhouse.com.au or click on the link attached to this advert\", \"classification\": \"Accounting\", \"subClassification\": \"Business Services & Corporate Advisory\", \"area\": \"CBD, Inner West & Eastern Suburbs\", \"location\": \"Sydney\", \"suburb\": \"Sydney\", \"workType\": \"Full Time\"}',\n",
       " '{\"title\": \"Area Manager - Victoria\", \"job_description_clean\": \"At ALDI, our people are the key to our success.\\\\nTo be eligible to apply you must have completed a Bachelor Degree or a Master Degree in any discipline, demonstrate a strong academic record, have a minimum of 3 years business experience, and proven success in leadership roles. Our Area Managers must be able to plan and manage their time effectively to achieve goals, be supportive and approachable in order to develop their teams, and have the knowledge and drive to deliver on significant P&L responsibilities\\\\nWhat\\'s in it for you? Market leading remuneration - $112,000 - $162,800* + Car\\\\nBe a part of a leading international retailer\\\\nA comprehensive 12 month training program\\\\nHigh levels of autonomy and responsibility\\\\nProblem solving of real business challenges\\\\n5 weeks annual leave\\\\niPhone and company car from day one\\\\nYou will be responsible for: Running and overseeing 3 - 5 ALDI stores as if they were your own business\\\\nManaging all aspects of your area including; recruitment, training, profit and loss management\\\\nEnsure all ALDI controls, policies, procedures and guidelines are adhered to\\\\nContributing to the wider business by undertaking project work on cross location challenges\\\\nPlanning out the efficient day to day running of your business\\\\n*Includes superannuation. Remuneration varies depending on ALDI experience.\", \"classification\": \"CEO & General Management\", \"subClassification\": \"General/Business Unit Manager\", \"area\": NaN, \"location\": \"Bairnsdale & Gippsland\", \"suburb\": NaN, \"workType\": \"Full Time\"}',\n",
       " '{\"title\": \"Maths & Physics Teacher | QLD\", \"job_description_clean\": \"About the company:\\\\nThe School is a prestigious faith - based school committed to students\\\\u2019 education. Located in the highly desirable city of Toowoomba, QLD. As an all - through school, their reputation for excellence is recognised across the board. The School particularly prides itself on the individualised learning environment that encourages all students to explore and develop to their full potential. Being a faith - based school is integral to the ethos of the school, students and wider community. The successful applicant must therefore be committed to upholding this culture and actively contribute to the wider - life of the school.\\\\nAbout the role:\\\\nThe school is seeking a Maths and Physics Teacher to join this core faculty on a permanent basis. Successful candidates will have experience teaching both subjects from Years 7 - 12 and some experience of Middle Years Science and Maths B would be highly regarded. The timetabled hours will be a minimum of 70% - full - time teaching - load dependent on the candidate.\\\\nSkills and Experience:\\\\nMust have teacher registration in QLD or be eligible to gain\\\\nBe a highly competent Maths and Physics Teacher\\\\nExperience teaching Middle Years Science and Maths B Highly regarded\\\\nBenefits\\\\nCompetitive salary structure for Teaching staff in QLD\\\\nAdditional super contributions\\\\nProfessional learning opportunities\\\\nTo Apply send in your updated resume (including two recent referees) and covering letter\\\\nAlternatively, for a confidential discussion, please contact Renee Lee at Frontline Education on 0408 705 872\\\\n, quoting Ref No. 154997 or otherwise please check out our website for other available positions.\\\\nwww.frontlineeducation.com.au\", \"classification\": \"Education & Training\", \"subClassification\": \"Teaching - Secondary\", \"area\": NaN, \"location\": \"Perth\", \"suburb\": NaN, \"workType\": \"Full Time\"}',\n",
       " '{\"title\": \"Drug Intervention and Rehabilitation Worker\", \"job_description_clean\": \"Would you like to help create new futures for young people? Join Brisbane Youth Service today to make a difference in the lives of Brisbane\\\\u2019s vulnerable young people and their families. Brisbane Youth Service is a medium - sized incorporated association providing holistic responses to vulnerable young people (aged 12 \\\\u2013 25 years) and young families who are experiencing homelessness or are at - risk of becoming homeless. We know diversity makes a positive difference, and we encourage people from Aboriginal and/or Torres Strait Islander backgrounds with relevant experience to apply. BYS promotes work - life balance and provides a supportive team environment and additional benefits such as salary packaging arrangements and a generous five weeks annual leave per year. The Opportunity Drug Intervention and Rehabilitation Worker Temporary full - time position to 30 June, 2021 with possibility of extension 76 hours per fortnight Are you a dynamic individual with a commitment to supporting homeless and at - risk youth experiencing multiple vulnerabilities? The Drug Intervention and Rehabilitation Worker engages, supports and educates homeless and at - risk young people experiencing multiple vulnerabilities to achieve their personal goals around alcohol and other drug use. You will provide crisis intervention, individual and group support and work collaboratively with the community to effectively respond to issues associated with illicit drug use. To undertake the Dug Intervention and Rehabilitation Worker role, you will require a tertiary qualification in Social Work, Psychology, Social Services or similar, or extensive relevant experience in this field. Selection Criteria To be successful in your application you will need to provide written responses to the following selection criteria: An understanding and commitment to BYS\\\\u2019 values, vision and goals. A high level of understanding of young people\\\\u2019s alcohol and other drug use and trends in use, including co - occurring substance use and mental health issues. A demonstrated ability to implement crisis interventions and therapeutic approaches aligned with BYS\\\\u2019 practice framework, including a commitment to harm reduction, health promotion and social justice principles. Demonstrated experience in case management and supporting young people to plan and achieve their goals. Sound and effective communication skills and an ability to engage with vulnerable young people, professionals, colleagues, service providers, and health practitioners. How to Apply Applicants must use the BYS Employment package that can be viewed and downloaded from our website: https://brisyouth.org/employment - opportunities/ Email complete applications to admin@brisyouth.org Applications for this position close 5:00pm Wednesday 15th May 2019\", \"classification\": \"Community Services & Development\", \"subClassification\": \"Community Development\", \"area\": \"CBD & Inner Suburbs\", \"location\": \"Brisbane\", \"suburb\": \"Fortitude Valley\", \"workType\": \"Full Time\"}',\n",
       " '{\"title\": \"Customer Service Officer, Level 1\", \"job_description_clean\": \"Customer Service Officer for Families - Wellington About Inland Revenue\\\\nInland Revenue (IR) is a world leading revenue organisation that keeps reinventing itself. Our current transformation programme will bring about significant change to the way we operate and how we interact with our customers. We\\'re making the tax system simpler, more open and certain for New Zealanders to pay their taxes and receive their entitlements. As a customer - centric organisation, our goal is to give our customers the best possible experience with our tax system. We\\'re looking for talented people who will provide end - to - end services to improve customer experience and long - term compliance, and champion IR\\'s customer - centric and intelligence - led culture. About the role\\\\nWe have an opportunity for Customer Service Officers (CSOs) to join our team working for the Families Customer Segment based in Wellington. We love to hire people who are passionate about the service they provide; are naturally curious; look for continuous improvements and are committed to what they do. You will work in an area that supports parents involved in Child Support. You will engage with customers around their Child Support entitlements and obligations. This is a full - time, fixed - term opportunity from Monday, 24 June 2019 to Friday, 29 November 2019\\\\nWe operate a rotating shift roster working Monday to Friday on 7 - hour, 35 - minute shifts between the hours of 7.25am and 8.30pm\\\\nWe require CSOs who are committed and have the ability to work in a structured environment\\\\nIf you are shortlisted for this vacancy you will need to complete online testing as part of the recruitment process What you\\'ll need to bring to the role\\\\nCSOs must be agile; have strong emotional resilience; adjust well to change and be keen to embrace new technologies. You will have a strong level of commitment to delivering a high standard of customer service. As a CSO you will demonstrate: Great problem - solving skills and the ability to view issues from a customer perspective\\\\nA passion for providing excellent customer service through high quality customer interactions over a range of channels\\\\nA team focus, supporting your colleagues and the wider team for the good of the customer\\\\nGreat time management skills, accuracy and reliability\\\\nHigh levels of integrity and confidentiality\\\\nThe ability to operate comfortably in a digital environment and support customers to be digitally self - managed\\\\nPreferably prior customer service experience\\\\nA desire to learn new skills IR is a fun, fast paced team environment. To ensure your success, you will be provided with in - depth training and support from our experienced leaders, with regular coaching and performance feedback. Are you keen to join us?\\\\nPlease click \\\\u2018apply\\' and submit a CV along with your cover letter outlining how you are the perfect Customer Service Officer for us.\\\\nFor further information please see the attached Job Description or if you have questions please email Jamie Scott from the Inland Revenue Recruitment Team on jamie.scott@ird.govt.nz Application closes: Monday, 20 May 2019\", \"classification\": \"Call Centre & Customer Service\", \"subClassification\": \"Customer Service - Call Centre\", \"area\": \"Wellington Central\", \"location\": \"Wellington\", \"suburb\": \"Wellington CBD\", \"workType\": \"Contract/Temp\"}',\n",
       " '{\"title\": \"Legal Executive Assistant\", \"job_description_clean\": \"Are you an experienced Legal Secretary looking for that next level in your career? Superb opportunity to join a highly regarded Top Tier firm supporting the Partner in charge. Joining the busy Banking & Finance team, this position requires a candidate dedicated and able to provide a strong level of administrative assistance to the Partner. You will be responsible for: High level email management - monitoring and responding to a vast number of emails Proactively managing Partners diary Scheduling appointments and attending to conflicting priorities Attending to high volume calls from clients and internal staff members, assisting wherever possible Booking meeting rooms, arranging catering and video conferencing facilities (in - house and externally) Booking and managing travel and accommodation requirements Managing files \\\\u2013 electronic and manual Updating client information Arranging client functions Drafting correspondence and documents (dictation and copy typing) Billing and expense management To be successful in this role, we are seeking candidates who match the following criteria: A minimum of 4 years\\\\u2019 experience as a Legal Secretary supporting Partner level Top Tier or large law firm experience is highly desirable Pro - active manner Ability to work under pressure and respond to conflicting priorities Strong written and communication skills Confident manner Can do approach to tasks Solid technical skills (minimum 70 wpm with high accuracy), Intermediate level + Word skills. Excel and PowerPoint would be advantageous. If this sounds like the challenge you have been waiting for, do not hesitate. Immediate interviews are available at your convenience. Please note this is a full time position offered on a 12 month contract with likely extension. Contact Angela Bamford on 0423 471 524 or E: angela@parkesrecruitment.com.au quoting reference number 3697.\", \"classification\": \"Legal\", \"subClassification\": \"Legal Secretaries\", \"area\": \"CBD, Inner & Western Suburbs\", \"location\": \"Perth\", \"suburb\": \"Perth\", \"workType\": \"Full Time\"}',\n",
       " '{\"title\": \"Accounts Assistant\", \"job_description_clean\": \"We provide engineering, scientific and planning services to a wide range of clients. Due to our company experiencing significant growth, we are looking for an Accounts Assistant to work with our Financial Controller and our Assistant Accountant. This is an exceptional opportunity for an accounting graduate, with a good understanding of basic accounting procedures to join our Auckland office and gain invaluable experience within a reputable professional consultancy! A significant element of this role will be accounts processing so a fast and accurate data entry speed is desirable. Your responsibilities will include, but will not be limited to: Checking and entering invoices, employee expenses and disbursements Reviewing timesheet and record keeping Running monthly work in progress reports for invoicing Assisting with month end creditor payments Bank reconciliations Assisting with debt collection Assisting with monthly payroll administration If you are confident you have a good understanding of basic accounting procedures and you are keen, organized and have an excellent attention to detail \\\\u2013 this could be the start of your career! For further details and a job description, please go to our website www.pdp.co.nz or click apply now and send your CV and a cover letter to:\", \"classification\": \"Accounting\", \"subClassification\": \"Assistant Accountants\", \"area\": \"Auckland Central\", \"location\": \"Auckland\", \"suburb\": \"Newmarket\", \"workType\": \"Full Time\"}',\n",
       " '{\"title\": \"Customer Service Representative - National Call Centre\", \"job_description_clean\": \"About tech2 tech2 is a leading national provider of field services in the Telecommunications, Audio Visual and IT Service industries. With operations in all major capital cities and territories, tech2 clients include NBN, Harvey Norman, Tata and TPG. Located in Ultimo, a short walk from Central Station, Sydney Uni and UTS; the tech2 call centre manages a technical field workforce in the Audio Visual, Telecommunications, Information Technology and related industries. The Customer Service team ensures quality installation and maintenance services for all of our customers in the Audio Visual space. We have over 400 fully equipped and trained technicians deployed who are supported by our dedicated Operations Centres and other support staff. We require someone with a can do attitude and can give great customer service to the team and clients. Successful candidates must be available to work on a rotating roster Monday - Friday between the hours of 8am and 6pm with occasional Saturday work. About the role In this role you will be required to: - Take inbound calls from both internal and external customers - Make outbound calls to existing customers regarding their appointment - Co - ordinate and effectively support a team of field technicians who are completing installations of Audio Visual & Technology products - Liaise with customers in regard to delays, cancellations, re - scheduling of jobs and provide proactive communication to our customers - Advise technicians of customer requirements or other information relevant to the management of their workloads requirement to achieve daily targets. Essential Criteria: - Recent Call Centre and/or Customer Service experience of 12 months+ is essential - Proven ability to work in a changing environment - Excellent data entry skills - Computer literate with intermediate MS Office skills - Excellent customer service skills and telephone etiquette - Proven ability to complete multiple tasks simultaneously The successful applicant In return will receive highly competitive remuneration with excellent employee benefits, and a sensational opportunity to be part of a progressive industry sector. If you feel that you meet the above criteria and you are ready to take on a new challenge please apply now attaching your resume in a Word format. Successful candidates must have a clean valid police check (done within the last 6 months). tech2 workers and their families enjoy a wide range of discounts at over 350 major retailers across Australia, thanks to our exclusive benefits program. Please note, due to the high volume of applicants only shortlisted candidates will be contacted. We respect your privacy and will not collect, use or disclose your personal information other than in accordance with the Australian Privacy Principles as set out in our Privacy Policy.\", \"classification\": \"Call Centre & Customer Service\", \"subClassification\": \"Customer Service - Call Centre\", \"area\": \"CBD, Inner West & Eastern Suburbs\", \"location\": \"Sydney\", \"suburb\": \"Ultimo\", \"workType\": \"Full Time\"}',\n",
       " '{\"title\": \"Purchasing Support Officer\", \"job_description_clean\": \"Purchasing Support Officer - Immediate Start - Mining & Construction Company - Based near Airport Support busy procurement team - immediate start - based Eastern Suburbs Varied and interesting role for individual with knowledge and experience of purchasing practice and systems. Responsibilities\\\\nResearch potential vendors\\\\nTrack orders and ensure timely delivery\\\\nUpdate internal databases with order details (dates, vendors, quantities, discounts)\\\\nConduct market research to identify pricing trends\\\\nEvaluate offers from vendors and negotiate better prices\\\\nPrepare cost analyses\\\\nMaintain updated records of invoices and contracts\\\\nFollow up with suppliers, and expedite as needed, to confirm or change orders. Requirements\\\\nIdeally you will have some work experience as a Purchasing Assistant or similar\\\\nHands - on experience with purchasing software\\\\nGood knowledge of MS Excel\\\\nKnowledge of market research\\\\nSolid organizational skills\\\\nGreat attention to detail\\\\nExcellent communication skills over the phone, face to face and written. This role will start on a contract basis initially and the hourly pay rate will depend on skills and previous experience (up to $40ph + super).\", \"classification\": \"Manufacturing, Transport & Logistics\", \"subClassification\": \"Purchasing, Procurement & Inventory\", \"area\": NaN, \"location\": \"Perth\", \"suburb\": \"Perth Airport\", \"workType\": \"Contract/Temp\"}',\n",
       " '{\"title\": \"Business Manager - Hamilton\", \"job_description_clean\": \"About us Temperzone is a leading manufacturer, distributor and exporter of air and water - cooled air conditioning systems, ventilation equipment and air distribution systems serving New Zealand, Australia and South - East Asia. We have evolved through an ongoing commitment to best manufacturing practices, innovative design, customer service, and technology for quality delivery. The combined group employs over 700 staff, around 485 of which are based in New Zealand. We are seeking an experienced Business Manager to lead temperzone Hamilton . The successful applicant must be self - starter with plenty of hustle, who thrives in a constantly changing environment, has experience managing teams of people and who loves a challenge. Your responsibility Manage budget and operational costs and set KPIs around production. Lead and develop the site operational team ensuring clear responsibilities and levels of accountability for all staff Ensure the company meets agreed operational and financial targets as determined with the General Manager Responsible for managing and developing the company\\\\u2019s operations to meet customer orders at the optimum level of productivity and quality. Analyse existing operations, leading a continuous improvement culture within operations supported by KPI measurement and feedback. Possess strong analytical, problem solving and decision - making skills Solid understanding of OHS requirements Control labour, equipment and maintenance costs Actively contribute as a member of the Senior Management Team and communicate with stakeholders across the organisation, including Board level reporting. Oversee the stock management and procurement of stock as well as supplier relationships. Provide strategic direction and drive for business. Develop and drive the implementation of business plan initiatives that support the overall business plan strategies. Represent the company with customers and suppliers in a professional and trustworthy manner. Provide strong leadership, to achieve good communication flow, high morale, strong team work and good employee relations, at all levels across the Temperzone Team in Hamilton. About you What you will bring: Experience in an industrial or manufacturing business environment A related tertiary qualification or extensive relevant industry experience Experience in aligning operations to deliver business and cost efficiencies while maintaining quality and safety. Strong interpersonal skills and the ability to interact with a wide range of teams and stakeholders across all levels of the business. Strong analytical, organisational, decision making, and presentation skills. Proven track record of developing and mentoring staff What\\\\u2019s on offer Competitive salary package + Kiwisaver Onsite parking Free Southern Cross Medical Insurance Ongoing professional development and training Applications close Friday 24th May 2019\", \"classification\": \"CEO & General Management\", \"subClassification\": \"General/Business Unit Manager\", \"area\": \"Manukau & East Auckland\", \"location\": \"Auckland\", \"suburb\": \"Mangere\", \"workType\": \"Full Time\"}',\n",
       " '{\"title\": \"FIFO Chefs\", \"job_description_clean\": \"Due to continued growth our clients are looking for site experienced Chefs to join their team.\\\\nCandidates will ideally have experience in bulk cooking along with their Certificate III in Commercial Cookery or similar. These positions are mixed positions, so flexibility is essential, as you will be required to work in all sections of the kitchen including day and night shift. Please be aware that these are all casual roles.\\\\nRequirements: Previous experience in a similar role as FIFO Chef Experience in bulk cooking - Cooking for anywhere from 20 - 2000 people Minimum Certificate III in Commercial Cookery Ability to pass a full comprehensive medical, as well as drug and alcohol testing every 28 days Green people with no FIFO experience will be considered for the small camps or exploration roles. However, you MUST be able to prepare buffet style meals for anywhere from 20 - 150 people. If you are available immediately, please click apply now and attach an up to date resume along with any relevant tickets and trade qualifications.\", \"classification\": \"Mining, Resources & Energy\", \"subClassification\": \"Other\", \"area\": NaN, \"location\": \"Perth\", \"suburb\": NaN, \"workType\": \"Contract/Temp\"}',\n",
       " '{\"title\": \"Business Development Manager - Economic Advisory - $160K\", \"job_description_clean\": \"THE COMPANY My client analyses macroeconomic trends to provide global forecasting services to enterprise clients in the financial services, government and corporate space. They\\\\u2019re a global company with offices in capital cities around the world, and they\\\\u2019re currently looking to build their Sydney team and bring aboard a new Business Development Manager. THE ROLE Looking for an experienced sales professional within their consulting services/subscriptions division to engage with C - suite and hunt for their newest enterprise clients. This person will join a high performing team of skilled Business Development Managers and play a vital role in the growth of the APAC region. This is a client facing role where your responsibilities will include: Driving new revenue growth through prospecting into various enterprise level industries including financial services, government and corporate. Taking your deals through to close and proactively hunting for new business. Keeping up to date with macroeconomic trends and global outlooks to act as a consultant. WHAT WE\\\\u2019RE LOOKING FOR To qualify for the role you will need the following: Minimum 3 years new business experience, in enterprise dealing with C - suite, selling a subscription. Demonstrated history of meeting and exceeded targets. Face to face selling and closing experience. Would suit a candidate with a professional services background. Salary is a base of $95K + S with an OTE of $160K. Interviewing immediately. Please send CVs to Ella at ella.johnston@streamrecruitment.com.au or call 0402 599 920 for a confidential chat.\", \"classification\": \"Sales\", \"subClassification\": \"Sales Representatives/Consultants\", \"area\": \"CBD, Inner West & Eastern Suburbs\", \"location\": \"Sydney\", \"suburb\": \"Sydney\", \"workType\": \"Full Time\"}',\n",
       " '{\"title\": \"Class 5 Driver - Night shift\", \"job_description_clean\": \"Our Client is a reputable company who looks after their employees. They are currently looking for an experienced Class 5 Driver to join their team! If you want to work for a great company who values their employees and offers on going work, then apply today.\\\\nThe position offers and requires the following\\\\nOn - going work with a great company\\\\nMonday to Saturday roster\\\\nDelivering mostly Auckland metro area. may be required to deliver to Waikato region\\\\nManual handling , to keep fit while you work\\\\nThis position won\\\\u2019t last long and is an integral cog in the well - oiled community. You will be joining an experienced, friendly and effective local team that values their team and business.\\\\nIn order to be successful in this position, you will possess the following:\\\\nA valid Class 5 license, with minimum of 2 years driving experience\\\\nPhysical fitness (for manual handling)\\\\nStrong Customer service skills\\\\nReliability\\\\nIn return you will get:\\\\nWork in a safe environment with a modern fleet\\\\nUp to $27/hr based on experience plus dailly overtime rates on offer. OT kicks in after 8hrs and DT after 11hrs\\\\nLots of hours on offer\\\\nCareer progression\\\\nYou will also be required to complete a Drug and Alcohol screen and Ministry of Justice check. Applicants must have verifiable work rights and eligibility to work in New Zealand.\\\\nIf this position sounds like a great opportunity and you have the requirements listed for our client, don\\\\u2019t hesitate in apply today!\\\\nCall for more information - 0800 000 210 or CLICK APPLY NOW!\", \"classification\": \"Manufacturing, Transport & Logistics\", \"subClassification\": \"Road Transport\", \"area\": \"Auckland Central\", \"location\": \"Auckland\", \"suburb\": \"Auckland CBD\", \"workType\": \"Contract/Temp\"}',\n",
       " '{\"title\": \"Spare Parts Sales Trainee\", \"job_description_clean\": \"The Company Are you mechanically minded? Looking for a Sales Role?Then we have the job for you! BSC Wagga are looking to bring on and develop eager trainees in Spare Parts - Sales. BSC provide high quality hardware including, bearings, power transmission, fluid power fittings, seals, power tools and consumables to engineering, mining, transport, defense, manufacturers, civil infrastructure and the trades. This is a career - building opportunity for dedicated candidates seeking a career in the sales/automotive industry. Your New Opportunity As a Spare Parts Sales Trainee, you will be performing the following duties; Process customer\\\\u2019s enquiries & orders via phone, emails, and over the counter Be part of the team responsible for the whole of Point of Sale and showroom operations Develop customer relationships to ensure the branch is the supplier of choice Source stock, to meet customers need, using appropriate techniques and process Assist to develop and implement showroom promotional activity to drive counter sales Pick, pack & dispatch customer orders when required Ensure at all times that the Shop shelves immaculate and re - stocked for sale Skills and Attributes The successful applicant will ideally have/be; Mechanically minded Ability to work efficiently and show initiative Be quality focused to ensure customer orders are right first time every time Willingness to work in a team to achieve and exceed expectations Current Drivers Licence is desirable. What\\\\u2019s on offer Opportunity to join a well - connected team of hard - working individuals Opportunity to gain a Certificate III \\\\u2013 Automotive - Sales Work for a business that encourages career progression and staff members to reach their full potential. How to Apply Does this sound like you? Please click the \\\\u2018Apply\\\\u2019 button now and attach your cover letter and resume. For a confidential discussion about the position, please contact Rachel Grigg at GTES on 1300 881 279 or email recruitment@gtes.com.au. Applications close Midnight 12th of May 2019. ** Please note candidate successful for the position will be required to undergo a pre - employment medical assessment involving a drug & alcohol screening and physical assessment upon being offered the position.\", \"classification\": \"Sales\", \"subClassification\": \"Sales Representatives/Consultants\", \"area\": NaN, \"location\": \"Wagga Wagga & Riverina\", \"suburb\": \"Wagga Wagga\", \"workType\": \"Full Time\"}',\n",
       " '{\"title\": \"WAREHOUSE INVENTORY CONTROLLER DAY SHIFT \", \"job_description_clean\": \"WAREHOUSE INVENTORY CONTROLLER DAY SHIFT Lytton QLD - GREAT CULTURE\\\\nAction Workforce have one of Australia\\'s leading warehousing distributor currently looking for Experienced High Reach forklift drivers based in Lytton QLD. The role is an ongoing, Monday to Friday shift with varying start times from 6am.\\\\nTo be considered you must have previous experience in similar role. What\\'s on offer:\\\\nGreat rates Traditional Values\\\\nGreat team environment\\\\nDay and afternoon shift available Duties include but are not limited to:\\\\nHigh reach forklift operation (Experience Essential)\\\\nLicenced operation of a scissor lift (Experience Essential)\\\\nReceiving stock\\\\nCycle counting\\\\nInvestigate missing pallets, orphaned stock and batch issues\\\\nRF scanning Heavy Lifting (Must be able to safely lift 20kg, ongoing)\\\\nGeneral labouring\\\\nAll applications will be treated with the strictest of confidence and will be subject to suitability based on Action Workforce induction process which includes full drug screening and physical assessment\\\\n. If you believe that you meet the above criteria, please click \\\\\"Apply for This Job\\\\\". Due to the high volume of applications only successful applicants will be contacted. If you have not received a call within 2 weeks please consider your application unsuccessful. Previous applicants need not apply.\", \"classification\": \"Manufacturing, Transport & Logistics\", \"subClassification\": \"Purchasing, Procurement & Inventory\", \"area\": \"Bayside & Eastern Suburbs\", \"location\": \"Brisbane\", \"suburb\": \"Lytton\", \"workType\": \"Part Time\"}',\n",
       " '{\"title\": \"Teacher - Primary Physical Education - Yungaburra State School\", \"job_description_clean\": \"We look forward to welcoming an enthusiastic, energetic and dedicated part - time Primary PE teacher to our team commencing in June. The successful applicant will be hard - working, energetic and flexible with a passion for leading and encouraging active learners.\\\\nWelcome to Yungaburra State School\\\\nLocated in quiet tablelands community of Yungaburra, our school caters for approximately 230 students from Prep to Year Six. We have a proud tradition of providing excellent education to all of our students and is held in high regard across the Tablelands as a school that consistently achieves outstanding academic results and provides our students with diverse opportunities to develop their skills in sports and music.\\\\nWe look forward to welcoming an energetic, enthusiastic and fun loving Early Childhood Teacher to our dedicated and profession teaching team for this permanent full time position commencing in Term Three. Early Childhood education qualifications would be highly regarded but is not essential. Mid - year graduates are encouraged to apply.\\\\nExplore our website to learn more about .\\\\nWhat\\'s in it for you?\\\\nA highly attractive remuneration package, generous superannuation, salary sacrificing options and leave loading\\\\nRelocation assistance\\\\nA broad range of professional development opportunities\\\\nLiving in Yungaburra\\\\nJust 75 minutes from Cairns by car, you\\'ll find yourself in Yungaburra, the historic heart of the Tablelands. Watch the scenery change as you climb \\\\u201cup the hill,\\\\u201d and be sure to keep an eye out for local landmarks painted on the granite boulders as you pass. Take the time to pause at one of many spectacular lookouts and take in the amazing landscape below \\\\u2013 it is a truly incredible sight. Millennia of volcanic activity has sculpted the unique landscape of Yungaburra and the surrounding Tablelands region, creating an area that is incredibly unique with stunning rainforest, volcanic formations, crater lakes and views across rolling pastures to Mt Bartle Frere, the highest mountain in Queensland. It is also home to an amazing array of local produce, with plenty of opportunities to sample everything from chocolates and cheese to wines and the most delicious macadamia nuts you\\'ll ever taste! You can pop into popular Mungalli Creek Dairy and learn about their milk production, or sit down to a high tea and daydream as you lose yourself in the beauty of the landscape.\\\\nMandatory Requirements:\\\\nA relevant teaching qualification an ability to meet the minimum entry requirements as a teacher with the department. For further information on teaching qualifications visit the Teach Queensland ( https://teach.qld.gov.au/apply - to - teach/teacher - eligibility ) website. TO APPLY FOR THIS EXCITING OPPORTUNITY:\\\\nRead the attached Role Description\\\\nAttach a brief resume, contact details for two referees (one of whom should be your current supervisor) and a maximum one page written response outlining the skills and knowledge you will bring to the role.\\\\n**Incomplete applications may not be considered**\\\\n**Applicants are encouraged to commence and submit their application as early as possible as the Department of Education and Training reserves the right to reduce the application period and/or remove the job advertisement early should a suitable applicant be found.**\", \"classification\": \"Education & Training\", \"subClassification\": \"Teaching - Primary\", \"area\": NaN, \"location\": \"Cairns & Far North\", \"suburb\": \"Cairns\", \"workType\": \"Part Time\"}',\n",
       " '{\"title\": \"Content Adviser-Producer\", \"job_description_clean\": \"About the Business Beyond Blue\\\\n\\'s vision is that all people in Australia achieve their best possible mental health. Our mission is to promote good mental health. We create change to protect everyone\\'s mental health and improve the lives of individuals, families and communities affected by anxiety, depression and suicide. All employees are expected to act in accordance with Beyond Blue\\\\n\\'s values, which are Collaboration, Respect, Enthusiasm, Excellence, Innovation and Integrity. Additionally, in our commitment to reconciliation and creating a culturally safe organisation, Beyond Blue is proudly implementing our Beyond Blue Innovate Reconciliation Plan 2018 - 2020. About the Role The Content Team is responsible for managing content on the Beyond Blue, Youthbeyondblue, Healthy Families, Heads Up and Be You websites and other online channels; developing and producing new print and multimedia digital content; managing 300+ existing print and online resources; and overseeing the Content Strategy and Brand and Experience Strategy for Beyond Blue. This position will be responsible for managing both print and digital projects across key areas of Beyond Blue\\\\u2019s national education initiative, Be You. Working in close collaboration with the Be You team, the Content Adviser \\\\u2013 Producer will produce tailored content that is fit for purpose and audience. This position will have a strong understanding of the role of brand in creating engaging, relevant content for the end user. Accountabilities include but are not limited to: Work with the Content team to deliver the annual work plan within agreed budgets and timeframes, to stakeholder satisfaction. Ensure internal and external stakeholders are informed of new or updated resources/content where appropriate. Work closely with teams across Be You and the wider organisation to manage content production, including web pages, videos, photography, infographics, illustrations and e - learning. Ensure content is clinically accurate, consistent, is targeted for a specific audience, has an appropriate tone and voice for the audience. Maintain and update existing brand and template guidelines. The successful candidate will have: A graduate qualification in communications, project management or production discipline. Three years in a similar level role. Well - versed in the production of multimedia materials, including video and photography production. The successful applicant will also have the ability to build and maintain strong relationships with internal and external stakeholders, exceptional attention to detail and the ability to meet and manage conflicting deadlines. Beyond Blue\\\\u2019s Workplace Culture Reporting to the Content Lead, you will be a part of a friendly and highly skilled team working within Marketing, Communications and Fundraising group. The broader Beyond Blue family promotes a culture of collaboration and respect. Working at Beyond Blue offers flexibility, professional development and the opportunity to be a part of one of the leading mental health organisations in Australia. Benefits include Not - For - Profit salary packaging options, an employee assistance program and wellbeing initiatives. Our office is an easy walk from Glenferrie Station and our Social Squad will ensure that you get to enjoy some fun events in the workplace. Beyond Blue also marks Aboriginal Dates of Significance, such as NAIDOC Week and National Reconciliation Week, as part of our RAP commitments. How to apply?\\\\nThe Content Adviser - Producer role is offered on a full - time, fixed term contract until 30 June 2020. Applications should include a current CV with a cover letter that includes a response to the selection criteria detailed in the position description located on our career\\\\u2019s website. We would also require an example of a multimedia project that you have previously worked upon to accompany your application. All applications should be submitted to: jobs@beyondblue.org.au With the subject line: Content Adviser - Producer\\\\nApplications close on 11.59pm Thursday 21 May 2019\", \"classification\": \"Marketing & Communications\", \"subClassification\": \"Marketing Communications\", \"area\": \"Eastern Suburbs\", \"location\": \"Melbourne\", \"suburb\": \"Hawthorn\", \"workType\": \"Full Time\"}',\n",
       " '{\"title\": \"Mechanical Engineering Teacher\", \"job_description_clean\": \"Experience the Chinese culture and lifestyle while working in a friendly and rewarding teaching position! Waikato Institute of Technology (\\'Wintec\\') is one of New Zealand\\'s leading institutes of technology, which helps to drive the development of a skilled workforce not only in New Zealand but also around the world.\\\\nWe are now looking for a knowledgeable Mechanical Engineering Teacher to teach for Wintec in Jinhua, China for one to two semesters. You will be teaching in the classroom up to approximately 24 hours per week, starting in September 2019!\\\\nYou should be proactive, positive, resilient and passionate about helping students to achieve their academic success. You should also be able to nurture and engage your students and foster a student - centred learning environment.\\\\nTo be successful in this role you will:\\\\nhave minimum two years mechanical engineering teaching experience at a tertiary level\\\\npreferably, have some recent industry experience in mechanical engineering field\\\\npreferably, have previously worked with young Chinese adult learners with low - level English skills\\\\nhave a genuine interest in Chinese culture and history\\\\nspeak some Mandarin (not mandatory!)\\\\nbe collaborative and able to build up good relationship with your peer colleagues as well as Chinese Management and administration staff at Jinhua Polytechnic.\\\\nWhat we will offer:\\\\nCompetitive remuneration, which includes free accommodation, paid breaks, full international travel insurance, flights between China and country of residence for every year worked etc.\\\\nWork visa sponsorship\\\\nAn enriching and challenging teaching experience and an supportive work atmosphere\\\\nIf this sounds like something that you want to do, please apply online today.\\\\nApplications close Monday, 20 May 2019\\\\n.\", \"classification\": \"Education & Training\", \"subClassification\": \"Teaching - Vocational\", \"area\": \"Auckland Central\", \"location\": \"Auckland\", \"suburb\": \"Auckland CBD\", \"workType\": \"Full Time\"}',\n",
       " '{\"title\": \"Corporate Reception & Administration role\", \"job_description_clean\": \"This is a well respected and well established property/construction firm based in North Sydney. They remain family owned/feel even at mid size and have a fantastic reputation for their positive working environment and culture. The business is split across both big - ticket residential and commercial property construction with some of the most well known projects in Sydney to their name! This company are often the envy of their competitors due to the excellent culture, tenure of their staff and opportunities within.\\\\nA rare and amazing opportunity has presented itself to work in a varied and busy Reception/Administration role within stunning newly built offices! Both previous Receptionists have been promoted within other areas of the business - this is a company that promotes growth from within! Duties to include but not limited to: Management of the Reception desk, including meeting and greeting all guests and visitors into the office Assisting with overflow project based work with the Marketing, HR and Executive teams Managing a high volume of incoming calls Meeting room management Ad hoc Administration support for the other departments Assist with booking travel (domestic and national) for employees Assist with invoicing Act as the first point of contact for all clients About you: Strong organisational skills Previous Reception/Administration experience (1 year +) Exceptional communication skills and a bubbly, outgoing personality Excellent communication skills What\\'s in it for you? Fantastic working culture Tight knit team Excellent tenure of staff North Shore location Lucrative & Thriving industry Progression opportunities! Don\\'t miss out on this amazing opportunity to step into a fantastic Reception/Administration role within a Market Leader!\\\\nClick APPLY below to submit your resume for an immediate interview...\", \"classification\": \"Administration & Office Support\", \"subClassification\": \"Receptionists\", \"area\": \"North Shore & Northern Beaches\", \"location\": \"Sydney\", \"suburb\": \"North Sydney\", \"workType\": \"Contract/Temp\"}',\n",
       " '{\"title\": \"Casual Youth Work - Inner West\", \"job_description_clean\": \"The Role: - You will be responsible for providing a safe and secure homelike environment for young people that have been impacted by trauma - Provide support to young people who have complex needs - Promote and model positive behaviors - Due to the nature of the role you will have exposure to young people who can display complex and challenging behaviors, who have been affected by alcohol or drug use, who have mental health conditions and who have been in contact with the juvenile justice system - Successful candidates will be subject to a criminal record check The successful Candidate will: - Hold or be willing to obtain a NSW Driver\\'s License - Hold a First Aid & CPR Certificate - Have completed Certificate 4 in Youth work/ Community services or a related field - A Working With Children Check - Have at least 3 months full time or 400+ hours paid experience - Have great communication skills & be flexible for shifts - Strong behavioral management skills in a residential setting & experience of crisis situations Why do casual work: - Above award pay weekly - Varied locations and organisations - Casual worker of the month scheme - The flexibility to choose when & where you would like to work If you are looking for your next career move and are ready to improve your work life balance while working for a company that\\\\u2019s passionate, supportive and rewards its staff, then click on the \\\\u201cApply now\\\\u201d button!! Due to the high volume of responses only successful candidates will be contacted, thank you for your understanding.\", \"classification\": \"Community Services & Development\", \"subClassification\": \"Child Welfare, Youth & Family Services\", \"area\": \"CBD, Inner West & Eastern Suburbs\", \"location\": \"Sydney\", \"suburb\": \"Sydney\", \"workType\": \"Contract/Temp\"}']"
      ]
     },
     "execution_count": 13,
     "metadata": {},
     "output_type": "execute_result"
    }
   ],
   "source": [
    "original_json = original_df[['title', 'job_description_clean', 'classification',\n",
    "       'subClassification', 'area', 'location', 'suburb', 'workType']].apply(lambda row: dumps(row.to_dict()), axis=1).tolist()\n",
    "original_json "
   ]
  },
  {
   "cell_type": "markdown",
   "id": "139c92f6",
   "metadata": {},
   "source": [
    "Compute BERT Score."
   ]
  },
  {
   "cell_type": "code",
   "execution_count": 14,
   "id": "affe507f",
   "metadata": {},
   "outputs": [
    {
     "name": "stdout",
     "output_type": "stream",
     "text": [
      "BERTScore Precision: 0.7315, Recall: 0.5903, F1: 0.6528\n"
     ]
    }
   ],
   "source": [
    "scorer = BERTScorer(model_type='bert-base-uncased')\n",
    "P, R, F1 = scorer.score(llm_json, original_json)\n",
    "print(f\"BERTScore Precision: {P.mean():.4f}, Recall: {R.mean():.4f}, F1: {F1.mean():.4f}\")\n",
    "\n",
    "bert_df = pd.DataFrame()\n",
    "bert_df [\"bertscore_precision\"] = P.tolist()\n",
    "bert_df [\"bertscore_recall\"] = R.tolist()\n",
    "bert_df [\"bertscore_f1\"] = F1.tolist()"
   ]
  },
  {
   "cell_type": "markdown",
   "id": "114c5a98",
   "metadata": {},
   "source": [
    "Compute Rouge Score."
   ]
  },
  {
   "cell_type": "code",
   "execution_count": 15,
   "id": "6b08af83",
   "metadata": {},
   "outputs": [],
   "source": [
    "scorer = rouge_scorer.RougeScorer(['rouge1', 'rouge2', 'rougeL'], use_stemmer=True)\n",
    "\n",
    "rouge1_f, rouge2_f, rougel_f = [], [], []\n",
    "for cand, ref in zip(llm_json, original_json):\n",
    "    s = scorer.score(ref, cand)\n",
    "    rouge1_f.append(s['rouge1'].fmeasure)\n",
    "    rouge2_f.append(s['rouge2'].fmeasure)\n",
    "    rougel_f.append(s['rougeL'].fmeasure)\n",
    "\n",
    "rouge_df = pd.DataFrame()\n",
    "rouge_df[\"rouge1_f1\"] = rouge1_f\n",
    "rouge_df[\"rouge2_f1\"] = rouge2_f\n",
    "rouge_df[\"rougeL_f1\"] = rougel_f\n"
   ]
  },
  {
   "cell_type": "code",
   "execution_count": 16,
   "id": "ada52376",
   "metadata": {},
   "outputs": [
    {
     "data": {
      "text/html": [
       "<div>\n",
       "<style scoped>\n",
       "    .dataframe tbody tr th:only-of-type {\n",
       "        vertical-align: middle;\n",
       "    }\n",
       "\n",
       "    .dataframe tbody tr th {\n",
       "        vertical-align: top;\n",
       "    }\n",
       "\n",
       "    .dataframe thead th {\n",
       "        text-align: right;\n",
       "    }\n",
       "</style>\n",
       "<table border=\"1\" class=\"dataframe\">\n",
       "  <thead>\n",
       "    <tr style=\"text-align: right;\">\n",
       "      <th></th>\n",
       "      <th>bertscore_precision</th>\n",
       "      <th>bertscore_recall</th>\n",
       "      <th>bertscore_f1</th>\n",
       "      <th>rouge1_f1</th>\n",
       "      <th>rouge2_f1</th>\n",
       "      <th>rougeL_f1</th>\n",
       "    </tr>\n",
       "  </thead>\n",
       "  <tbody>\n",
       "    <tr>\n",
       "      <th>0</th>\n",
       "      <td>0.734463</td>\n",
       "      <td>0.582393</td>\n",
       "      <td>0.649648</td>\n",
       "      <td>0.453865</td>\n",
       "      <td>0.380952</td>\n",
       "      <td>0.423940</td>\n",
       "    </tr>\n",
       "    <tr>\n",
       "      <th>1</th>\n",
       "      <td>0.751452</td>\n",
       "      <td>0.628980</td>\n",
       "      <td>0.684783</td>\n",
       "      <td>0.585227</td>\n",
       "      <td>0.451429</td>\n",
       "      <td>0.437500</td>\n",
       "    </tr>\n",
       "    <tr>\n",
       "      <th>2</th>\n",
       "      <td>0.743920</td>\n",
       "      <td>0.528512</td>\n",
       "      <td>0.617983</td>\n",
       "      <td>0.354286</td>\n",
       "      <td>0.229885</td>\n",
       "      <td>0.240000</td>\n",
       "    </tr>\n",
       "    <tr>\n",
       "      <th>3</th>\n",
       "      <td>0.706080</td>\n",
       "      <td>0.571380</td>\n",
       "      <td>0.631628</td>\n",
       "      <td>0.399274</td>\n",
       "      <td>0.302368</td>\n",
       "      <td>0.373866</td>\n",
       "    </tr>\n",
       "    <tr>\n",
       "      <th>4</th>\n",
       "      <td>0.675221</td>\n",
       "      <td>0.507401</td>\n",
       "      <td>0.579404</td>\n",
       "      <td>0.226974</td>\n",
       "      <td>0.155116</td>\n",
       "      <td>0.184211</td>\n",
       "    </tr>\n",
       "    <tr>\n",
       "      <th>5</th>\n",
       "      <td>0.758698</td>\n",
       "      <td>0.662294</td>\n",
       "      <td>0.707226</td>\n",
       "      <td>0.605932</td>\n",
       "      <td>0.510638</td>\n",
       "      <td>0.563559</td>\n",
       "    </tr>\n",
       "    <tr>\n",
       "      <th>6</th>\n",
       "      <td>0.727079</td>\n",
       "      <td>0.585343</td>\n",
       "      <td>0.648558</td>\n",
       "      <td>0.439189</td>\n",
       "      <td>0.360544</td>\n",
       "      <td>0.405405</td>\n",
       "    </tr>\n",
       "    <tr>\n",
       "      <th>7</th>\n",
       "      <td>0.718849</td>\n",
       "      <td>0.592076</td>\n",
       "      <td>0.649333</td>\n",
       "      <td>0.446634</td>\n",
       "      <td>0.375618</td>\n",
       "      <td>0.436782</td>\n",
       "    </tr>\n",
       "    <tr>\n",
       "      <th>8</th>\n",
       "      <td>0.770313</td>\n",
       "      <td>0.684498</td>\n",
       "      <td>0.724874</td>\n",
       "      <td>0.693750</td>\n",
       "      <td>0.540881</td>\n",
       "      <td>0.650000</td>\n",
       "    </tr>\n",
       "    <tr>\n",
       "      <th>9</th>\n",
       "      <td>0.684678</td>\n",
       "      <td>0.603354</td>\n",
       "      <td>0.641449</td>\n",
       "      <td>0.514190</td>\n",
       "      <td>0.361809</td>\n",
       "      <td>0.434057</td>\n",
       "    </tr>\n",
       "    <tr>\n",
       "      <th>10</th>\n",
       "      <td>0.731659</td>\n",
       "      <td>0.611458</td>\n",
       "      <td>0.666180</td>\n",
       "      <td>0.469231</td>\n",
       "      <td>0.341085</td>\n",
       "      <td>0.384615</td>\n",
       "    </tr>\n",
       "    <tr>\n",
       "      <th>11</th>\n",
       "      <td>0.759767</td>\n",
       "      <td>0.629266</td>\n",
       "      <td>0.688386</td>\n",
       "      <td>0.567839</td>\n",
       "      <td>0.424242</td>\n",
       "      <td>0.492462</td>\n",
       "    </tr>\n",
       "    <tr>\n",
       "      <th>12</th>\n",
       "      <td>0.757474</td>\n",
       "      <td>0.572627</td>\n",
       "      <td>0.652207</td>\n",
       "      <td>0.459948</td>\n",
       "      <td>0.342857</td>\n",
       "      <td>0.372093</td>\n",
       "    </tr>\n",
       "    <tr>\n",
       "      <th>13</th>\n",
       "      <td>0.752111</td>\n",
       "      <td>0.618430</td>\n",
       "      <td>0.678751</td>\n",
       "      <td>0.536680</td>\n",
       "      <td>0.465116</td>\n",
       "      <td>0.474903</td>\n",
       "    </tr>\n",
       "    <tr>\n",
       "      <th>14</th>\n",
       "      <td>0.737861</td>\n",
       "      <td>0.578508</td>\n",
       "      <td>0.648539</td>\n",
       "      <td>0.412903</td>\n",
       "      <td>0.259740</td>\n",
       "      <td>0.296774</td>\n",
       "    </tr>\n",
       "    <tr>\n",
       "      <th>15</th>\n",
       "      <td>0.656218</td>\n",
       "      <td>0.464719</td>\n",
       "      <td>0.544111</td>\n",
       "      <td>0.222940</td>\n",
       "      <td>0.142626</td>\n",
       "      <td>0.155089</td>\n",
       "    </tr>\n",
       "    <tr>\n",
       "      <th>16</th>\n",
       "      <td>0.684276</td>\n",
       "      <td>0.551911</td>\n",
       "      <td>0.611007</td>\n",
       "      <td>0.282638</td>\n",
       "      <td>0.186235</td>\n",
       "      <td>0.244953</td>\n",
       "    </tr>\n",
       "    <tr>\n",
       "      <th>17</th>\n",
       "      <td>0.750431</td>\n",
       "      <td>0.613977</td>\n",
       "      <td>0.675380</td>\n",
       "      <td>0.557692</td>\n",
       "      <td>0.439614</td>\n",
       "      <td>0.524038</td>\n",
       "    </tr>\n",
       "    <tr>\n",
       "      <th>18</th>\n",
       "      <td>0.746481</td>\n",
       "      <td>0.579685</td>\n",
       "      <td>0.652594</td>\n",
       "      <td>0.371728</td>\n",
       "      <td>0.294737</td>\n",
       "      <td>0.345550</td>\n",
       "    </tr>\n",
       "    <tr>\n",
       "      <th>19</th>\n",
       "      <td>0.782278</td>\n",
       "      <td>0.639120</td>\n",
       "      <td>0.703490</td>\n",
       "      <td>0.497382</td>\n",
       "      <td>0.368421</td>\n",
       "      <td>0.455497</td>\n",
       "    </tr>\n",
       "  </tbody>\n",
       "</table>\n",
       "</div>"
      ],
      "text/plain": [
       "    bertscore_precision  bertscore_recall  bertscore_f1  rouge1_f1  rouge2_f1  \\\n",
       "0              0.734463          0.582393      0.649648   0.453865   0.380952   \n",
       "1              0.751452          0.628980      0.684783   0.585227   0.451429   \n",
       "2              0.743920          0.528512      0.617983   0.354286   0.229885   \n",
       "3              0.706080          0.571380      0.631628   0.399274   0.302368   \n",
       "4              0.675221          0.507401      0.579404   0.226974   0.155116   \n",
       "5              0.758698          0.662294      0.707226   0.605932   0.510638   \n",
       "6              0.727079          0.585343      0.648558   0.439189   0.360544   \n",
       "7              0.718849          0.592076      0.649333   0.446634   0.375618   \n",
       "8              0.770313          0.684498      0.724874   0.693750   0.540881   \n",
       "9              0.684678          0.603354      0.641449   0.514190   0.361809   \n",
       "10             0.731659          0.611458      0.666180   0.469231   0.341085   \n",
       "11             0.759767          0.629266      0.688386   0.567839   0.424242   \n",
       "12             0.757474          0.572627      0.652207   0.459948   0.342857   \n",
       "13             0.752111          0.618430      0.678751   0.536680   0.465116   \n",
       "14             0.737861          0.578508      0.648539   0.412903   0.259740   \n",
       "15             0.656218          0.464719      0.544111   0.222940   0.142626   \n",
       "16             0.684276          0.551911      0.611007   0.282638   0.186235   \n",
       "17             0.750431          0.613977      0.675380   0.557692   0.439614   \n",
       "18             0.746481          0.579685      0.652594   0.371728   0.294737   \n",
       "19             0.782278          0.639120      0.703490   0.497382   0.368421   \n",
       "\n",
       "    rougeL_f1  \n",
       "0    0.423940  \n",
       "1    0.437500  \n",
       "2    0.240000  \n",
       "3    0.373866  \n",
       "4    0.184211  \n",
       "5    0.563559  \n",
       "6    0.405405  \n",
       "7    0.436782  \n",
       "8    0.650000  \n",
       "9    0.434057  \n",
       "10   0.384615  \n",
       "11   0.492462  \n",
       "12   0.372093  \n",
       "13   0.474903  \n",
       "14   0.296774  \n",
       "15   0.155089  \n",
       "16   0.244953  \n",
       "17   0.524038  \n",
       "18   0.345550  \n",
       "19   0.455497  "
      ]
     },
     "execution_count": 16,
     "metadata": {},
     "output_type": "execute_result"
    }
   ],
   "source": [
    "measure_df = pd.concat([bert_df, rouge_df], axis=1)\n",
    "measure_df "
   ]
  },
  {
   "cell_type": "markdown",
   "id": "7101076f",
   "metadata": {},
   "source": [
    "Combine measurement."
   ]
  },
  {
   "cell_type": "code",
   "execution_count": 18,
   "id": "2e458b08",
   "metadata": {},
   "outputs": [
    {
     "name": "stdout",
     "output_type": "stream",
     "text": [
      "\n",
      "=== Average Scores ===\n",
      "BERTScore F1: 0.6528\n",
      "ROUGE-L F1  : 0.3948\n",
      "Combined F1 : 0.5238\n"
     ]
    }
   ],
   "source": [
    "measure_df[\"combined_f1\"] = (measure_df[\"bertscore_f1\"] + measure_df[\"rougeL_f1\"]) / 2\n",
    "print(\"\\n=== Average Scores ===\")\n",
    "print(f\"BERTScore F1: {measure_df['bertscore_f1'].mean():.4f}\")\n",
    "print(f\"ROUGE-L F1  : {measure_df ['rougeL_f1'].mean():.4f}\")\n",
    "print(f\"Combined F1 : {measure_df ['combined_f1'].mean():.4f}\")"
   ]
  }
 ],
 "metadata": {
  "kernelspec": {
   "display_name": "Python 3",
   "language": "python",
   "name": "python3"
  },
  "language_info": {
   "codemirror_mode": {
    "name": "ipython",
    "version": 3
   },
   "file_extension": ".py",
   "mimetype": "text/x-python",
   "name": "python",
   "nbconvert_exporter": "python",
   "pygments_lexer": "ipython3",
   "version": "3.13.9"
  }
 },
 "nbformat": 4,
 "nbformat_minor": 5
}
