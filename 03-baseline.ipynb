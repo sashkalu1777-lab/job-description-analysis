{
 "cells": [
  {
   "cell_type": "markdown",
   "id": "a81a4267",
   "metadata": {},
   "source": [
    "# Baseline without RAG."
   ]
  },
  {
   "cell_type": "markdown",
   "id": "639c1bf4",
   "metadata": {},
   "source": [
    "Import packages."
   ]
  },
  {
   "cell_type": "code",
   "execution_count": 1,
   "id": "3438b483",
   "metadata": {},
   "outputs": [],
   "source": [
    "import os\n",
    "import pandas as pd\n",
    "\n",
    "from datetime import datetime\n",
    "from dotenv import load_dotenv\n",
    "from json import loads, dumps\n",
    "from langchain.tools import tool\n",
    "# from langchain.tools.retriever import create_retriever_tool\n",
    "\n",
    "from pydantic import BaseModel, Field\n",
    "from typing import Annotated, Sequence, TypedDict, Literal\n",
    "\n",
    "from IPython.display import Image, display\n",
    "\n",
    "# from langchain_chroma import Chroma\n",
    "# from langchain_community.document_loaders import PyPDFLoader\n",
    "\n",
    "from langchain_core.messages import BaseMessage, HumanMessage\n",
    "from langchain_core.output_parsers import StrOutputParser\n",
    "from langchain_core.prompts import PromptTemplate\n",
    "\n",
    "from langchain_openai import OpenAIEmbeddings, ChatOpenAI\n",
    "# from langchain_text_splitters import RecursiveCharacterTextSplitter\n",
    "\n",
    "from langfuse import Langfuse, get_client\n",
    "from langfuse.langchain import CallbackHandler\n",
    "from langfuse.openai import openai  # Don't delete this line.\n",
    "\n",
    "from langgraph.checkpoint.memory import MemorySaver\n",
    "from langgraph.graph import START, END, StateGraph\n",
    "from langgraph.graph.message import add_messages\n",
    "from langgraph.prebuilt import tools_condition, ToolNode"
   ]
  },
  {
   "cell_type": "markdown",
   "id": "222df19d",
   "metadata": {},
   "source": [
    "Set up environment variables."
   ]
  },
  {
   "cell_type": "code",
   "execution_count": 2,
   "id": "696f7d7b",
   "metadata": {},
   "outputs": [
    {
     "name": "stdout",
     "output_type": "stream",
     "text": [
      "OpenAI API Key exists and begins sk-proj-\n"
     ]
    }
   ],
   "source": [
    "# Set up environment variables.\n",
    "load_dotenv(override=True)\n",
    "openai_api_key = os.getenv('OPENAI_API_KEY')\n",
    "\n",
    "# Monitor if the environment variables are ready.\n",
    "if openai_api_key:\n",
    "    print(f\"OpenAI API Key exists and begins {openai_api_key[:8]}\")\n",
    "else:\n",
    "    print(\"OpenAI API Key not set - please head to the troubleshooting guide in the setup folder\")"
   ]
  },
  {
   "cell_type": "code",
   "execution_count": 3,
   "id": "f5736d0f",
   "metadata": {},
   "outputs": [
    {
     "name": "stdout",
     "output_type": "stream",
     "text": [
      "Langfuse client is authenticated and ready!\n"
     ]
    }
   ],
   "source": [
    "langfuse_secret_key = os.getenv('LANGFUSE_SECRET_KEY')\n",
    "langfuse_public_key = os.getenv('LANGFUSE_PUBLIC_KEY')\n",
    "langfuse = Langfuse(\n",
    "    secret_key = langfuse_secret_key,\n",
    "    public_key = langfuse_public_key,\n",
    "    host=\"https://cloud.langfuse.com\"\n",
    "    # host = \"https://us.cloud.langfuse.com\"\n",
    ")\n",
    "\n",
    "langfuse = get_client()\n",
    " \n",
    "# Verify connection\n",
    "if langfuse.auth_check():\n",
    "    print(\"Langfuse client is authenticated and ready!\")\n",
    "else:\n",
    "    print(\"Authentication failed. Please check your credentials and host.\")"
   ]
  },
  {
   "cell_type": "markdown",
   "id": "d45a89de",
   "metadata": {},
   "source": [
    "Define supporting variables and functions."
   ]
  },
  {
   "cell_type": "code",
   "execution_count": 4,
   "id": "b7a2f731",
   "metadata": {},
   "outputs": [],
   "source": [
    "CONFIG = {\n",
    "    # \"vector_store_directory\": \"./chroma_db\",\n",
    "    # \"vector_store_collection_name\": \"langchain_rag\",\n",
    "    # \"chunk_size\": 500,\n",
    "    # \"chunk_overlap\": 50\n",
    "}"
   ]
  },
  {
   "cell_type": "code",
   "execution_count": 5,
   "id": "d26637a2",
   "metadata": {},
   "outputs": [],
   "source": [
    "def format_job_descriptions(jd_dataframe):\n",
    "    if isinstance(jd_dataframe, pd.Series):\n",
    "        jd_dataframe = jd_dataframe.to_frame().T\n",
    "    result = jd_dataframe.to_json(orient='records')\n",
    "    return result"
   ]
  },
  {
   "cell_type": "markdown",
   "id": "f6542a8e",
   "metadata": {},
   "source": [
    "Function test."
   ]
  },
  {
   "cell_type": "code",
   "execution_count": 7,
   "id": "21b4bb70",
   "metadata": {},
   "outputs": [
    {
     "name": "stdout",
     "output_type": "stream",
     "text": [
      "[\n",
      "    {\n",
      "        \"title\": \"Driver / Tour Guide for Coach & 4WD Coach Tours\",\n",
      "        \"abstract\": \"This role includes conducting 1-20 Day Tours to a range of locations all over Australia with mature passengers for a well established family company.\",\n",
      "        \"job_description_clean\": \"Casey Australia Tours require a experienced Coach Drivers / Tour Guide for the rest of the 2019 season of extended motel and/or camping tours starting mid/late June The role requires driving, minor coach maintenance, cleaning, guiding and commentating plus some cooking. The ideal person should have; 1. A sense of humour and engaging personality 2. Initiative and problem solving skills 3. Confidence and be a good public speaker 4. A current manual HR drivers licence with F endorsement. (or ability to get one quickly) 5. A safe driving record 6. Clear Criminal History 7. Experience in some field that can be related 8. First Aid Training 9. Good Navigation in remote and city areas Handy assets to have; 1. Mechanical Knowledge 2. Camping experience 3. Group Cooking Experience Our passengers are mainly Australian adults from 50 - 80+ years old. Each tour is run by 1 - 2 Staff caring for up to 48 passengers. It is essential that staff cooperate well and work closely together. This is an interesting, exciting, varied and extremely rewarding role. It's an enjoyable lifestyle with its share of hard days but also has a lot of fun easy days in some stunning locations. To view our range of tours visit www.caseytours.com.au/calendar/ To get a better idea of the places, people and coaches go to our Facebook page, www.facebook.com/CaseyAustraliaTours Rate of Pay $300 - $350 Per day (depending on experience and knowledge) + Super Work is on a tour by tour basis from mid /late June, scheduling is roughly two weeks on and one off but varies. The season goes through to November with ongoing employment for available. For the right applicant the role could be based in nearly any capital city flying in and out to different towns to start and finish tours. If you feel you are up to the challenge, please: 1. Reply to this ad on Seek 2. Send a CV and Cover Letter by email to tcasey@caseytours.com.au\",\n",
      "        \"classification\": \"Hospitality & Tourism\",\n",
      "        \"subClassification\": \"Tour Guides\",\n",
      "        \"area\": null,\n",
      "        \"location\": \"Perth\",\n",
      "        \"suburb\": null,\n",
      "        \"workType\": \"Casual/Vacation\"\n",
      "    }\n",
      "]\n"
     ]
    }
   ],
   "source": [
    "df = pd.read_csv(\"data/X_test.csv\")\n",
    "test = df.iloc[0, :]\n",
    "if isinstance(test, pd.Series):\n",
    "        test = test.to_frame().T\n",
    "json_records = test.to_json(orient='records')\n",
    "parsed = loads(json_records)\n",
    "print(dumps(parsed, indent=4) )"
   ]
  },
  {
   "cell_type": "code",
   "execution_count": 8,
   "id": "96280d71",
   "metadata": {},
   "outputs": [],
   "source": [
    "@tool\n",
    "def check_basic_information(job_descriptions) -> dict:\n",
    "    \"\"\"\n",
    "    This function consumes job_descriptions and return basic information with good formatted strings.\n",
    "    \"\"\"\n",
    "    if isinstance(job_descriptions, pd.Series):\n",
    "        job_descriptions = job_descriptions.to_frame().T\n",
    "\n",
    "    list_of_dicts = job_descriptions.to_dict(orient='records')\n",
    "    \n",
    "    jobs_info = []\n",
    "    for i, job_dict in enumerate(list_of_dicts):\n",
    "        jobs_info.append({\n",
    "            \"job_index\": i,\n",
    "            \"fields\": job_dict\n",
    "        })\n",
    "\n",
    "    result = {\n",
    "        \"summary\": \"The information of each job advertisement is as follows.\",\n",
    "        \"jobs\": jobs_info\n",
    "    }\n",
    "\n",
    "    return result\n",
    "\n",
    "tools = [check_basic_information]"
   ]
  },
  {
   "cell_type": "markdown",
   "id": "d3f70729",
   "metadata": {},
   "source": [
    "Define Graph Sate."
   ]
  },
  {
   "cell_type": "code",
   "execution_count": 9,
   "id": "0089e207",
   "metadata": {},
   "outputs": [],
   "source": [
    "class AgentState(TypedDict):\n",
    "    \"\"\"\n",
    "    Represents the state of graph.\n",
    "\n",
    "    Attributes:\n",
    "        messages: A list of messages in the conversation, including user input and agent outputs.\n",
    "\n",
    "    Notes:\n",
    "        The add_messages function defines how an update should be processed.\n",
    "        Default is to replace. add_messages says \"append\".\n",
    "    \"\"\"\n",
    "    messages: Annotated[Sequence[BaseMessage], add_messages]"
   ]
  },
  {
   "cell_type": "markdown",
   "id": "afbf385b",
   "metadata": {},
   "source": [
    "Deinfe Basic Nodes."
   ]
  },
  {
   "cell_type": "markdown",
   "id": "7de3a90f",
   "metadata": {},
   "source": [
    "Input: job description strings.\n",
    "\n",
    "Host node\n",
    "\n",
    "Conditional Edge: whether the question is about to check job descriptions.\n",
    "\n",
    "If not, return generate.\n",
    "\n",
    "If yes, go to next node.\n",
    "\n",
    "Get industry information and professional skills.\n",
    "\n",
    "Get general requirements.\n",
    "\n",
    "Evaluate the job advertisement.\n",
    "\n",
    "Refine the job advertisement.\n",
    "\n"
   ]
  },
  {
   "cell_type": "code",
   "execution_count": 10,
   "id": "ff364ea0",
   "metadata": {},
   "outputs": [],
   "source": [
    "def host_agent(state):\n",
    "    \"\"\"\n",
    "    Invokes the whole workflow and monitor the state.\n",
    "\n",
    "    Args:\n",
    "        state (messages): The current state\n",
    "\n",
    "    Returns:\n",
    "        dict: The updated state with the agent response appended to messages\n",
    "    \"\"\"\n",
    "    \n",
    "    print(\"---CALL HOST AGENT---\")\n",
    "    messages = state[\"messages\"]\n",
    "    model = ChatOpenAI(temperature=0, streaming=True, model=\"gpt-4-turbo\")\n",
    "    response = model.invoke(messages)\n",
    "    \n",
    "    return {\"messages\": [response]}"
   ]
  },
  {
   "cell_type": "code",
   "execution_count": null,
   "id": "f7a8e474",
   "metadata": {},
   "outputs": [],
   "source": [
    "def industry_agent(state, job_ads):\n",
    "    \"\"\"\n",
    "    Generate answer. The core of RAG.\n",
    "\n",
    "    Args:\n",
    "        state (messages): The current state\n",
    "\n",
    "    Returns:\n",
    "         dict: The updated state with re-phrased question\n",
    "    \"\"\"\n",
    "    print(\"---CALL INDUSTRY AGENT---\")\n",
    "    messages = state[\"messages\"]\n",
    "\n",
    "    # Prompt\n",
    "    prompt = PromptTemplate(\n",
    "        template=\"\"\"\n",
    "            You are a helpful assistant that extracts structured information from a batch of job advertisements.\n",
    "\n",
    "            Input job ad:\n",
    "            {job_text}\n",
    "\n",
    "            Instruction:\n",
    "            Extract the following fields from the given batch of different job ads. If a field is not present, return an empty list for that field.\n",
    "\n",
    "            - skills: short list of skills, tools, technologies (e.g., \"Python\", \"SQL\", \"scikit-learn\", \"communication\")\n",
    "            - responsibilities: short concise list of responsibilities / duties described in the ad\n",
    "            - requirements: candidate requirements such as experience, qualifications, degrees, certifications, years of experience\n",
    "\n",
    "            Return a list of JSON objects ONLY with keys: \"job_titles\", \"skills\", \"responsibilities\", \"requirements\". \n",
    "\n",
    "            Example:\n",
    "            {\n",
    "            {\"job_title\": [\"Data Scientist\"], \"skills\": [\"Python\", \"SQL\"], \"responsibilities\": [\"build predictive models\"], \"requirements\": [\"3+ years experience\", \"Bachelor's degree\"]}\n",
    "            {\"job_title\": [\"Primary Teacher\"], \"skills\": [\"Education\", \"Child Care\"], \"responsibilities\": [\"Give courses\"], \"requirements\": [\"5+ years experience\", \"Master's degree\"]}\n",
    "            }\n",
    "        \"\"\",\n",
    "        input_variables=[\"job_text\"],\n",
    "    )\n",
    "\n",
    "    # LLM\n",
    "    llm = ChatOpenAI(model_name=\"gpt-4-turbo\", temperature=0, streaming=True)\n",
    "\n",
    "    # Chain\n",
    "    chain = prompt | llm | StrOutputParser()\n",
    "\n",
    "    # Run\n",
    "    response = chain.invoke({\"job_text\": job_ads})\n",
    "    print(response)\n",
    "    return {\"messages\": [response]}"
   ]
  },
  {
   "cell_type": "markdown",
   "id": "1362637a",
   "metadata": {},
   "source": [
    "Define conditional edge."
   ]
  },
  {
   "cell_type": "code",
   "execution_count": 12,
   "id": "b4c4c9b8",
   "metadata": {},
   "outputs": [],
   "source": [
    "# Conditional Edge: whether the question is about to check job descriptions.\n",
    "\n",
    "def check_task_agent(state, config) -> Literal[\"industry_agent\", \"host_agent\"]:\n",
    "    \"\"\"\n",
    "    Determines whether the question is about to check job descriptions.\n",
    "\n",
    "    Args:\n",
    "        state (messages): The current state\n",
    "\n",
    "    Returns:\n",
    "        str: A decision for whether the question is about to check job descriptions.\n",
    "    \"\"\"\n",
    "\n",
    "    print(\"---CHECK TASK RELEVANCE---\")\n",
    "\n",
    "    # Pydantic to ensure the output format.\n",
    "    class grade(BaseModel):\n",
    "        \"\"\"Binary score for relevance check.\"\"\"\n",
    "        binary_score: str = Field(description=\"Task relevance score 'yes' or 'no'\")\n",
    "\n",
    "    # LLM\n",
    "    model = ChatOpenAI(temperature=0, model=\"gpt-4o\", streaming=True)\n",
    "\n",
    "    # LLM with tool and validation\n",
    "    llm_with_tool = model.with_structured_output(grade)\n",
    "\n",
    "    # Prompt\n",
    "    prompt = PromptTemplate(\n",
    "        template=\"\"\"\n",
    "            You are a grader assessing relevance of user's question and job advertisement analysis task. \\n \n",
    "            Here is the user question: {question} \\n\n",
    "            If the question contains keyword(s) or semantic meaning related to job advertisement analysis, grade it as relevant. \\n\n",
    "            Give a binary score 'yes' or 'no' score to indicate whether the user question is relevant to job advertisement analysis.\n",
    "        \"\"\",\n",
    "        input_variables=[\"question\"],\n",
    "    )\n",
    "\n",
    "    # Chain\n",
    "    chain = prompt | llm_with_tool\n",
    "\n",
    "    messages = state[\"messages\"]\n",
    "    \n",
    "    question = config[\"configurable\"][\"questions\"][-1]\n",
    "    print(\"User question:\\n\", question)\n",
    "    \n",
    "\n",
    "    scored_result = chain.invoke({\"question\": question})\n",
    "\n",
    "    score = scored_result.binary_score\n",
    "\n",
    "    if score == \"yes\":\n",
    "        print(\"---DECISION: This is a job advertisement analysis task. ---\")\n",
    "        return \"industry_agent\"\n",
    "\n",
    "    else:\n",
    "        print(\"---DECISION: This is not a job advertisement analysis task.---\")\n",
    "        return \"host_agent\""
   ]
  },
  {
   "cell_type": "markdown",
   "id": "2cfbc4e0",
   "metadata": {},
   "source": [
    "Complie the graph."
   ]
  },
  {
   "cell_type": "code",
   "execution_count": 19,
   "id": "2cde32e9",
   "metadata": {},
   "outputs": [],
   "source": [
    "# Define a new graph\n",
    "workflow = StateGraph(AgentState)\n",
    "\n",
    "# Define the nodes.\n",
    "# workflow.add_node(\"host_agent\", host_agent)  \n",
    "workflow.add_node(\"industry_agent\", industry_agent)  \n",
    "\n",
    "# Call agent node to decide to retrieve or not\n",
    "# workflow.add_edge(START, \"host_agent\")\n",
    "\n",
    "workflow.add_edge(START, \"industry_agent\")\n",
    "\n",
    "# Decide whether to retrieve\n",
    "# workflow.add_conditional_edges(\n",
    "#     \"host_agent\",\n",
    "#     check_task_agent,\n",
    "# )\n",
    "# workflow.add_edge(\"host_agent\", \"industry_agent\")\n",
    "workflow.add_edge(\"industry_agent\", END)\n",
    "\n",
    "# Compile\n",
    "graph = workflow.compile(checkpointer=MemorySaver())\n"
   ]
  },
  {
   "cell_type": "code",
   "execution_count": 20,
   "id": "35b548aa",
   "metadata": {},
   "outputs": [
    {
     "data": {
      "image/png": "[encoded data removed]",
      "text/plain": [
       "<IPython.core.display.Image object>"
      ]
     },
     "metadata": {},
     "output_type": "display_data"
    }
   ],
   "source": [
    "try:\n",
    "    display(Image(graph.get_graph(xray=True).draw_mermaid_png()))\n",
    "except Exception:\n",
    "    pass"
   ]
  },
  {
   "cell_type": "code",
   "execution_count": 15,
   "id": "1780a88f",
   "metadata": {},
   "outputs": [],
   "source": [
    "def agent_invoke(graph, question, config):\n",
    "    \"\"\"\n",
    "    Invoke the workflow with user question, generate human-friendly metrics and answers.\n",
    "\n",
    "    Args:\n",
    "        graph: The current workflow\n",
    "        question: The user input to invoke the workflow\n",
    "        config: The holder of thread, memory, and LangFuse\n",
    "\n",
    "    Returns:\n",
    "        retriever_counter: how many times the retriever tool is called for this question\n",
    "        rewrite_counter: how many times the question is rewritten, which indicates a failed retrieval\n",
    "        final_message: the answer that can be shown to all audience\n",
    "    \"\"\"\n",
    "    config[\"configurable\"][\"questions\"].append(question)\n",
    "    print(\"config\", config)\n",
    "\n",
    "    final_message = \"\"\n",
    "\n",
    "    inputs = {\n",
    "        \"messages\":[\n",
    "            (\"user\", question)\n",
    "        ]\n",
    "    }\n",
    "\n",
    "    for output in graph.stream(inputs, config=config):\n",
    "        for key, value in output.items():\n",
    "            # For Agent node, output tool call information.\n",
    "            if key == 'host_agent':\n",
    "                final_message = final_message + value['messages'][0].content\n",
    "                print(final_message)\n",
    "            # For retrieve tool node, counter plus.\n",
    "            elif key == 'industry_agent':\n",
    "                final_messsage = final_message + value['messages'][0]\n",
    "                print(final_message)\n",
    "                print(\"\\n---END QUESTION---\")\n",
    "            else:\n",
    "                pass\n",
    "            print(final_message)\n",
    "    return final_message"
   ]
  },
  {
   "cell_type": "code",
   "execution_count": 16,
   "id": "abc3f3de",
   "metadata": {},
   "outputs": [],
   "source": [
    "def deal_with_single_question(logs, graph, question, config):\n",
    "    \"\"\"\n",
    "    Deal with the workflow inputs and outputs, push them into local logging system.\n",
    "\n",
    "    Args:\n",
    "        logs: the list to store key information and metrics for the whole thread\n",
    "        graph: The current workflow\n",
    "        question: The user input to invoke the workflow\n",
    "        config: The holder of thread, memory, and LangFuse\n",
    "    \"\"\"\n",
    "    # Get the current date and time for time stamp.\n",
    "    invoke_datetime = datetime.now().strftime(\"%Y%m%d_%H%M%S\")\n",
    "    final_message = agent_invoke(graph, question, config)\n",
    "    thread_id = config['configurable']['thread_id']\n",
    "    row =  [thread_id, invoke_datetime, question, final_message]\n",
    "    logs.append(row)"
   ]
  },
  {
   "cell_type": "code",
   "execution_count": 17,
   "id": "83509f6a",
   "metadata": {},
   "outputs": [],
   "source": [
    "config = {\"configurable\": {\"thread_id\": \"0\", \"questions\": []}}\n",
    "logs = []"
   ]
  },
  {
   "cell_type": "code",
   "execution_count": null,
   "id": "06cac35b",
   "metadata": {},
   "outputs": [],
   "source": [
    "df = pd.read_csv(\"data/X_test.csv\")\n",
    "test = df.iloc[0, :]\n",
    "if isinstance(test, pd.Series):\n",
    "        test = test.to_frame().T\n",
    "json_records = test.to_json(orient='records')\n",
    "parsed = loads(json_records)\n",
    "print(dumps(parsed, indent=4) )"
   ]
  },
  {
   "cell_type": "code",
   "execution_count": 18,
   "id": "7df94328",
   "metadata": {},
   "outputs": [
    {
     "name": "stdout",
     "output_type": "stream",
     "text": [
      "config {'configurable': {'thread_id': '0', 'questions': [\"Hi, I'm Alexandra. Please help me analyse following job advertisements\"]}}\n",
      "---CALL HOST AGENT---\n",
      "Hello Alexandra! I'd be happy to help you analyze the job advertisements you have. Please provide the details of the job advertisements you'd like to discuss, and let me know what specific aspects you want to focus on (e.g., job requirements, qualifications, company culture, etc.).\n",
      "Hello Alexandra! I'd be happy to help you analyze the job advertisements you have. Please provide the details of the job advertisements you'd like to discuss, and let me know what specific aspects you want to focus on (e.g., job requirements, qualifications, company culture, etc.).\n"
     ]
    },
    {
     "ename": "TypeError",
     "evalue": "industry_agent() missing 1 required positional argument: 'job_ads'",
     "output_type": "error",
     "traceback": [
      "\u001b[31m---------------------------------------------------------------------------\u001b[39m",
      "\u001b[31mTypeError\u001b[39m                                 Traceback (most recent call last)",
      "\u001b[36mCell\u001b[39m\u001b[36m \u001b[39m\u001b[32mIn[18]\u001b[39m\u001b[32m, line 1\u001b[39m\n\u001b[32m----> \u001b[39m\u001b[32m1\u001b[39m \u001b[43mdeal_with_single_question\u001b[49m\u001b[43m(\u001b[49m\u001b[43mlogs\u001b[49m\u001b[43m,\u001b[49m\u001b[43m \u001b[49m\u001b[43mgraph\u001b[49m\u001b[43m,\u001b[49m\u001b[43m \u001b[49m\u001b[33;43m\"\u001b[39;49m\u001b[33;43mHi, I\u001b[39;49m\u001b[33;43m'\u001b[39;49m\u001b[33;43mm Alexandra. Please help me analyse following job advertisements\u001b[39;49m\u001b[33;43m\"\u001b[39;49m\u001b[43m,\u001b[49m\u001b[43m \u001b[49m\u001b[43mconfig\u001b[49m\u001b[43m)\u001b[49m\n",
      "\u001b[36mCell\u001b[39m\u001b[36m \u001b[39m\u001b[32mIn[16]\u001b[39m\u001b[32m, line 13\u001b[39m, in \u001b[36mdeal_with_single_question\u001b[39m\u001b[34m(logs, graph, question, config)\u001b[39m\n\u001b[32m     11\u001b[39m \u001b[38;5;66;03m# Get the current date and time for time stamp.\u001b[39;00m\n\u001b[32m     12\u001b[39m invoke_datetime = datetime.now().strftime(\u001b[33m\"\u001b[39m\u001b[33m%\u001b[39m\u001b[33mY\u001b[39m\u001b[33m%\u001b[39m\u001b[33mm\u001b[39m\u001b[38;5;132;01m%d\u001b[39;00m\u001b[33m_\u001b[39m\u001b[33m%\u001b[39m\u001b[33mH\u001b[39m\u001b[33m%\u001b[39m\u001b[33mM\u001b[39m\u001b[33m%\u001b[39m\u001b[33mS\u001b[39m\u001b[33m\"\u001b[39m)\n\u001b[32m---> \u001b[39m\u001b[32m13\u001b[39m final_message = \u001b[43magent_invoke\u001b[49m\u001b[43m(\u001b[49m\u001b[43mgraph\u001b[49m\u001b[43m,\u001b[49m\u001b[43m \u001b[49m\u001b[43mquestion\u001b[49m\u001b[43m,\u001b[49m\u001b[43m \u001b[49m\u001b[43mconfig\u001b[49m\u001b[43m)\u001b[49m\n\u001b[32m     14\u001b[39m thread_id = config[\u001b[33m'\u001b[39m\u001b[33mconfigurable\u001b[39m\u001b[33m'\u001b[39m][\u001b[33m'\u001b[39m\u001b[33mthread_id\u001b[39m\u001b[33m'\u001b[39m]\n\u001b[32m     15\u001b[39m row =  [thread_id, invoke_datetime, question, final_message]\n",
      "\u001b[36mCell\u001b[39m\u001b[36m \u001b[39m\u001b[32mIn[15]\u001b[39m\u001b[32m, line 26\u001b[39m, in \u001b[36magent_invoke\u001b[39m\u001b[34m(graph, question, config)\u001b[39m\n\u001b[32m     18\u001b[39m final_message = \u001b[33m\"\u001b[39m\u001b[33m\"\u001b[39m\n\u001b[32m     20\u001b[39m inputs = {\n\u001b[32m     21\u001b[39m     \u001b[33m\"\u001b[39m\u001b[33mmessages\u001b[39m\u001b[33m\"\u001b[39m:[\n\u001b[32m     22\u001b[39m         (\u001b[33m\"\u001b[39m\u001b[33muser\u001b[39m\u001b[33m\"\u001b[39m, question)\n\u001b[32m     23\u001b[39m     ]\n\u001b[32m     24\u001b[39m }\n\u001b[32m---> \u001b[39m\u001b[32m26\u001b[39m \u001b[43m\u001b[49m\u001b[38;5;28;43;01mfor\u001b[39;49;00m\u001b[43m \u001b[49m\u001b[43moutput\u001b[49m\u001b[43m \u001b[49m\u001b[38;5;129;43;01min\u001b[39;49;00m\u001b[43m \u001b[49m\u001b[43mgraph\u001b[49m\u001b[43m.\u001b[49m\u001b[43mstream\u001b[49m\u001b[43m(\u001b[49m\u001b[43minputs\u001b[49m\u001b[43m,\u001b[49m\u001b[43m \u001b[49m\u001b[43mconfig\u001b[49m\u001b[43m=\u001b[49m\u001b[43mconfig\u001b[49m\u001b[43m)\u001b[49m\u001b[43m:\u001b[49m\n\u001b[32m     27\u001b[39m \u001b[43m    \u001b[49m\u001b[38;5;28;43;01mfor\u001b[39;49;00m\u001b[43m \u001b[49m\u001b[43mkey\u001b[49m\u001b[43m,\u001b[49m\u001b[43m \u001b[49m\u001b[43mvalue\u001b[49m\u001b[43m \u001b[49m\u001b[38;5;129;43;01min\u001b[39;49;00m\u001b[43m \u001b[49m\u001b[43moutput\u001b[49m\u001b[43m.\u001b[49m\u001b[43mitems\u001b[49m\u001b[43m(\u001b[49m\u001b[43m)\u001b[49m\u001b[43m:\u001b[49m\n\u001b[32m     28\u001b[39m \u001b[43m        \u001b[49m\u001b[38;5;66;43;03m# For Agent node, output tool call information.\u001b[39;49;00m\n\u001b[32m     29\u001b[39m \u001b[43m        \u001b[49m\u001b[38;5;28;43;01mif\u001b[39;49;00m\u001b[43m \u001b[49m\u001b[43mkey\u001b[49m\u001b[43m \u001b[49m\u001b[43m==\u001b[49m\u001b[43m \u001b[49m\u001b[33;43m'\u001b[39;49m\u001b[33;43mhost_agent\u001b[39;49m\u001b[33;43m'\u001b[39;49m\u001b[43m:\u001b[49m\n",
      "\u001b[36mFile \u001b[39m\u001b[32m~\\AppData\\Local\\Packages\\PythonSoftwareFoundation.Python.3.13_qbz5n2kfra8p0\\LocalCache\\local-packages\\Python313\\site-packages\\langgraph\\pregel\\main.py:2674\u001b[39m, in \u001b[36mPregel.stream\u001b[39m\u001b[34m(self, input, config, context, stream_mode, print_mode, output_keys, interrupt_before, interrupt_after, durability, subgraphs, debug, **kwargs)\u001b[39m\n\u001b[32m   2672\u001b[39m \u001b[38;5;28;01mfor\u001b[39;00m task \u001b[38;5;129;01min\u001b[39;00m loop.match_cached_writes():\n\u001b[32m   2673\u001b[39m     loop.output_writes(task.id, task.writes, cached=\u001b[38;5;28;01mTrue\u001b[39;00m)\n\u001b[32m-> \u001b[39m\u001b[32m2674\u001b[39m \u001b[43m\u001b[49m\u001b[38;5;28;43;01mfor\u001b[39;49;00m\u001b[43m \u001b[49m\u001b[43m_\u001b[49m\u001b[43m \u001b[49m\u001b[38;5;129;43;01min\u001b[39;49;00m\u001b[43m \u001b[49m\u001b[43mrunner\u001b[49m\u001b[43m.\u001b[49m\u001b[43mtick\u001b[49m\u001b[43m(\u001b[49m\n\u001b[32m   2675\u001b[39m \u001b[43m    \u001b[49m\u001b[43m[\u001b[49m\u001b[43mt\u001b[49m\u001b[43m \u001b[49m\u001b[38;5;28;43;01mfor\u001b[39;49;00m\u001b[43m \u001b[49m\u001b[43mt\u001b[49m\u001b[43m \u001b[49m\u001b[38;5;129;43;01min\u001b[39;49;00m\u001b[43m \u001b[49m\u001b[43mloop\u001b[49m\u001b[43m.\u001b[49m\u001b[43mtasks\u001b[49m\u001b[43m.\u001b[49m\u001b[43mvalues\u001b[49m\u001b[43m(\u001b[49m\u001b[43m)\u001b[49m\u001b[43m \u001b[49m\u001b[38;5;28;43;01mif\u001b[39;49;00m\u001b[43m \u001b[49m\u001b[38;5;129;43;01mnot\u001b[39;49;00m\u001b[43m \u001b[49m\u001b[43mt\u001b[49m\u001b[43m.\u001b[49m\u001b[43mwrites\u001b[49m\u001b[43m]\u001b[49m\u001b[43m,\u001b[49m\n\u001b[32m   2676\u001b[39m \u001b[43m    \u001b[49m\u001b[43mtimeout\u001b[49m\u001b[43m=\u001b[49m\u001b[38;5;28;43mself\u001b[39;49m\u001b[43m.\u001b[49m\u001b[43mstep_timeout\u001b[49m\u001b[43m,\u001b[49m\n\u001b[32m   2677\u001b[39m \u001b[43m    \u001b[49m\u001b[43mget_waiter\u001b[49m\u001b[43m=\u001b[49m\u001b[43mget_waiter\u001b[49m\u001b[43m,\u001b[49m\n\u001b[32m   2678\u001b[39m \u001b[43m    \u001b[49m\u001b[43mschedule_task\u001b[49m\u001b[43m=\u001b[49m\u001b[43mloop\u001b[49m\u001b[43m.\u001b[49m\u001b[43maccept_push\u001b[49m\u001b[43m,\u001b[49m\n\u001b[32m   2679\u001b[39m \u001b[43m\u001b[49m\u001b[43m)\u001b[49m\u001b[43m:\u001b[49m\n\u001b[32m   2680\u001b[39m \u001b[43m    \u001b[49m\u001b[38;5;66;43;03m# emit output\u001b[39;49;00m\n\u001b[32m   2681\u001b[39m \u001b[43m    \u001b[49m\u001b[38;5;28;43;01myield from\u001b[39;49;00m\u001b[43m \u001b[49m\u001b[43m_output\u001b[49m\u001b[43m(\u001b[49m\n\u001b[32m   2682\u001b[39m \u001b[43m        \u001b[49m\u001b[43mstream_mode\u001b[49m\u001b[43m,\u001b[49m\u001b[43m \u001b[49m\u001b[43mprint_mode\u001b[49m\u001b[43m,\u001b[49m\u001b[43m \u001b[49m\u001b[43msubgraphs\u001b[49m\u001b[43m,\u001b[49m\u001b[43m \u001b[49m\u001b[43mstream\u001b[49m\u001b[43m.\u001b[49m\u001b[43mget\u001b[49m\u001b[43m,\u001b[49m\u001b[43m \u001b[49m\u001b[43mqueue\u001b[49m\u001b[43m.\u001b[49m\u001b[43mEmpty\u001b[49m\n\u001b[32m   2683\u001b[39m \u001b[43m    \u001b[49m\u001b[43m)\u001b[49m\n\u001b[32m   2684\u001b[39m loop.after_tick()\n",
      "\u001b[36mFile \u001b[39m\u001b[32m~\\AppData\\Local\\Packages\\PythonSoftwareFoundation.Python.3.13_qbz5n2kfra8p0\\LocalCache\\local-packages\\Python313\\site-packages\\langgraph\\pregel\\_runner.py:162\u001b[39m, in \u001b[36mPregelRunner.tick\u001b[39m\u001b[34m(self, tasks, reraise, timeout, retry_policy, get_waiter, schedule_task)\u001b[39m\n\u001b[32m    160\u001b[39m t = tasks[\u001b[32m0\u001b[39m]\n\u001b[32m    161\u001b[39m \u001b[38;5;28;01mtry\u001b[39;00m:\n\u001b[32m--> \u001b[39m\u001b[32m162\u001b[39m     \u001b[43mrun_with_retry\u001b[49m\u001b[43m(\u001b[49m\n\u001b[32m    163\u001b[39m \u001b[43m        \u001b[49m\u001b[43mt\u001b[49m\u001b[43m,\u001b[49m\n\u001b[32m    164\u001b[39m \u001b[43m        \u001b[49m\u001b[43mretry_policy\u001b[49m\u001b[43m,\u001b[49m\n\u001b[32m    165\u001b[39m \u001b[43m        \u001b[49m\u001b[43mconfigurable\u001b[49m\u001b[43m=\u001b[49m\u001b[43m{\u001b[49m\n\u001b[32m    166\u001b[39m \u001b[43m            \u001b[49m\u001b[43mCONFIG_KEY_CALL\u001b[49m\u001b[43m:\u001b[49m\u001b[43m \u001b[49m\u001b[43mpartial\u001b[49m\u001b[43m(\u001b[49m\n\u001b[32m    167\u001b[39m \u001b[43m                \u001b[49m\u001b[43m_call\u001b[49m\u001b[43m,\u001b[49m\n\u001b[32m    168\u001b[39m \u001b[43m                \u001b[49m\u001b[43mweakref\u001b[49m\u001b[43m.\u001b[49m\u001b[43mref\u001b[49m\u001b[43m(\u001b[49m\u001b[43mt\u001b[49m\u001b[43m)\u001b[49m\u001b[43m,\u001b[49m\n\u001b[32m    169\u001b[39m \u001b[43m                \u001b[49m\u001b[43mretry_policy\u001b[49m\u001b[43m=\u001b[49m\u001b[43mretry_policy\u001b[49m\u001b[43m,\u001b[49m\n\u001b[32m    170\u001b[39m \u001b[43m                \u001b[49m\u001b[43mfutures\u001b[49m\u001b[43m=\u001b[49m\u001b[43mweakref\u001b[49m\u001b[43m.\u001b[49m\u001b[43mref\u001b[49m\u001b[43m(\u001b[49m\u001b[43mfutures\u001b[49m\u001b[43m)\u001b[49m\u001b[43m,\u001b[49m\n\u001b[32m    171\u001b[39m \u001b[43m                \u001b[49m\u001b[43mschedule_task\u001b[49m\u001b[43m=\u001b[49m\u001b[43mschedule_task\u001b[49m\u001b[43m,\u001b[49m\n\u001b[32m    172\u001b[39m \u001b[43m                \u001b[49m\u001b[43msubmit\u001b[49m\u001b[43m=\u001b[49m\u001b[38;5;28;43mself\u001b[39;49m\u001b[43m.\u001b[49m\u001b[43msubmit\u001b[49m\u001b[43m,\u001b[49m\n\u001b[32m    173\u001b[39m \u001b[43m            \u001b[49m\u001b[43m)\u001b[49m\u001b[43m,\u001b[49m\n\u001b[32m    174\u001b[39m \u001b[43m        \u001b[49m\u001b[43m}\u001b[49m\u001b[43m,\u001b[49m\n\u001b[32m    175\u001b[39m \u001b[43m    \u001b[49m\u001b[43m)\u001b[49m\n\u001b[32m    176\u001b[39m     \u001b[38;5;28mself\u001b[39m.commit(t, \u001b[38;5;28;01mNone\u001b[39;00m)\n\u001b[32m    177\u001b[39m \u001b[38;5;28;01mexcept\u001b[39;00m \u001b[38;5;167;01mException\u001b[39;00m \u001b[38;5;28;01mas\u001b[39;00m exc:\n",
      "\u001b[36mFile \u001b[39m\u001b[32m~\\AppData\\Local\\Packages\\PythonSoftwareFoundation.Python.3.13_qbz5n2kfra8p0\\LocalCache\\local-packages\\Python313\\site-packages\\langgraph\\pregel\\_retry.py:42\u001b[39m, in \u001b[36mrun_with_retry\u001b[39m\u001b[34m(task, retry_policy, configurable)\u001b[39m\n\u001b[32m     40\u001b[39m     task.writes.clear()\n\u001b[32m     41\u001b[39m     \u001b[38;5;66;03m# run the task\u001b[39;00m\n\u001b[32m---> \u001b[39m\u001b[32m42\u001b[39m     \u001b[38;5;28;01mreturn\u001b[39;00m \u001b[43mtask\u001b[49m\u001b[43m.\u001b[49m\u001b[43mproc\u001b[49m\u001b[43m.\u001b[49m\u001b[43minvoke\u001b[49m\u001b[43m(\u001b[49m\u001b[43mtask\u001b[49m\u001b[43m.\u001b[49m\u001b[43minput\u001b[49m\u001b[43m,\u001b[49m\u001b[43m \u001b[49m\u001b[43mconfig\u001b[49m\u001b[43m)\u001b[49m\n\u001b[32m     43\u001b[39m \u001b[38;5;28;01mexcept\u001b[39;00m ParentCommand \u001b[38;5;28;01mas\u001b[39;00m exc:\n\u001b[32m     44\u001b[39m     ns: \u001b[38;5;28mstr\u001b[39m = config[CONF][CONFIG_KEY_CHECKPOINT_NS]\n",
      "\u001b[36mFile \u001b[39m\u001b[32m~\\AppData\\Local\\Packages\\PythonSoftwareFoundation.Python.3.13_qbz5n2kfra8p0\\LocalCache\\local-packages\\Python313\\site-packages\\langgraph\\_internal\\_runnable.py:657\u001b[39m, in \u001b[36mRunnableSeq.invoke\u001b[39m\u001b[34m(self, input, config, **kwargs)\u001b[39m\n\u001b[32m    655\u001b[39m     \u001b[38;5;66;03m# run in context\u001b[39;00m\n\u001b[32m    656\u001b[39m     \u001b[38;5;28;01mwith\u001b[39;00m set_config_context(config, run) \u001b[38;5;28;01mas\u001b[39;00m context:\n\u001b[32m--> \u001b[39m\u001b[32m657\u001b[39m         \u001b[38;5;28minput\u001b[39m = \u001b[43mcontext\u001b[49m\u001b[43m.\u001b[49m\u001b[43mrun\u001b[49m\u001b[43m(\u001b[49m\u001b[43mstep\u001b[49m\u001b[43m.\u001b[49m\u001b[43minvoke\u001b[49m\u001b[43m,\u001b[49m\u001b[43m \u001b[49m\u001b[38;5;28;43minput\u001b[39;49m\u001b[43m,\u001b[49m\u001b[43m \u001b[49m\u001b[43mconfig\u001b[49m\u001b[43m,\u001b[49m\u001b[43m \u001b[49m\u001b[43m*\u001b[49m\u001b[43m*\u001b[49m\u001b[43mkwargs\u001b[49m\u001b[43m)\u001b[49m\n\u001b[32m    658\u001b[39m \u001b[38;5;28;01melse\u001b[39;00m:\n\u001b[32m    659\u001b[39m     \u001b[38;5;28minput\u001b[39m = step.invoke(\u001b[38;5;28minput\u001b[39m, config)\n",
      "\u001b[36mFile \u001b[39m\u001b[32m~\\AppData\\Local\\Packages\\PythonSoftwareFoundation.Python.3.13_qbz5n2kfra8p0\\LocalCache\\local-packages\\Python313\\site-packages\\langgraph\\_internal\\_runnable.py:401\u001b[39m, in \u001b[36mRunnableCallable.invoke\u001b[39m\u001b[34m(self, input, config, **kwargs)\u001b[39m\n\u001b[32m    399\u001b[39m         run_manager.on_chain_end(ret)\n\u001b[32m    400\u001b[39m \u001b[38;5;28;01melse\u001b[39;00m:\n\u001b[32m--> \u001b[39m\u001b[32m401\u001b[39m     ret = \u001b[38;5;28;43mself\u001b[39;49m\u001b[43m.\u001b[49m\u001b[43mfunc\u001b[49m\u001b[43m(\u001b[49m\u001b[43m*\u001b[49m\u001b[43margs\u001b[49m\u001b[43m,\u001b[49m\u001b[43m \u001b[49m\u001b[43m*\u001b[49m\u001b[43m*\u001b[49m\u001b[43mkwargs\u001b[49m\u001b[43m)\u001b[49m\n\u001b[32m    402\u001b[39m \u001b[38;5;28;01mif\u001b[39;00m \u001b[38;5;28mself\u001b[39m.recurse \u001b[38;5;129;01mand\u001b[39;00m \u001b[38;5;28misinstance\u001b[39m(ret, Runnable):\n\u001b[32m    403\u001b[39m     \u001b[38;5;28;01mreturn\u001b[39;00m ret.invoke(\u001b[38;5;28minput\u001b[39m, config)\n",
      "\u001b[31mTypeError\u001b[39m: industry_agent() missing 1 required positional argument: 'job_ads'",
      "During task with name 'industry_agent' and id 'f165f298-8104-6aec-4c88-d84ab1b995b6'"
     ]
    }
   ],
   "source": [
    "deal_with_single_question(logs, graph, \"Hi, I'm Alexandra. Please help me analyse following job advertisements\", config)"
   ]
  }
 ],
 "metadata": {
  "kernelspec": {
   "display_name": "Python 3",
   "language": "python",
   "name": "python3"
  },
  "language_info": {
   "codemirror_mode": {
    "name": "ipython",
    "version": 3
   },
   "file_extension": ".py",
   "mimetype": "text/x-python",
   "name": "python",
   "nbconvert_exporter": "python",
   "pygments_lexer": "ipython3",
   "version": "3.13.9"
  }
 },
 "nbformat": 4,
 "nbformat_minor": 5
}
