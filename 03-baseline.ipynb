{
 "cells": [
  {
   "cell_type": "markdown",
   "id": "a81a4267",
   "metadata": {},
   "source": [
    "This is a normal NLP model."
   ]
  },
  {
   "cell_type": "code",
   "execution_count": null,
   "id": "3438b483",
   "metadata": {},
   "outputs": [],
   "source": []
  }
 ],
 "metadata": {
  "kernelspec": {
   "display_name": "Python 3",
   "language": "python",
   "name": "python3"
  },
  "language_info": {
   "name": "python",
   "version": "3.13.9"
  }
 },
 "nbformat": 4,
 "nbformat_minor": 5
}
