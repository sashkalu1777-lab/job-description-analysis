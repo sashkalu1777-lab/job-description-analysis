{
 "cells": [
  {
   "cell_type": "markdown",
   "id": "91bc73c9",
   "metadata": {},
   "source": [
    "# RAG Agent Based on LangChain and LangGraph\n",
    "\n",
    "This is the version to showcase.\n",
    "\n",
    "This notebook demonstrates an intelligent agentic workflow that can process multiple documents, answer questions, measure retrieval quality, trace key message exchanges and costs, and keep a logging system for future reference at thread level.\n",
    "\n",
    "It consumes job description and applicant documents and can help decide whether the applicant is a good fit for the positionm, which can be transferred to many use case such as if the claim is eligible for some policies.\n"
   ]
  },
  {
   "cell_type": "markdown",
   "id": "e162b173",
   "metadata": {},
   "source": [
    "# First, set up environments."
   ]
  },
  {
   "cell_type": "code",
   "execution_count": 1,
   "id": "14d33d87",
   "metadata": {},
   "outputs": [],
   "source": [
    "# !pip install -r requirements.txt"
   ]
  },
  {
   "cell_type": "code",
   "execution_count": 1,
   "id": "cbd7c7a9",
   "metadata": {},
   "outputs": [],
   "source": [
    "import os\n",
    "import pandas as pd\n",
    "\n",
    "from datetime import datetime\n",
    "from dotenv import load_dotenv\n",
    "\n",
    "from langchain.tools.retriever import create_retriever_tool\n",
    "\n",
    "from pydantic import BaseModel, Field\n",
    "from typing import Annotated, Sequence, TypedDict, Literal\n",
    "\n",
    "from IPython.display import Image, display\n",
    "\n",
    "from langchain_chroma import Chroma\n",
    "from langchain_community.document_loaders import PyPDFLoader\n",
    "\n",
    "from langchain_core.messages import BaseMessage, HumanMessage\n",
    "from langchain_core.output_parsers import StrOutputParser\n",
    "from langchain_core.prompts import PromptTemplate\n",
    "\n",
    "from langchain_openai import OpenAIEmbeddings, ChatOpenAI\n",
    "from langchain_text_splitters import RecursiveCharacterTextSplitter\n",
    "\n",
    "from langfuse import Langfuse, get_client\n",
    "from langfuse.langchain import CallbackHandler\n",
    "from langfuse.openai import openai  # Don't delete this line.\n",
    "\n",
    "from langgraph.checkpoint.memory import MemorySaver\n",
    "from langgraph.graph import START, END, StateGraph\n",
    "from langgraph.graph.message import add_messages\n",
    "from langgraph.prebuilt import tools_condition, ToolNode"
   ]
  },
  {
   "cell_type": "code",
   "execution_count": 2,
   "id": "70b4eea6",
   "metadata": {},
   "outputs": [
    {
     "name": "stdout",
     "output_type": "stream",
     "text": [
      "OpenAI API Key exists and begins sk-proj-\n"
     ]
    }
   ],
   "source": [
    "# Set up environment variables.\n",
    "load_dotenv(override=True)\n",
    "openai_api_key = os.getenv('OPENAI_API_KEY')\n",
    "\n",
    "# Monitor if the environment variables are ready.\n",
    "if openai_api_key:\n",
    "    print(f\"OpenAI API Key exists and begins {openai_api_key[:8]}\")\n",
    "else:\n",
    "    print(\"OpenAI API Key not set - please head to the troubleshooting guide in the setup folder\")"
   ]
  },
  {
   "cell_type": "code",
   "execution_count": 3,
   "id": "50e2462e",
   "metadata": {},
   "outputs": [
    {
     "name": "stdout",
     "output_type": "stream",
     "text": [
      "Langfuse client is authenticated and ready!\n"
     ]
    }
   ],
   "source": [
    "langfuse_secret_key = os.getenv('LANGFUSE_SECRET_KEY')\n",
    "langfuse_public_key = os.getenv('LANGFUSE_PUBLIC_KEY')\n",
    "langfuse = Langfuse(\n",
    "    secret_key = langfuse_secret_key,\n",
    "    public_key = langfuse_public_key,\n",
    "    host=\"https://cloud.langfuse.com\"\n",
    "    # host = \"https://us.cloud.langfuse.com\"\n",
    ")\n",
    "\n",
    "langfuse = get_client()\n",
    " \n",
    "# Verify connection\n",
    "if langfuse.auth_check():\n",
    "    print(\"Langfuse client is authenticated and ready!\")\n",
    "else:\n",
    "    print(\"Authentication failed. Please check your credentials and host.\")"
   ]
  },
  {
   "cell_type": "code",
   "execution_count": 4,
   "id": "7e60b6e2",
   "metadata": {},
   "outputs": [],
   "source": [
    "CONFIG = {\n",
    "    \"vector_store_directory\": \"./chroma_db\",\n",
    "    \"vector_store_collection_name\": \"langchain_rag\",\n",
    "    \"chunk_size\": 500,\n",
    "    \"chunk_overlap\": 50\n",
    "}"
   ]
  },
  {
   "cell_type": "markdown",
   "id": "c74e4532",
   "metadata": {},
   "source": [
    "# Second, set up Retriever with ChromaDB."
   ]
  },
  {
   "cell_type": "code",
   "execution_count": 5,
   "id": "e50c9efe-4abe-42fa-b35a-05eeeede9ec6",
   "metadata": {},
   "outputs": [],
   "source": [
    "# Initialise or call existing vector store ChromaDB.\n",
    "embeddings =OpenAIEmbeddings()\n",
    "vector_store = Chroma(\n",
    "    collection_name=CONFIG[\"vector_store_collection_name\"],\n",
    "    embedding_function=embeddings,\n",
    "    persist_directory=CONFIG[\"vector_store_directory\"],\n",
    ")\n",
    "\n",
    "# Since this is a small project, use small chunk size.\n",
    "text_splitter = RecursiveCharacterTextSplitter(\n",
    "        chunk_size = CONFIG[\"chunk_size\"],\n",
    "        chunk_overlap = CONFIG[\"chunk_overlap\"]\n",
    "    )"
   ]
  },
  {
   "cell_type": "code",
   "execution_count": 7,
   "id": "1e1bf4d0",
   "metadata": {},
   "outputs": [],
   "source": [
    "def import_pdf_documents(vector_store, file_path, text_splitter, doc_id):\n",
    "    \"\"\"\n",
    "    Consume pdf documents into specific vector store with version control.\n",
    "\n",
    "    Args:\n",
    "        vector_store: The current vector store\n",
    "        file_path: The path to pdf documents\n",
    "        text_splitter: The current text splitter.\n",
    "        doc_id: The metadata that will be used for version control.\n",
    "\n",
    "    Returns:\n",
    "        str: A decision for whether the documents are relevant or not\n",
    "    \"\"\"\n",
    "\n",
    "    loader = PyPDFLoader(file_path)\n",
    "    docs = loader.load_and_split(text_splitter)\n",
    "    \n",
    "    for doc in docs:\n",
    "        doc.metadata = {\n",
    "            \"page\": doc.metadata[\"page\"],\n",
    "            \"text\": doc.page_content,\n",
    "            \"doc_id\": doc_id,\n",
    "        }\n",
    "\n",
    "    # Before add the chunks into vector store, ensure the old version are dropped.\n",
    "    vector_store._collection.delete(where={\"doc_id\": doc_id})\n",
    "    vector_store.add_documents(docs)\n",
    "\n",
    "    # Print basic information of cosumed documents in the vector store.\n",
    "    stored_documents = vector_store.get(\n",
    "        ids=None,  \n",
    "        where={\"doc_id\": doc_id},  \n",
    "        limit=None,  \n",
    "        offset=None,  \n",
    "        include=['documents', 'metadatas', 'embeddings']  \n",
    "    )\n",
    "\n",
    "    \"\"\"\n",
    "    # Print more detailed information if needed.\n",
    "    for i, doc_content in enumerate(stored_documents['documents']):\n",
    "        print(f\"Document ID: {stored_documents['ids'][i]}\")\n",
    "        print(f\"Document Content: {doc_content}\")\n",
    "        print(f\"Metadata: {stored_documents['metadatas'][i]}\")\n",
    "        print(\"-\" * 20)\n",
    "    \"\"\"\n",
    "\n",
    "    print(f\"chunk number of the {file_path}:\", len(stored_documents))\n",
    "    "
   ]
  },
  {
   "cell_type": "code",
   "execution_count": 8,
   "id": "523e9b22",
   "metadata": {},
   "outputs": [
    {
     "name": "stdout",
     "output_type": "stream",
     "text": [
      "chunk number of the pdfs/20250806_CV_Xiaoshi Lu (Alexandra).pdf: 7\n",
      "chunk number of the pdfs/suncorp_job_description.pdf: 7\n",
      "chunk number of the pdfs/commonwealth_bank_job_description.pdf: 7\n"
     ]
    }
   ],
   "source": [
    "import_pdf_documents(vector_store, \"pdfs/20250806_CV_Xiaoshi Lu (Alexandra).pdf\", text_splitter, \"cv\")\n",
    "import_pdf_documents(vector_store, \"pdfs/suncorp_job_description.pdf\", text_splitter, \"job\")\n",
    "import_pdf_documents(vector_store, \"pdfs/commonwealth_bank_job_description.pdf\", text_splitter, \"cba_job\")"
   ]
  },
  {
   "cell_type": "code",
   "execution_count": 9,
   "id": "0b97bdd8-d7e3-444d-ac96-5ef4725f9048",
   "metadata": {},
   "outputs": [],
   "source": [
    "# Create the retriver with vector store.\n",
    "retriever = vector_store.as_retriever()\n",
    "\n",
    "# Wrap the retriever into a tool for Agent.\n",
    "retriever_tool = create_retriever_tool(\n",
    "    retriever,\n",
    "    \"retrieve_job_seeker\",\n",
    "    \"Search and return information about job seeker Xiaoshi Lu and some job descriptions.\",\n",
    ")\n",
    "\n",
    "tools = [retriever_tool]"
   ]
  },
  {
   "cell_type": "markdown",
   "id": "fe6e8f78-1ef7-42ad-b2bf-835ed5850553",
   "metadata": {},
   "source": [
    "# Third, define a graph for the agent."
   ]
  },
  {
   "cell_type": "code",
   "execution_count": 10,
   "id": "0e378706-47d5-425a-8ba0-57b9acffbd0c",
   "metadata": {},
   "outputs": [],
   "source": [
    "# Set up shared state of the graph.\n",
    "class AgentState(TypedDict):\n",
    "    \"\"\"\n",
    "    Represents the state of graph.\n",
    "\n",
    "    Attributes:\n",
    "        messages: A list of messages in the conversation, including user input and agent outputs.\n",
    "\n",
    "    Notes:\n",
    "        The add_messages function defines how an update should be processed.\n",
    "        Default is to replace. add_messages says \"append\".\n",
    "    \"\"\"\n",
    "    messages: Annotated[Sequence[BaseMessage], add_messages]"
   ]
  },
  {
   "cell_type": "markdown",
   "id": "dc949d42-8a34-4231-bff0-b8198975e2ce",
   "metadata": {},
   "source": [
    "Nodes and Edges\n",
    "\n",
    "Lay out an agentic RAG graph like this:\n",
    "\n",
    "* The state is a set of messages\n",
    "* Each node will update (append to) state\n",
    "* Conditional edges decide which node to visit next"
   ]
  },
  {
   "cell_type": "markdown",
   "id": "5e317405",
   "metadata": {},
   "source": [
    "Define nodes."
   ]
  },
  {
   "cell_type": "code",
   "execution_count": 21,
   "id": "5a031a4d",
   "metadata": {},
   "outputs": [],
   "source": [
    "def agent(state):\n",
    "    \"\"\"\n",
    "    Invokes the agent model to generate a response based on the current state. \n",
    "    Given the question, it will decide to retrieve using the retriever tool, or simply end.\n",
    "\n",
    "    Args:\n",
    "        state (messages): The current state\n",
    "\n",
    "    Returns:\n",
    "        dict: The updated state with the agent response appended to messages\n",
    "    \"\"\"\n",
    "    print(\"---CALL AGENT---\")\n",
    "    messages = state[\"messages\"]\n",
    "    model = ChatOpenAI(temperature=0, streaming=True, model=\"gpt-4-turbo\")\n",
    "    model = model.bind_tools(tools)\n",
    "    response = model.invoke(messages)\n",
    "    \n",
    "    return {\"messages\": [response]}\n",
    "\n",
    "\n",
    "def rewrite(state, config):\n",
    "    \"\"\"\n",
    "    Transform the query to produce a better question.\n",
    "\n",
    "    Args:\n",
    "        state (messages): The current state\n",
    "\n",
    "    Returns:\n",
    "        dict: The updated state with re-phrased question\n",
    "    \"\"\"\n",
    "\n",
    "    print(\"---TRANSFORM QUERY---\")\n",
    "    # messages = state[\"messages\"]\n",
    "    question = config[\"configurable\"][\"questions\"][-1]\n",
    "    print(\"Original question:\\n\", question)\n",
    "\n",
    "    msg = [\n",
    "        HumanMessage(\n",
    "            content = f\"\"\" \\n \n",
    "                Look at the input and try to reason about the underlying semantic intent / meaning. \\n \n",
    "                Here is the initial question:\n",
    "                \\n ------- \\n\n",
    "                {question} \n",
    "                \\n ------- \\n\n",
    "                Formulate an improved question: \"\"\",\n",
    "        )\n",
    "    ]\n",
    "\n",
    "    # Grader\n",
    "    model = ChatOpenAI(temperature=0, model=\"gpt-4-turbo\", streaming=True)\n",
    "    response = model.invoke(msg)\n",
    "    print(\"Transformed question:\\n\", response.content)\n",
    "    return {\"messages\": [response]}\n",
    "\n",
    "\n",
    "def generate(state, config):\n",
    "    \"\"\"\n",
    "    Generate answer. The core of RAG.\n",
    "\n",
    "    Args:\n",
    "        state (messages): The current state\n",
    "\n",
    "    Returns:\n",
    "         dict: The updated state with re-phrased question\n",
    "    \"\"\"\n",
    "    print(\"---GENERATE---\")\n",
    "    messages = state[\"messages\"]\n",
    "    question = config[\"configurable\"][\"questions\"][-1]\n",
    "    print(\"Original question:\\n\", question)\n",
    "    \n",
    "    # This is because Retriver will be in front of generate.\n",
    "    last_message = messages[-1]\n",
    "    docs = last_message.content\n",
    "\n",
    "    # Prompt\n",
    "    prompt = PromptTemplate(\n",
    "        template=\"\"\"\n",
    "            You are an assistant for question-answering tasks. \\n\n",
    "            Use the following pieces of retrieved context to answer the question. \\n\n",
    "            If you don't know the answer, just say that you don't know. \\n\n",
    "            Use three sentences maximum and keep the answer concise. \\n\n",
    "            Question: {question} \\n\n",
    "            Context: {context} \\n\n",
    "            Answer: \\n \n",
    "        \"\"\",\n",
    "        input_variables=[\"context\", \"question\"],\n",
    "    )\n",
    "\n",
    "    # LLM\n",
    "    llm = ChatOpenAI(model_name=\"gpt-4-turbo\", temperature=0, streaming=True)\n",
    "\n",
    "    # Chain\n",
    "    rag_chain = prompt | llm | StrOutputParser()\n",
    "\n",
    "    # Run\n",
    "    response = rag_chain.invoke({\"context\": docs, \"question\": question})\n",
    "    return {\"messages\": [response]}"
   ]
  },
  {
   "cell_type": "code",
   "execution_count": 22,
   "id": "278d1d83-dda6-4de4-bf8b-be9965c227fa",
   "metadata": {},
   "outputs": [],
   "source": [
    "### Edges\n",
    "def grade_documents(state, config) -> Literal[\"generate\", \"rewrite\"]:\n",
    "    \"\"\"\n",
    "    Determines whether the retrieved documents are relevant to the question.\n",
    "\n",
    "    Args:\n",
    "        state (messages): The current state\n",
    "\n",
    "    Returns:\n",
    "        str: A decision for whether the documents are relevant or not\n",
    "    \"\"\"\n",
    "\n",
    "    print(\"---CHECK RELEVANCE---\")\n",
    "\n",
    "    # Pydantic to ensure the output format.\n",
    "    class grade(BaseModel):\n",
    "        \"\"\"Binary score for relevance check.\"\"\"\n",
    "        binary_score: str = Field(description=\"Relevance score 'yes' or 'no'\")\n",
    "\n",
    "    # LLM\n",
    "    model = ChatOpenAI(temperature=0, model=\"gpt-4o\", streaming=True)\n",
    "\n",
    "    # LLM with tool and validation\n",
    "    llm_with_tool = model.with_structured_output(grade)\n",
    "\n",
    "    # Prompt\n",
    "    prompt = PromptTemplate(\n",
    "        template=\"\"\"\n",
    "            You are a grader assessing relevance of a retrieved document to a user question. \\n \n",
    "            Here is the retrieved document: \\n\\n {context} \\n\\n\n",
    "            Here is the user question: {question} \\n\n",
    "            If the document contains keyword(s) or semantic meaning related to the user question, grade it as relevant. \\n\n",
    "            Give a binary score 'yes' or 'no' score to indicate whether the document is relevant to the question.\n",
    "        \"\"\",\n",
    "        input_variables=[\"context\", \"question\"],\n",
    "    )\n",
    "\n",
    "    # Chain\n",
    "    chain = prompt | llm_with_tool\n",
    "\n",
    "    messages = state[\"messages\"]\n",
    "    # Because retriever is always in front of grading.\n",
    "    last_message = messages[-1]\n",
    "    docs = last_message.content\n",
    "    \n",
    "    question = config[\"configurable\"][\"questions\"][-1]\n",
    "    print(\"Original question:\\n\", question)\n",
    "    \n",
    "\n",
    "    scored_result = chain.invoke({\"question\": question, \"context\": docs})\n",
    "\n",
    "    score = scored_result.binary_score\n",
    "\n",
    "    if score == \"yes\":\n",
    "        print(\"---DECISION: DOCS RELEVANT---\")\n",
    "        return \"generate\"\n",
    "\n",
    "    else:\n",
    "        print(\"---DECISION: DOCS NOT RELEVANT---\")\n",
    "        return \"rewrite\""
   ]
  },
  {
   "cell_type": "markdown",
   "id": "955882ef-7467-48db-ae51-de441f2fc3a7",
   "metadata": {},
   "source": [
    "## Fourth, compile the Graph.\n",
    "\n",
    "* Start with an agent, `call_model`\n",
    "* Agent make a decision to call a function\n",
    "* If so, then `action` to call tool (retriever)\n",
    "* Then call agent with the tool output added to messages (`state`)"
   ]
  },
  {
   "cell_type": "code",
   "execution_count": 23,
   "id": "8718a37f-83c2-4f16-9850-e61e0f49c3d4",
   "metadata": {},
   "outputs": [],
   "source": [
    "# Define a new graph\n",
    "workflow = StateGraph(AgentState)\n",
    "\n",
    "# Define the nodes.\n",
    "workflow.add_node(\"agent\", agent)  \n",
    "\n",
    "retrieve = ToolNode([retriever_tool])\n",
    "workflow.add_node(\"retrieve\", retrieve)  \n",
    "workflow.add_node(\"rewrite\", rewrite)  \n",
    "workflow.add_node(\"generate\", generate)  \n",
    "\n",
    "# Call agent node to decide to retrieve or not\n",
    "workflow.add_edge(START, \"agent\")\n",
    "\n",
    "# Decide whether to retrieve\n",
    "workflow.add_conditional_edges(\n",
    "    \"agent\",\n",
    "    tools_condition,\n",
    "    {\n",
    "        \"tools\": \"retrieve\",\n",
    "        END: END,\n",
    "    },\n",
    ")\n",
    "\n",
    "workflow.add_conditional_edges(\n",
    "    \"retrieve\",\n",
    "    grade_documents,\n",
    ")\n",
    "workflow.add_edge(\"generate\", END)\n",
    "workflow.add_edge(\"rewrite\", \"agent\")\n",
    "\n",
    "# Compile\n",
    "graph = workflow.compile(checkpointer=MemorySaver())"
   ]
  },
  {
   "cell_type": "code",
   "execution_count": 24,
   "id": "7b5a1d35",
   "metadata": {},
   "outputs": [
    {
     "data": {
      "image/png": "[encoded data removed]",
      "text/plain": [
       "<IPython.core.display.Image object>"
      ]
     },
     "metadata": {},
     "output_type": "display_data"
    }
   ],
   "source": [
    "try:\n",
    "    display(Image(graph.get_graph(xray=True).draw_mermaid_png()))\n",
    "except Exception:\n",
    "    pass"
   ]
  },
  {
   "cell_type": "markdown",
   "id": "6c821e08",
   "metadata": {},
   "source": [
    "# Fifth, define functions for smooth application."
   ]
  },
  {
   "cell_type": "code",
   "execution_count": 25,
   "id": "4cd127f0",
   "metadata": {},
   "outputs": [],
   "source": [
    "def agent_invoke(graph, question, config):\n",
    "    \"\"\"\n",
    "    Invoke the workflow with user question, generate human-friendly metrics and answers.\n",
    "\n",
    "    Args:\n",
    "        graph: The current workflow\n",
    "        question: The user input to invoke the workflow\n",
    "        config: The holder of thread, memory, and LangFuse\n",
    "\n",
    "    Returns:\n",
    "        retriever_counter: how many times the retriever tool is called for this question\n",
    "        rewrite_counter: how many times the question is rewritten, which indicates a failed retrieval\n",
    "        final_message: the answer that can be shown to all audience\n",
    "    \"\"\"\n",
    "    config[\"configurable\"][\"questions\"].append(question)\n",
    "    print(\"config\", config)\n",
    "\n",
    "    retriever_counter = 0\n",
    "    rewrite_counter = 0\n",
    "    final_message = \"\"\n",
    "\n",
    "    inputs = {\n",
    "        \"messages\":[\n",
    "            (\"user\", question)\n",
    "        ]\n",
    "    }\n",
    "\n",
    "    for output in graph.stream(inputs, config=config):\n",
    "        for key, value in output.items():\n",
    "            # For Agent node, output tool call information.\n",
    "            if key == 'agent':\n",
    "                ai_message = value['messages'][0]\n",
    "                if ai_message.tool_calls:\n",
    "                    print(\"Tool calls detected:\")\n",
    "                    for tool_call in ai_message.tool_calls:\n",
    "                        print(f\"Tool Name: {tool_call['name']}\")\n",
    "                        print(f\"Arguments: {tool_call['args']}\")\n",
    "                        print(f\"ID: {tool_call['id']}\")\n",
    "                else:\n",
    "                    print(\"No tool calls in this AI message.\")\n",
    "                    final_message = final_message + value['messages'][0].content\n",
    "            # For retrieve tool node, counter plus.\n",
    "            elif key == 'retrieve':\n",
    "                retriever_counter = retriever_counter + 1\n",
    "            # For rewrite tool node, counter plus.\n",
    "            elif key == 'rewrite':\n",
    "                rewrite_counter = rewrite_counter + 1\n",
    "            # For generate node, record the final human-friendly answer.\n",
    "            elif key == 'generate':\n",
    "                print(\"\\n---END QUESTION---\")\n",
    "                final_message = final_message + value['messages'][0]\n",
    "            else:\n",
    "                pass\n",
    "            print(final_message)\n",
    "    return retriever_counter, rewrite_counter, final_message"
   ]
  },
  {
   "cell_type": "code",
   "execution_count": 26,
   "id": "76a268a8",
   "metadata": {},
   "outputs": [],
   "source": [
    "def deal_with_single_question(logs, graph, question, config):\n",
    "    \"\"\"\n",
    "    Deal with the workflow inputs and outputs, push them into local logging system.\n",
    "\n",
    "    Args:\n",
    "        logs: the list to store key information and metrics for the whole thread\n",
    "        graph: The current workflow\n",
    "        question: The user input to invoke the workflow\n",
    "        config: The holder of thread, memory, and LangFuse\n",
    "    \"\"\"\n",
    "    # Get the current date and time for time stamp.\n",
    "    invoke_datetime = datetime.now().strftime(\"%Y%m%d_%H%M%S\")\n",
    "    retriever_counter, rewrite_counter, final_message = agent_invoke(graph, question, config)\n",
    "    thread_id = config['configurable']['thread_id']\n",
    "    row =  [thread_id, invoke_datetime, question, final_message, retriever_counter, rewrite_counter]\n",
    "    logs.append(row)"
   ]
  },
  {
   "cell_type": "markdown",
   "id": "0eae56c9",
   "metadata": {},
   "source": [
    "# Case Test"
   ]
  },
  {
   "cell_type": "code",
   "execution_count": 27,
   "id": "c5dcc65b",
   "metadata": {},
   "outputs": [],
   "source": [
    "# Put LangFuse Handler when the workflow is invoked.\n",
    "\n",
    "langfuse_handler = CallbackHandler()\n",
    "\n",
    "config = {\"configurable\": {\"thread_id\": \"new-doc\", \"questions\": [], \"callbacks\": [langfuse_handler]}}\n",
    "logs = []"
   ]
  },
  {
   "cell_type": "code",
   "execution_count": 28,
   "id": "28ba6677",
   "metadata": {},
   "outputs": [
    {
     "name": "stdout",
     "output_type": "stream",
     "text": [
      "config {'configurable': {'thread_id': 'new-doc', 'questions': [\"Hi, I'm Alexandra.\"], 'callbacks': [<langfuse.langchain.CallbackHandler.LangchainCallbackHandler object at 0x00000296973A34D0>]}}\n",
      "---CALL AGENT---\n",
      "No tool calls in this AI message.\n",
      "Hello Alexandra! How can I assist you today?\n"
     ]
    }
   ],
   "source": [
    "deal_with_single_question(logs, graph, \"Hi, I'm Alexandra.\", config)"
   ]
  },
  {
   "cell_type": "code",
   "execution_count": 29,
   "id": "0c916ed4",
   "metadata": {},
   "outputs": [
    {
     "name": "stdout",
     "output_type": "stream",
     "text": [
      "config {'configurable': {'thread_id': 'new-doc', 'questions': [\"Hi, I'm Alexandra.\", 'What does Xiaoshi Lu like in spare time?'], 'callbacks': [<langfuse.langchain.CallbackHandler.LangchainCallbackHandler object at 0x00000296973A34D0>]}}\n",
      "---CALL AGENT---\n",
      "Tool calls detected:\n",
      "Tool Name: retrieve_job_seeker\n",
      "Arguments: {'query': 'Xiaoshi Lu hobbies'}\n",
      "ID: call_4HKY4NE1g5cgejHbMM0IbTwo\n",
      "\n",
      "---CHECK RELEVANCE---\n",
      "Original question:\n",
      " What does Xiaoshi Lu like in spare time?\n",
      "---DECISION: DOCS RELEVANT---\n",
      "\n",
      "---GENERATE---\n",
      "Original question:\n",
      " What does Xiaoshi Lu like in spare time?\n",
      "\n",
      "---END QUESTION---\n",
      "Xiaoshi Lu enjoys watching old-style movies, listening to pop music in unfamiliar languages, swimming, and hiking in her spare time.\n"
     ]
    }
   ],
   "source": [
    "deal_with_single_question(logs, graph, \"What does Xiaoshi Lu like in spare time?\", config)\n"
   ]
  },
  {
   "cell_type": "code",
   "execution_count": 30,
   "id": "c0beada9",
   "metadata": {},
   "outputs": [
    {
     "name": "stdout",
     "output_type": "stream",
     "text": [
      "config {'configurable': {'thread_id': 'new-doc', 'questions': [\"Hi, I'm Alexandra.\", 'What does Xiaoshi Lu like in spare time?', \"Tell me something about Xiaoshi Lu's relationship with Dima Bilan\"], 'callbacks': [<langfuse.langchain.CallbackHandler.LangchainCallbackHandler object at 0x00000296973A34D0>]}}\n",
      "---CALL AGENT---\n",
      "Tool calls detected:\n",
      "Tool Name: retrieve_job_seeker\n",
      "Arguments: {'query': 'Xiaoshi Lu relationship with Dima Bilan'}\n",
      "ID: call_MZpvzF9G3QVTfNu34piKf5h1\n",
      "\n",
      "---CHECK RELEVANCE---\n",
      "Original question:\n",
      " Tell me something about Xiaoshi Lu's relationship with Dima Bilan\n",
      "---DECISION: DOCS NOT RELEVANT---\n",
      "\n",
      "---TRANSFORM QUERY---\n",
      "Original question:\n",
      " Tell me something about Xiaoshi Lu's relationship with Dima Bilan\n",
      "Transformed question:\n",
      " What is the nature of the relationship between Xiaoshi Lu and Dima Bilan?\n",
      "\n",
      "---CALL AGENT---\n",
      "No tool calls in this AI message.\n",
      "There is no information available regarding any relationship between Xiaoshi Lu and Dima Bilan. If you have any other questions or need information on a different topic, feel free to ask!\n"
     ]
    }
   ],
   "source": [
    "deal_with_single_question(logs, graph, \"Tell me something about Xiaoshi Lu's relationship with Dima Bilan\", config)"
   ]
  },
  {
   "cell_type": "code",
   "execution_count": 31,
   "id": "35a08541",
   "metadata": {},
   "outputs": [
    {
     "name": "stdout",
     "output_type": "stream",
     "text": [
      "config {'configurable': {'thread_id': 'new-doc', 'questions': [\"Hi, I'm Alexandra.\", 'What does Xiaoshi Lu like in spare time?', \"Tell me something about Xiaoshi Lu's relationship with Dima Bilan\", 'Is Xiaoshi Lu eligible for commenwealth bank job?'], 'callbacks': [<langfuse.langchain.CallbackHandler.LangchainCallbackHandler object at 0x00000296973A34D0>]}}\n",
      "---CALL AGENT---\n",
      "Tool calls detected:\n",
      "Tool Name: retrieve_job_seeker\n",
      "Arguments: {'query': 'Xiaoshi Lu skills and experience'}\n",
      "ID: call_CpmuM1XDYlNvAUay2H8Rk4KA\n",
      "Tool Name: retrieve_job_seeker\n",
      "Arguments: {'query': 'Commonwealth Bank job requirements'}\n",
      "ID: call_KhHiUrPETr0e1hiEBFlwYeo8\n",
      "\n",
      "---CHECK RELEVANCE---\n",
      "Original question:\n",
      " Is Xiaoshi Lu eligible for commenwealth bank job?\n",
      "---DECISION: DOCS NOT RELEVANT---\n",
      "\n",
      "---TRANSFORM QUERY---\n",
      "Original question:\n",
      " Is Xiaoshi Lu eligible for commenwealth bank job?\n",
      "Transformed question:\n",
      " Is Xiaoshi Lu qualified to apply for a position at Commonwealth Bank?\n",
      "\n",
      "---CALL AGENT---\n",
      "No tool calls in this AI message.\n",
      "Xiaoshi Lu appears to be well-qualified for a position at Commonwealth Bank, especially in roles related to data science, machine learning, and AI. Her skills and experience include:\n",
      "\n",
      "- Proficiency in Python and SQL programming.\n",
      "- Expertise in statistical analysis and machine learning.\n",
      "- Experience with big data platforms and tools.\n",
      "- Knowledge of cloud services and MLOps.\n",
      "\n",
      "The job requirements at Commonwealth Bank emphasize a need for candidates with strong backgrounds in data analysis, machine learning, and the ability to work with big data platforms, which aligns well with Xiaoshi's qualifications. Additionally, the bank values inclusion and diversity, which suggests a supportive work environment.\n",
      "\n",
      "Therefore, Xiaoshi Lu should be eligible and potentially a strong candidate for relevant positions at Commonwealth Bank.\n"
     ]
    }
   ],
   "source": [
    "deal_with_single_question(logs, graph, \"Is Xiaoshi Lu eligible for commenwealth bank job?\", config)"
   ]
  },
  {
   "cell_type": "code",
   "execution_count": 32,
   "id": "e2433649",
   "metadata": {},
   "outputs": [
    {
     "name": "stdout",
     "output_type": "stream",
     "text": [
      "config {'configurable': {'thread_id': 'new-doc', 'questions': [\"Hi, I'm Alexandra.\", 'What does Xiaoshi Lu like in spare time?', \"Tell me something about Xiaoshi Lu's relationship with Dima Bilan\", 'Is Xiaoshi Lu eligible for commenwealth bank job?', 'Is Xiaoshi Lu eligible for a role as 20 year experience nuclear engineer?'], 'callbacks': [<langfuse.langchain.CallbackHandler.LangchainCallbackHandler object at 0x00000296973A34D0>]}}\n",
      "---CALL AGENT---\n"
     ]
    },
    {
     "name": "stdout",
     "output_type": "stream",
     "text": [
      "No tool calls in this AI message.\n",
      "Based on the information provided about Xiaoshi Lu, she is a data scientist with 5 years of experience and has expertise in Python, SQL, machine learning, and statistical analysis. There is no indication that she has any experience or qualifications related to nuclear engineering.\n",
      "\n",
      "Given this, Xiaoshi Lu would not be eligible for a role requiring 20 years of experience as a nuclear engineer, as her background and expertise do not align with the requirements for such a position.\n"
     ]
    }
   ],
   "source": [
    "deal_with_single_question(logs, graph, \"Is Xiaoshi Lu eligible for a role as 20 year experience nuclear engineer?\", config)"
   ]
  },
  {
   "cell_type": "code",
   "execution_count": 33,
   "id": "5b093eb8",
   "metadata": {},
   "outputs": [
    {
     "name": "stdout",
     "output_type": "stream",
     "text": [
      "Save log for this thread to logs/new-doc_20250914_182122.csv\n"
     ]
    }
   ],
   "source": [
    "# Transform log to dataframe.\n",
    "log_df = pd.DataFrame(logs)\n",
    "log_df.columns = [\"ThreadID\", \"DateTime\", \"OriginalQuestion\", \"FinalAnswer\", \"RetrieverCount\", \"RewriteCount\"]\n",
    "\n",
    "# Construct the filename with the datetime suffix and thread id.\n",
    "current_time = datetime.now().strftime(\"%Y%m%d_%H%M%S\")\n",
    "thread_id = log_df[\"ThreadID\"].loc[0]\n",
    "filename = f\"logs/{thread_id}_{current_time}.csv\"\n",
    "\n",
    "# Save the DataFrame to CSV file.\n",
    "log_df.to_csv(filename, index=False) \n",
    "print(f\"Save log for this thread to {filename}\")"
   ]
  },
  {
   "cell_type": "code",
   "execution_count": 34,
   "id": "014c98b6",
   "metadata": {},
   "outputs": [
    {
     "name": "stdout",
     "output_type": "stream",
     "text": [
      "The Retrieval Relevant Percentage of this thread is: 0.33\n"
     ]
    }
   ],
   "source": [
    "# Calculate Retrieval Relevant Percentage of the thread.\n",
    "retriever_metrics = pd.DataFrame(log_df[[\"RetrieverCount\", \"RewriteCount\"]].sum())\n",
    "total_retriever_count = retriever_metrics.loc['RetrieverCount', 0]\n",
    "total_rewrite_count = retriever_metrics.loc['RewriteCount', 0]\n",
    "total_accuracy_count = total_retriever_count - total_rewrite_count\n",
    "\n",
    "if total_retriever_count > 0:\n",
    "    print(\"The Retrieval Relevant Percentage of this thread is:\", f\"{total_accuracy_count/total_retriever_count:.2f}\")\n",
    "else:\n",
    "    print(\"No retriever was used in this thread.\")"
   ]
  }
 ],
 "metadata": {
  "kernelspec": {
   "display_name": "Python 3",
   "language": "python",
   "name": "python3"
  },
  "language_info": {
   "codemirror_mode": {
    "name": "ipython",
    "version": 3
   },
   "file_extension": ".py",
   "mimetype": "text/x-python",
   "name": "python",
   "nbconvert_exporter": "python",
   "pygments_lexer": "ipython3",
   "version": "3.13.7"
  }
 },
 "nbformat": 4,
 "nbformat_minor": 5
}
