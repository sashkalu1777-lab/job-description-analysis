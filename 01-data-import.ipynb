{
 "cells": [
  {
   "cell_type": "markdown",
   "id": "9a8220e4",
   "metadata": {},
   "source": [
    "This notebook is used to transfrom JSON file into DataFrame file so that the future data process will be easier.\n",
    "\n",
    "Use manual observation to understand the meaning of data."
   ]
  },
  {
   "cell_type": "code",
   "execution_count": 1,
   "id": "0d2d0489",
   "metadata": {},
   "outputs": [],
   "source": [
    "# Import necessary libraries.\n",
    "import pandas as pd"
   ]
  },
  {
   "cell_type": "code",
   "execution_count": 2,
   "id": "dbfa1e8e",
   "metadata": {},
   "outputs": [],
   "source": [
    "data = pd.read_json(\"data/ads-50k.json\", lines=True)\n",
    "# This is for the conveniece of manual observation.\n",
    "data.to_csv(\"data/ads-50k.csv\", index=False)"
   ]
  },
  {
   "cell_type": "code",
   "execution_count": 3,
   "id": "a5650ce4",
   "metadata": {},
   "outputs": [
    {
     "name": "stdout",
     "output_type": "stream",
     "text": [
      "Columns:\n",
      " Index(['id', 'title', 'abstract', 'content', 'metadata'], dtype='object') \n",
      "\n"
     ]
    },
    {
     "data": {
      "text/html": [
       "<div>\n",
       "<style scoped>\n",
       "    .dataframe tbody tr th:only-of-type {\n",
       "        vertical-align: middle;\n",
       "    }\n",
       "\n",
       "    .dataframe tbody tr th {\n",
       "        vertical-align: top;\n",
       "    }\n",
       "\n",
       "    .dataframe thead th {\n",
       "        text-align: right;\n",
       "    }\n",
       "</style>\n",
       "<table border=\"1\" class=\"dataframe\">\n",
       "  <thead>\n",
       "    <tr style=\"text-align: right;\">\n",
       "      <th></th>\n",
       "      <th>id</th>\n",
       "      <th>title</th>\n",
       "      <th>abstract</th>\n",
       "      <th>content</th>\n",
       "      <th>metadata</th>\n",
       "    </tr>\n",
       "  </thead>\n",
       "  <tbody>\n",
       "    <tr>\n",
       "      <th>0</th>\n",
       "      <td>38915469</td>\n",
       "      <td>Recruitment Consultant</td>\n",
       "      <td>We are looking for someone to focus purely on ...</td>\n",
       "      <td>&lt;HTML&gt;&lt;p&gt;Are you looking to join a thriving bu...</td>\n",
       "      <td>{'standout': {'bullet1': 'Join a Sector that i...</td>\n",
       "    </tr>\n",
       "    <tr>\n",
       "      <th>1</th>\n",
       "      <td>38934839</td>\n",
       "      <td>Computers Salesperson - Coburg</td>\n",
       "      <td>Passionate about exceptional customer service?...</td>\n",
       "      <td>&lt;HTML&gt;&lt;p&gt;&amp;middot;&amp;nbsp;&amp;nbsp;Casual hours as r...</td>\n",
       "      <td>{'additionalSalaryText': 'Attractive Commissio...</td>\n",
       "    </tr>\n",
       "    <tr>\n",
       "      <th>2</th>\n",
       "      <td>38946054</td>\n",
       "      <td>Senior Developer | SA</td>\n",
       "      <td>Readifarians are known for discovering the lat...</td>\n",
       "      <td>&lt;HTML&gt;&lt;p&gt;Readify helps organizations innovate ...</td>\n",
       "      <td>{'standout': {'bullet1': 'Design, develop, tes...</td>\n",
       "    </tr>\n",
       "    <tr>\n",
       "      <th>3</th>\n",
       "      <td>38833950</td>\n",
       "      <td>Senior Commercial Property Manager | Leading T...</td>\n",
       "      <td>~ Rare opportunity for a Senior PM to step int...</td>\n",
       "      <td>&lt;HTML&gt;&lt;p&gt;&lt;strong&gt;WayPoint Recruitment&amp;nbsp;&lt;/s...</td>\n",
       "      <td>{'additionalSalaryText': '$140k + Car Park - C...</td>\n",
       "    </tr>\n",
       "    <tr>\n",
       "      <th>4</th>\n",
       "      <td>38856271</td>\n",
       "      <td>Technology Manager | Travel Industry</td>\n",
       "      <td>Rare opportunity for an experienced Technology...</td>\n",
       "      <td>&lt;HTML&gt;This is a key role within a market leadi...</td>\n",
       "      <td>{'standout': {'bullet1': 'Lead overarching str...</td>\n",
       "    </tr>\n",
       "  </tbody>\n",
       "</table>\n",
       "</div>"
      ],
      "text/plain": [
       "         id                                              title  \\\n",
       "0  38915469                             Recruitment Consultant   \n",
       "1  38934839                     Computers Salesperson - Coburg   \n",
       "2  38946054                              Senior Developer | SA   \n",
       "3  38833950  Senior Commercial Property Manager | Leading T...   \n",
       "4  38856271               Technology Manager | Travel Industry   \n",
       "\n",
       "                                            abstract  \\\n",
       "0  We are looking for someone to focus purely on ...   \n",
       "1  Passionate about exceptional customer service?...   \n",
       "2  Readifarians are known for discovering the lat...   \n",
       "3  ~ Rare opportunity for a Senior PM to step int...   \n",
       "4  Rare opportunity for an experienced Technology...   \n",
       "\n",
       "                                             content  \\\n",
       "0  <HTML><p>Are you looking to join a thriving bu...   \n",
       "1  <HTML><p>&middot;&nbsp;&nbsp;Casual hours as r...   \n",
       "2  <HTML><p>Readify helps organizations innovate ...   \n",
       "3  <HTML><p><strong>WayPoint Recruitment&nbsp;</s...   \n",
       "4  <HTML>This is a key role within a market leadi...   \n",
       "\n",
       "                                            metadata  \n",
       "0  {'standout': {'bullet1': 'Join a Sector that i...  \n",
       "1  {'additionalSalaryText': 'Attractive Commissio...  \n",
       "2  {'standout': {'bullet1': 'Design, develop, tes...  \n",
       "3  {'additionalSalaryText': '$140k + Car Park - C...  \n",
       "4  {'standout': {'bullet1': 'Lead overarching str...  "
      ]
     },
     "execution_count": 3,
     "metadata": {},
     "output_type": "execute_result"
    }
   ],
   "source": [
    "print(\"Columns:\\n\", data.columns, \"\\n\")\n",
    "data.head()"
   ]
  },
  {
   "cell_type": "code",
   "execution_count": 4,
   "id": "0282a88b",
   "metadata": {},
   "outputs": [
    {
     "name": "stdout",
     "output_type": "stream",
     "text": [
      "Shape:\n",
      " (50000, 5)\n"
     ]
    }
   ],
   "source": [
    "print(\"Shape:\\n\", data.shape)"
   ]
  },
  {
   "cell_type": "code",
   "execution_count": 5,
   "id": "91495de9",
   "metadata": {},
   "outputs": [],
   "source": [
    "# Randomly sample 50 rows for manual observation.\n",
    "random_rows = data.sample(n=50)\n",
    "# random_rows.to_csv(\"data/random_rows.csv\", index=False)"
   ]
  },
  {
   "cell_type": "markdown",
   "id": "67c428a5",
   "metadata": {},
   "source": [
    "After checking, the skills and responsibilities are in the \"content\", while classification, subClassification', area, location, workType are in \"metadata\"."
   ]
  },
  {
   "cell_type": "code",
   "execution_count": 6,
   "id": "07d1b875",
   "metadata": {},
   "outputs": [
    {
     "data": {
      "text/plain": [
       "'<HTML><p>&nbsp;</p>\\n<ul>\\n<li><strong>Be a part of Australia\\'s independent national broadcaster</strong></li>\\n<li><strong>$101K -&nbsp;$112K p.a. + choice of 15.4% super</strong></li>\\n<li><strong>Location: Brisbane, QLD</strong></li>\\n</ul>\\n<p><strong>About the ABC</strong></p>\\n<p>The ABC is the nation\\'s most trusted and independent source of Australian conversations, culture, and stories. With over 4,000 employees from diverse backgrounds&nbsp;based in&nbsp;more than 50 locations around Australia and overseas, the ABC is proud to create, curate and deliver high-quality content that informs, educates and entertains.</p>\\n<p><strong>About ABC Regional &amp; Local</strong></p>\\n<p>The ABC Regional &amp; Local team is about Australian communities and conversations.&nbsp;&nbsp;We make distinctive stories and events that connect communities and shape lives. &nbsp;We are about real people, real places and real life. &nbsp;We have eight capital city radio stations and a network of 44 regional bureaux across Australia. &nbsp;Our Sport and Live Events team focuses on regional and local content for all our platforms, including TV, Radio and online.</p>\\n<p><strong>About the Role</strong></p>\\n<p>ABC&nbsp;Regional&nbsp;&amp; Local&nbsp;is seeking a&nbsp;Content Director&nbsp;to drive editorial planning and content gathering for ABC Radio Brisbane across multiple platforms. This is a key role creating content that aligns with ABC strategy and supports the achievement of Regional &amp; Local&rsquo;s objectives.</p>\\n<p>Reporting to the Local Manager, you will:</p>\\n<ul>\\n<li>Provide editorial leadership in planning and production to create distinctive and compelling content.</li>\\n<li>Develop the team, providing feedback and training to foster a creative, collaborative and high-performance culture.</li>\\n<li>Exercise substantial autonomy in the management of staff &amp; resources.</li>\\n<li>Collaborate with other ABC teams to identify, plan and deliver local community activities&nbsp;that build audience reach and engagement.</li>\\n<li>Identify local content that can be shared with other content teams in Regional &amp; Local and across the ABC on multiple platforms.</li>\\n<li>Manage the implementation of the Local Emergency Coverage plan and communicate with relevant stakeholders as required.</li>\\n</ul>\\n<p><strong>About You</strong></p>\\n<p>With strong editorial skills including the ability to source and analyse information and exercise reliable judgement together with people leadership experience, you will bring to this role:</p>\\n<ul>\\n<li>A strong understanding of the issues that affect and interest the local audience.</li>\\n<li>Demonstrated experience in building an inclusive and supportive culture where diversity is valued; and a</li>\\n<li>Passion to source and create authentic local&nbsp;content which represents the broad diversity of the Australian community.</li>\\n</ul>\\n<p><strong>How to Apply</strong></p>\\n<p>Please complete the online application form and submit as part of your application a Cover Letter and Resume.</p>\\n<p>For an overview of the role, please refer to the position description: &nbsp;<a href=\"https://secure.dc2.pageuppeople.com/apply/TransferRichTextFile.ashx?sData=UFUtVjMt6dhYzGGBrzG1WOFbCMClr7ox-fj4rHVw-FF7if6nQcPJofNUuqgy4X3ghLxcGMyR9RC6QkFj0NnsJdZzs4NSD7xzkq0-PnxWJd8OggrSnFQb2TCe-SLxMpyWose1eqRMbxxk0kQBFBOPRV5z-umOGw%7e%7e\" target=\"_blank\">30002584 CONTENT DIRECTOR BRISBANE PD.pdf</a></p>\\n<p><strong>For further information please contact&nbsp;Simon Scoble, Local Manager on 07 3377 5277</strong></p>\\n<p><strong>Applications Close: 11:55 pm,&nbsp;22 May 2019</strong></p>\\n<p><strong>For more information on working at the ABC&nbsp;visit </strong><a href=\"http://www.abc.net.au/careers/\" target=\"_blank\"><strong>abc.net.au/careers</strong></a></p>\\n<p><strong>We respectfully request that Recruitment Agencies do not submit applications for this position.</strong></p>\\n<p><em>The ABC strives for equity and diversity in the workplace, and to promote a culture of opportunity. Through its services the ABC seeks to represent, connect and engage with all of the Australian community. In line with our focus on&nbsp;diversity, applications are strongly encouraged from Indigenous Australians, people from a range of cultural and linguistic backgrounds and people with disabilities. The ABC also aims to achieve a gender-balanced workforce.</em></p></HTML>'"
      ]
     },
     "execution_count": 6,
     "metadata": {},
     "output_type": "execute_result"
    }
   ],
   "source": [
    "# Content is in the 3rd column. A long string.\n",
    "random_rows.iloc[1,3]"
   ]
  },
  {
   "cell_type": "code",
   "execution_count": 7,
   "id": "27330a55",
   "metadata": {},
   "outputs": [
    {
     "data": {
      "text/plain": [
       "{'additionalSalaryText': '$101K - $112K p.a. + choice of 15.4% super',\n",
       " 'classification': {'name': 'Government & Defence'},\n",
       " 'subClassification': {'name': 'Government - Federal'},\n",
       " 'location': {'name': 'Brisbane'},\n",
       " 'workType': {'name': 'Full Time'}}"
      ]
     },
     "execution_count": 7,
     "metadata": {},
     "output_type": "execute_result"
    }
   ],
   "source": [
    "# Metadata is in the 4th column.\n",
    "random_rows.iloc[1,4]"
   ]
  }
 ],
 "metadata": {
  "kernelspec": {
   "display_name": "Python 3",
   "language": "python",
   "name": "python3"
  },
  "language_info": {
   "codemirror_mode": {
    "name": "ipython",
    "version": 3
   },
   "file_extension": ".py",
   "mimetype": "text/x-python",
   "name": "python",
   "nbconvert_exporter": "python",
   "pygments_lexer": "ipython3",
   "version": "3.13.9"
  }
 },
 "nbformat": 4,
 "nbformat_minor": 5
}
