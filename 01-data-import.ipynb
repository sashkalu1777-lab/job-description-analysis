{
 "cells": [
  {
   "cell_type": "markdown",
   "id": "9a8220e4",
   "metadata": {},
   "source": [
    "# Import Data and Manually Observe Basic Features."
   ]
  },
  {
   "cell_type": "markdown",
   "id": "122d4f3e",
   "metadata": {},
   "source": [
    "Import necessary libraries."
   ]
  },
  {
   "cell_type": "code",
   "execution_count": 1,
   "id": "0d2d0489",
   "metadata": {},
   "outputs": [],
   "source": [
    "import pandas as pd"
   ]
  },
  {
   "cell_type": "markdown",
   "id": "cbe14158",
   "metadata": {},
   "source": [
    "Save original data as dataframe and CSV file for future reference."
   ]
  },
  {
   "cell_type": "code",
   "execution_count": 2,
   "id": "81bde965",
   "metadata": {},
   "outputs": [],
   "source": [
    "data = pd.read_json(\"data/ads-50k.json\", lines=True)\n",
    "# # No need to resave the CSV file every running.\n",
    "# data.to_csv(\"data/ads-50k.csv\", index=False)"
   ]
  },
  {
   "cell_type": "markdown",
   "id": "dd69ca29",
   "metadata": {},
   "source": [
    "Check original data structure."
   ]
  },
  {
   "cell_type": "code",
   "execution_count": 3,
   "id": "a5650ce4",
   "metadata": {},
   "outputs": [
    {
     "name": "stdout",
     "output_type": "stream",
     "text": [
      "Columns:\n",
      " Index(['id', 'title', 'abstract', 'content', 'metadata'], dtype='object') \n",
      "\n",
      "Shape:\n",
      " (50000, 5) \n",
      "\n"
     ]
    },
    {
     "data": {
      "text/html": [
       "<div>\n",
       "<style scoped>\n",
       "    .dataframe tbody tr th:only-of-type {\n",
       "        vertical-align: middle;\n",
       "    }\n",
       "\n",
       "    .dataframe tbody tr th {\n",
       "        vertical-align: top;\n",
       "    }\n",
       "\n",
       "    .dataframe thead th {\n",
       "        text-align: right;\n",
       "    }\n",
       "</style>\n",
       "<table border=\"1\" class=\"dataframe\">\n",
       "  <thead>\n",
       "    <tr style=\"text-align: right;\">\n",
       "      <th></th>\n",
       "      <th>id</th>\n",
       "      <th>title</th>\n",
       "      <th>abstract</th>\n",
       "      <th>content</th>\n",
       "      <th>metadata</th>\n",
       "    </tr>\n",
       "  </thead>\n",
       "  <tbody>\n",
       "    <tr>\n",
       "      <th>0</th>\n",
       "      <td>38915469</td>\n",
       "      <td>Recruitment Consultant</td>\n",
       "      <td>We are looking for someone to focus purely on ...</td>\n",
       "      <td>&lt;HTML&gt;&lt;p&gt;Are you looking to join a thriving bu...</td>\n",
       "      <td>{'standout': {'bullet1': 'Join a Sector that i...</td>\n",
       "    </tr>\n",
       "    <tr>\n",
       "      <th>1</th>\n",
       "      <td>38934839</td>\n",
       "      <td>Computers Salesperson - Coburg</td>\n",
       "      <td>Passionate about exceptional customer service?...</td>\n",
       "      <td>&lt;HTML&gt;&lt;p&gt;&amp;middot;&amp;nbsp;&amp;nbsp;Casual hours as r...</td>\n",
       "      <td>{'additionalSalaryText': 'Attractive Commissio...</td>\n",
       "    </tr>\n",
       "    <tr>\n",
       "      <th>2</th>\n",
       "      <td>38946054</td>\n",
       "      <td>Senior Developer | SA</td>\n",
       "      <td>Readifarians are known for discovering the lat...</td>\n",
       "      <td>&lt;HTML&gt;&lt;p&gt;Readify helps organizations innovate ...</td>\n",
       "      <td>{'standout': {'bullet1': 'Design, develop, tes...</td>\n",
       "    </tr>\n",
       "    <tr>\n",
       "      <th>3</th>\n",
       "      <td>38833950</td>\n",
       "      <td>Senior Commercial Property Manager | Leading T...</td>\n",
       "      <td>~ Rare opportunity for a Senior PM to step int...</td>\n",
       "      <td>&lt;HTML&gt;&lt;p&gt;&lt;strong&gt;WayPoint Recruitment&amp;nbsp;&lt;/s...</td>\n",
       "      <td>{'additionalSalaryText': '$140k + Car Park - C...</td>\n",
       "    </tr>\n",
       "    <tr>\n",
       "      <th>4</th>\n",
       "      <td>38856271</td>\n",
       "      <td>Technology Manager | Travel Industry</td>\n",
       "      <td>Rare opportunity for an experienced Technology...</td>\n",
       "      <td>&lt;HTML&gt;This is a key role within a market leadi...</td>\n",
       "      <td>{'standout': {'bullet1': 'Lead overarching str...</td>\n",
       "    </tr>\n",
       "  </tbody>\n",
       "</table>\n",
       "</div>"
      ],
      "text/plain": [
       "         id                                              title  \\\n",
       "0  38915469                             Recruitment Consultant   \n",
       "1  38934839                     Computers Salesperson - Coburg   \n",
       "2  38946054                              Senior Developer | SA   \n",
       "3  38833950  Senior Commercial Property Manager | Leading T...   \n",
       "4  38856271               Technology Manager | Travel Industry   \n",
       "\n",
       "                                            abstract  \\\n",
       "0  We are looking for someone to focus purely on ...   \n",
       "1  Passionate about exceptional customer service?...   \n",
       "2  Readifarians are known for discovering the lat...   \n",
       "3  ~ Rare opportunity for a Senior PM to step int...   \n",
       "4  Rare opportunity for an experienced Technology...   \n",
       "\n",
       "                                             content  \\\n",
       "0  <HTML><p>Are you looking to join a thriving bu...   \n",
       "1  <HTML><p>&middot;&nbsp;&nbsp;Casual hours as r...   \n",
       "2  <HTML><p>Readify helps organizations innovate ...   \n",
       "3  <HTML><p><strong>WayPoint Recruitment&nbsp;</s...   \n",
       "4  <HTML>This is a key role within a market leadi...   \n",
       "\n",
       "                                            metadata  \n",
       "0  {'standout': {'bullet1': 'Join a Sector that i...  \n",
       "1  {'additionalSalaryText': 'Attractive Commissio...  \n",
       "2  {'standout': {'bullet1': 'Design, develop, tes...  \n",
       "3  {'additionalSalaryText': '$140k + Car Park - C...  \n",
       "4  {'standout': {'bullet1': 'Lead overarching str...  "
      ]
     },
     "execution_count": 3,
     "metadata": {},
     "output_type": "execute_result"
    }
   ],
   "source": [
    "print(\"Columns:\\n\", data.columns, \"\\n\")\n",
    "print(\"Shape:\\n\", data.shape, \"\\n\")\n",
    "data.head()"
   ]
  },
  {
   "cell_type": "markdown",
   "id": "eed01bcb",
   "metadata": {},
   "source": [
    "Randomly sample 50 rows for manual observation."
   ]
  },
  {
   "cell_type": "code",
   "execution_count": null,
   "id": "91495de9",
   "metadata": {},
   "outputs": [],
   "source": [
    "random_rows = data.sample(n=50, random_state=42)\n",
    "# # Save the sample document for future reference.\n",
    "# random_rows.to_csv(\"data/random_rows.csv\", index=False)"
   ]
  },
  {
   "cell_type": "markdown",
   "id": "67c428a5",
   "metadata": {},
   "source": [
    "After checking, the skills and responsibilities are in the \"content\", while classification, subClassification, area, location, workType are in \"metadata\"."
   ]
  },
  {
   "cell_type": "code",
   "execution_count": 5,
   "id": "07d1b875",
   "metadata": {},
   "outputs": [
    {
     "data": {
      "text/plain": [
       "'<HTML><p><strong>About the Company</strong></p> <p>With a diverse and distinct range of operations the Grove Group are an industry leader when it comes to modular and relocatable buildings. Over three decades, we have completed many landmark construction projects including multi-level modular design and builds.</p> <p>Operating along the eastern seaboard of Australia, the Grove Group manufacture, hire and install a variety of portable buildings for a range of different applications. With a reputation for quality and innovation, we ensure our product and services are industry leading.</p> <p>&nbsp;</p> <p><strong>About the Role</strong></p> <p>Due to continued growth and a desire to drive specialisation within our business we have an exciting opportunity for a Construction Manager to join our team.&nbsp; This is a newly created role that will see you report to the Construction Director.</p> <p style=\"text-align: justify;\">You will be fully responsible for the construction and installation of key RAS projects and will liaise with clients and develop key stakeholder relationships. Your team will include Project Managers, Site Supervisors with Design capability. You will plan, direct and coordinate construction activities&nbsp;across&nbsp;projects in your remit and ensure&nbsp;robust policies and procedures are in place to identify and rectify variances in a timely manner.&nbsp;&nbsp;</p> <p><strong>Key activities include:&nbsp;&nbsp;&nbsp; </strong></p> <ul> <li>Deliver the agreed project requirements and targets in a timely and safe manner</li> <li>Supervision of all Projects / Project Managers / Site Staff&nbsp;&nbsp;</li> <li>Overall project planning, organisation and administration</li> <li>Negotiating and communicating with clients and joint venture partners</li> <li>Financial performance and budgeting</li> <li>People, safety, quality, environment and industrial matters</li></ul> <p>&nbsp;</p> <p><strong>About You</strong></p> <p>It is essential you have Bachelor qualifications in Construction or a related field. Modular building experience is an advantage but not essential, however your experience in successfully managing a business unit within the construction sector of a similar scale is critical.</p> <p>Professional and confident communication skills that will enable you to build and maintain both internal and external stakeholder relationships are also important.</p> <p><strong>Your skills and experience:&nbsp;</strong></p> <ul> <li>Proven experience in successfully delivering construction projects</li> <li>Experience working in and managing geographically dispersed teams</li> <li>Operating within Safety, Quality and Environmental management systems</li></ul> <p>If you can see yourself in this role and you would like to work for a well-established company with high-growth potential and great market awareness and contribute to the ongoing success of Grove, then please apply now.</p> <p>&nbsp;</p></HTML>'"
      ]
     },
     "execution_count": 5,
     "metadata": {},
     "output_type": "execute_result"
    }
   ],
   "source": [
    "# Content is in the 3rd column. A long string with HTML format.\n",
    "random_rows.iloc[1,3]"
   ]
  },
  {
   "cell_type": "code",
   "execution_count": 6,
   "id": "27330a55",
   "metadata": {},
   "outputs": [
    {
     "data": {
      "text/plain": [
       "{'standout': {'bullet1': 'Newly created role',\n",
       "  'bullet2': 'Build your team',\n",
       "  'bullet3': 'Well established business with high growth potential'},\n",
       " 'classification': {'name': 'Construction'},\n",
       " 'subClassification': {'name': 'Management'},\n",
       " 'area': {'name': 'Bayside & South Eastern Suburbs'},\n",
       " 'location': {'name': 'Melbourne'},\n",
       " 'suburb': {'name': 'Dandenong'},\n",
       " 'workType': {'name': 'Full Time'}}"
      ]
     },
     "execution_count": 6,
     "metadata": {},
     "output_type": "execute_result"
    }
   ],
   "source": [
    "# Metadata is in the 4th column. A long string with dictionary format.\n",
    "random_rows.iloc[1,4]"
   ]
  }
 ],
 "metadata": {
  "kernelspec": {
   "display_name": "Python 3",
   "language": "python",
   "name": "python3"
  },
  "language_info": {
   "codemirror_mode": {
    "name": "ipython",
    "version": 3
   },
   "file_extension": ".py",
   "mimetype": "text/x-python",
   "name": "python",
   "nbconvert_exporter": "python",
   "pygments_lexer": "ipython3",
   "version": "3.13.9"
  }
 },
 "nbformat": 4,
 "nbformat_minor": 5
}
